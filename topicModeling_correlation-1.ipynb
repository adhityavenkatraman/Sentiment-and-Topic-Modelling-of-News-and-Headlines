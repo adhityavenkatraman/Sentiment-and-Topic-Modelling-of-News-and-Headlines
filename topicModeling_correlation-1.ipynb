{
 "cells": [
  {
   "cell_type": "code",
   "execution_count": 2,
   "metadata": {},
   "outputs": [],
   "source": [
    "# https://ourcodingclub.github.io/tutorials/topic-modelling-python/\n",
    "import pandas as pd\n",
    "import numpy as np\n",
    "import matplotlib.pyplot as plt\n",
    "import seaborn as sns\n",
    "\n",
    "# model building package\n",
    "import sklearn\n",
    "\n",
    "# package to clean text\n",
    "import re"
   ]
  },
  {
   "cell_type": "code",
   "execution_count": 3,
   "metadata": {},
   "outputs": [
    {
     "ename": "FileNotFoundError",
     "evalue": "File b'top10_tweets_2020_2019.csv' does not exist",
     "output_type": "error",
     "traceback": [
      "\u001b[1;31m---------------------------------------------------------------------------\u001b[0m",
      "\u001b[1;31mFileNotFoundError\u001b[0m                         Traceback (most recent call last)",
      "\u001b[1;32m<ipython-input-3-33f273513cfe>\u001b[0m in \u001b[0;36m<module>\u001b[1;34m()\u001b[0m\n\u001b[1;32m----> 1\u001b[1;33m \u001b[0mdf\u001b[0m \u001b[1;33m=\u001b[0m \u001b[0mpd\u001b[0m\u001b[1;33m.\u001b[0m\u001b[0mread_csv\u001b[0m\u001b[1;33m(\u001b[0m\u001b[1;34m\"top10_tweets_2020_2019.csv\"\u001b[0m\u001b[1;33m)\u001b[0m\u001b[1;33m\u001b[0m\u001b[0m\n\u001b[0m\u001b[0;32m      2\u001b[0m \u001b[0mdf\u001b[0m\u001b[1;33m.\u001b[0m\u001b[0mhead\u001b[0m\u001b[1;33m(\u001b[0m\u001b[1;33m)\u001b[0m\u001b[1;33m\u001b[0m\u001b[0m\n",
      "\u001b[1;32m~\\Anaconda3\\lib\\site-packages\\pandas\\io\\parsers.py\u001b[0m in \u001b[0;36mparser_f\u001b[1;34m(filepath_or_buffer, sep, delimiter, header, names, index_col, usecols, squeeze, prefix, mangle_dupe_cols, dtype, engine, converters, true_values, false_values, skipinitialspace, skiprows, nrows, na_values, keep_default_na, na_filter, verbose, skip_blank_lines, parse_dates, infer_datetime_format, keep_date_col, date_parser, dayfirst, iterator, chunksize, compression, thousands, decimal, lineterminator, quotechar, quoting, escapechar, comment, encoding, dialect, tupleize_cols, error_bad_lines, warn_bad_lines, skipfooter, doublequote, delim_whitespace, low_memory, memory_map, float_precision)\u001b[0m\n\u001b[0;32m    676\u001b[0m                     skip_blank_lines=skip_blank_lines)\n\u001b[0;32m    677\u001b[0m \u001b[1;33m\u001b[0m\u001b[0m\n\u001b[1;32m--> 678\u001b[1;33m         \u001b[1;32mreturn\u001b[0m \u001b[0m_read\u001b[0m\u001b[1;33m(\u001b[0m\u001b[0mfilepath_or_buffer\u001b[0m\u001b[1;33m,\u001b[0m \u001b[0mkwds\u001b[0m\u001b[1;33m)\u001b[0m\u001b[1;33m\u001b[0m\u001b[0m\n\u001b[0m\u001b[0;32m    679\u001b[0m \u001b[1;33m\u001b[0m\u001b[0m\n\u001b[0;32m    680\u001b[0m     \u001b[0mparser_f\u001b[0m\u001b[1;33m.\u001b[0m\u001b[0m__name__\u001b[0m \u001b[1;33m=\u001b[0m \u001b[0mname\u001b[0m\u001b[1;33m\u001b[0m\u001b[0m\n",
      "\u001b[1;32m~\\Anaconda3\\lib\\site-packages\\pandas\\io\\parsers.py\u001b[0m in \u001b[0;36m_read\u001b[1;34m(filepath_or_buffer, kwds)\u001b[0m\n\u001b[0;32m    438\u001b[0m \u001b[1;33m\u001b[0m\u001b[0m\n\u001b[0;32m    439\u001b[0m     \u001b[1;31m# Create the parser.\u001b[0m\u001b[1;33m\u001b[0m\u001b[1;33m\u001b[0m\u001b[0m\n\u001b[1;32m--> 440\u001b[1;33m     \u001b[0mparser\u001b[0m \u001b[1;33m=\u001b[0m \u001b[0mTextFileReader\u001b[0m\u001b[1;33m(\u001b[0m\u001b[0mfilepath_or_buffer\u001b[0m\u001b[1;33m,\u001b[0m \u001b[1;33m**\u001b[0m\u001b[0mkwds\u001b[0m\u001b[1;33m)\u001b[0m\u001b[1;33m\u001b[0m\u001b[0m\n\u001b[0m\u001b[0;32m    441\u001b[0m \u001b[1;33m\u001b[0m\u001b[0m\n\u001b[0;32m    442\u001b[0m     \u001b[1;32mif\u001b[0m \u001b[0mchunksize\u001b[0m \u001b[1;32mor\u001b[0m \u001b[0miterator\u001b[0m\u001b[1;33m:\u001b[0m\u001b[1;33m\u001b[0m\u001b[0m\n",
      "\u001b[1;32m~\\Anaconda3\\lib\\site-packages\\pandas\\io\\parsers.py\u001b[0m in \u001b[0;36m__init__\u001b[1;34m(self, f, engine, **kwds)\u001b[0m\n\u001b[0;32m    785\u001b[0m             \u001b[0mself\u001b[0m\u001b[1;33m.\u001b[0m\u001b[0moptions\u001b[0m\u001b[1;33m[\u001b[0m\u001b[1;34m'has_index_names'\u001b[0m\u001b[1;33m]\u001b[0m \u001b[1;33m=\u001b[0m \u001b[0mkwds\u001b[0m\u001b[1;33m[\u001b[0m\u001b[1;34m'has_index_names'\u001b[0m\u001b[1;33m]\u001b[0m\u001b[1;33m\u001b[0m\u001b[0m\n\u001b[0;32m    786\u001b[0m \u001b[1;33m\u001b[0m\u001b[0m\n\u001b[1;32m--> 787\u001b[1;33m         \u001b[0mself\u001b[0m\u001b[1;33m.\u001b[0m\u001b[0m_make_engine\u001b[0m\u001b[1;33m(\u001b[0m\u001b[0mself\u001b[0m\u001b[1;33m.\u001b[0m\u001b[0mengine\u001b[0m\u001b[1;33m)\u001b[0m\u001b[1;33m\u001b[0m\u001b[0m\n\u001b[0m\u001b[0;32m    788\u001b[0m \u001b[1;33m\u001b[0m\u001b[0m\n\u001b[0;32m    789\u001b[0m     \u001b[1;32mdef\u001b[0m \u001b[0mclose\u001b[0m\u001b[1;33m(\u001b[0m\u001b[0mself\u001b[0m\u001b[1;33m)\u001b[0m\u001b[1;33m:\u001b[0m\u001b[1;33m\u001b[0m\u001b[0m\n",
      "\u001b[1;32m~\\Anaconda3\\lib\\site-packages\\pandas\\io\\parsers.py\u001b[0m in \u001b[0;36m_make_engine\u001b[1;34m(self, engine)\u001b[0m\n\u001b[0;32m   1012\u001b[0m     \u001b[1;32mdef\u001b[0m \u001b[0m_make_engine\u001b[0m\u001b[1;33m(\u001b[0m\u001b[0mself\u001b[0m\u001b[1;33m,\u001b[0m \u001b[0mengine\u001b[0m\u001b[1;33m=\u001b[0m\u001b[1;34m'c'\u001b[0m\u001b[1;33m)\u001b[0m\u001b[1;33m:\u001b[0m\u001b[1;33m\u001b[0m\u001b[0m\n\u001b[0;32m   1013\u001b[0m         \u001b[1;32mif\u001b[0m \u001b[0mengine\u001b[0m \u001b[1;33m==\u001b[0m \u001b[1;34m'c'\u001b[0m\u001b[1;33m:\u001b[0m\u001b[1;33m\u001b[0m\u001b[0m\n\u001b[1;32m-> 1014\u001b[1;33m             \u001b[0mself\u001b[0m\u001b[1;33m.\u001b[0m\u001b[0m_engine\u001b[0m \u001b[1;33m=\u001b[0m \u001b[0mCParserWrapper\u001b[0m\u001b[1;33m(\u001b[0m\u001b[0mself\u001b[0m\u001b[1;33m.\u001b[0m\u001b[0mf\u001b[0m\u001b[1;33m,\u001b[0m \u001b[1;33m**\u001b[0m\u001b[0mself\u001b[0m\u001b[1;33m.\u001b[0m\u001b[0moptions\u001b[0m\u001b[1;33m)\u001b[0m\u001b[1;33m\u001b[0m\u001b[0m\n\u001b[0m\u001b[0;32m   1015\u001b[0m         \u001b[1;32melse\u001b[0m\u001b[1;33m:\u001b[0m\u001b[1;33m\u001b[0m\u001b[0m\n\u001b[0;32m   1016\u001b[0m             \u001b[1;32mif\u001b[0m \u001b[0mengine\u001b[0m \u001b[1;33m==\u001b[0m \u001b[1;34m'python'\u001b[0m\u001b[1;33m:\u001b[0m\u001b[1;33m\u001b[0m\u001b[0m\n",
      "\u001b[1;32m~\\Anaconda3\\lib\\site-packages\\pandas\\io\\parsers.py\u001b[0m in \u001b[0;36m__init__\u001b[1;34m(self, src, **kwds)\u001b[0m\n\u001b[0;32m   1706\u001b[0m         \u001b[0mkwds\u001b[0m\u001b[1;33m[\u001b[0m\u001b[1;34m'usecols'\u001b[0m\u001b[1;33m]\u001b[0m \u001b[1;33m=\u001b[0m \u001b[0mself\u001b[0m\u001b[1;33m.\u001b[0m\u001b[0musecols\u001b[0m\u001b[1;33m\u001b[0m\u001b[0m\n\u001b[0;32m   1707\u001b[0m \u001b[1;33m\u001b[0m\u001b[0m\n\u001b[1;32m-> 1708\u001b[1;33m         \u001b[0mself\u001b[0m\u001b[1;33m.\u001b[0m\u001b[0m_reader\u001b[0m \u001b[1;33m=\u001b[0m \u001b[0mparsers\u001b[0m\u001b[1;33m.\u001b[0m\u001b[0mTextReader\u001b[0m\u001b[1;33m(\u001b[0m\u001b[0msrc\u001b[0m\u001b[1;33m,\u001b[0m \u001b[1;33m**\u001b[0m\u001b[0mkwds\u001b[0m\u001b[1;33m)\u001b[0m\u001b[1;33m\u001b[0m\u001b[0m\n\u001b[0m\u001b[0;32m   1709\u001b[0m \u001b[1;33m\u001b[0m\u001b[0m\n\u001b[0;32m   1710\u001b[0m         \u001b[0mpassed_names\u001b[0m \u001b[1;33m=\u001b[0m \u001b[0mself\u001b[0m\u001b[1;33m.\u001b[0m\u001b[0mnames\u001b[0m \u001b[1;32mis\u001b[0m \u001b[1;32mNone\u001b[0m\u001b[1;33m\u001b[0m\u001b[0m\n",
      "\u001b[1;32mpandas\\_libs\\parsers.pyx\u001b[0m in \u001b[0;36mpandas._libs.parsers.TextReader.__cinit__\u001b[1;34m()\u001b[0m\n",
      "\u001b[1;32mpandas\\_libs\\parsers.pyx\u001b[0m in \u001b[0;36mpandas._libs.parsers.TextReader._setup_parser_source\u001b[1;34m()\u001b[0m\n",
      "\u001b[1;31mFileNotFoundError\u001b[0m: File b'top10_tweets_2020_2019.csv' does not exist"
     ]
    }
   ],
   "source": [
    "df = pd.read_csv(\"top10_tweets_2020_2019.csv\")\n",
    "df.head()"
   ]
  },
  {
   "cell_type": "code",
   "execution_count": null,
   "metadata": {},
   "outputs": [],
   "source": [
    "# make a new column to highlight retweets\n",
    "df['is_retweet'] = df['text'].apply(lambda x: x[:2]=='RT')\n",
    "df['is_retweet'].sum()  # number of retweets"
   ]
  },
  {
   "cell_type": "code",
   "execution_count": null,
   "metadata": {},
   "outputs": [],
   "source": [
    "# number of unique retweets\n",
    "df.loc[df['is_retweet']].text.unique().size"
   ]
  },
  {
   "cell_type": "code",
   "execution_count": 141,
   "metadata": {},
   "outputs": [
    {
     "name": "stderr",
     "output_type": "stream",
     "text": [
      "/usr/local/lib/python3.7/site-packages/ipykernel/ipkernel.py:287: DeprecationWarning: `should_run_async` will not call `transform_cell` automatically in the future. Please pass the result to `transformed_cell` argument and any exception that happen during thetransform in `preprocessing_exc_tuple` in IPython 7.17 and above.\n",
      "  and should_run_async(code)\n"
     ]
    },
    {
     "data": {
      "text/html": [
       "<div>\n",
       "<style scoped>\n",
       "    .dataframe tbody tr th:only-of-type {\n",
       "        vertical-align: middle;\n",
       "    }\n",
       "\n",
       "    .dataframe tbody tr th {\n",
       "        vertical-align: top;\n",
       "    }\n",
       "\n",
       "    .dataframe thead th {\n",
       "        text-align: right;\n",
       "    }\n",
       "</style>\n",
       "<table border=\"1\" class=\"dataframe\">\n",
       "  <thead>\n",
       "    <tr style=\"text-align: right;\">\n",
       "      <th></th>\n",
       "      <th>text</th>\n",
       "      <th>counts</th>\n",
       "    </tr>\n",
       "  </thead>\n",
       "  <tbody>\n",
       "    <tr>\n",
       "      <th>23663</th>\n",
       "      <td>RT @SenTedCruz TO THE AMERICAN PEOPLE: This is...</td>\n",
       "      <td>10</td>\n",
       "    </tr>\n",
       "    <tr>\n",
       "      <th>24371</th>\n",
       "      <td>RT @TeamPelosi Trump abused his power for pers...</td>\n",
       "      <td>6</td>\n",
       "    </tr>\n",
       "    <tr>\n",
       "      <th>19423</th>\n",
       "      <td>RT @FreedomWorks .@SenTedCruz: \"Green New Deal...</td>\n",
       "      <td>5</td>\n",
       "    </tr>\n",
       "    <tr>\n",
       "      <th>24376</th>\n",
       "      <td>RT @TeamPelosi Trump: \"I am proud to shut down...</td>\n",
       "      <td>5</td>\n",
       "    </tr>\n",
       "    <tr>\n",
       "      <th>19424</th>\n",
       "      <td>RT @FreedomWorks A significant majority of Ame...</td>\n",
       "      <td>5</td>\n",
       "    </tr>\n",
       "    <tr>\n",
       "      <th>19216</th>\n",
       "      <td>RT @Everytown Along with @MomsDemand, we are p...</td>\n",
       "      <td>4</td>\n",
       "    </tr>\n",
       "    <tr>\n",
       "      <th>23777</th>\n",
       "      <td>RT @SenTedCruz What’s happening in the House h...</td>\n",
       "      <td>4</td>\n",
       "    </tr>\n",
       "    <tr>\n",
       "      <th>24325</th>\n",
       "      <td>RT @TeamPelosi No. You *don't* ask foreign gov...</td>\n",
       "      <td>4</td>\n",
       "    </tr>\n",
       "    <tr>\n",
       "      <th>29309</th>\n",
       "      <td>RT @taxreformer Taxing inflation is wrong and ...</td>\n",
       "      <td>4</td>\n",
       "    </tr>\n",
       "    <tr>\n",
       "      <th>28101</th>\n",
       "      <td>RT @missykurek “For anyone who says women can’...</td>\n",
       "      <td>4</td>\n",
       "    </tr>\n",
       "  </tbody>\n",
       "</table>\n",
       "</div>"
      ],
      "text/plain": [
       "                                                    text  counts\n",
       "23663  RT @SenTedCruz TO THE AMERICAN PEOPLE: This is...      10\n",
       "24371  RT @TeamPelosi Trump abused his power for pers...       6\n",
       "19423  RT @FreedomWorks .@SenTedCruz: \"Green New Deal...       5\n",
       "24376  RT @TeamPelosi Trump: \"I am proud to shut down...       5\n",
       "19424  RT @FreedomWorks A significant majority of Ame...       5\n",
       "19216  RT @Everytown Along with @MomsDemand, we are p...       4\n",
       "23777  RT @SenTedCruz What’s happening in the House h...       4\n",
       "24325  RT @TeamPelosi No. You *don't* ask foreign gov...       4\n",
       "29309  RT @taxreformer Taxing inflation is wrong and ...       4\n",
       "28101  RT @missykurek “For anyone who says women can’...       4"
      ]
     },
     "execution_count": 141,
     "metadata": {},
     "output_type": "execute_result"
    }
   ],
   "source": [
    "# 10 most repeated tweets\n",
    "df.groupby(['text']).size().reset_index(name='counts')\\\n",
    "  .sort_values('counts', ascending=False).head(10)"
   ]
  },
  {
   "cell_type": "code",
   "execution_count": 142,
   "metadata": {},
   "outputs": [
    {
     "name": "stderr",
     "output_type": "stream",
     "text": [
      "/usr/local/lib/python3.7/site-packages/ipykernel/ipkernel.py:287: DeprecationWarning: `should_run_async` will not call `transform_cell` automatically in the future. Please pass the result to `transformed_cell` argument and any exception that happen during thetransform in `preprocessing_exc_tuple` in IPython 7.17 and above.\n",
      "  and should_run_async(code)\n",
      "/usr/local/lib/python3.7/site-packages/ipykernel_launcher.py:15: MatplotlibDeprecationWarning: The 'nonposy' parameter of __init__() has been renamed 'nonpositive' since Matplotlib 3.3; support for the old name will be dropped two minor releases later.\n",
      "  from ipykernel import kernelapp as app\n"
     ]
    },
    {
     "data": {
      "image/png": "[encoded data removed]",
      "text/plain": [
       "<Figure size 432x288 with 1 Axes>"
      ]
     },
     "metadata": {
      "needs_background": "light"
     },
     "output_type": "display_data"
    }
   ],
   "source": [
    "# number of times each tweet appears\n",
    "counts = df.groupby(['text']).size()\\\n",
    "           .reset_index(name='counts')\\\n",
    "           .counts\n",
    "\n",
    "# define bins for histogram\n",
    "my_bins = np.arange(0,counts.max()+2, 1)-0.5\n",
    "\n",
    "# plot histogram of tweet counts\n",
    "plt.figure()\n",
    "plt.hist(counts, bins = my_bins)\n",
    "plt.xlabels = np.arange(1,counts.max()+1, 1)\n",
    "plt.xlabel('copies of each tweet')\n",
    "plt.ylabel('frequency')\n",
    "plt.yscale('log', nonposy='clip')\n",
    "plt.show()\n",
    "# most retweeted tweets are retweeted once in our dataset"
   ]
  },
  {
   "cell_type": "code",
   "execution_count": 143,
   "metadata": {},
   "outputs": [
    {
     "name": "stderr",
     "output_type": "stream",
     "text": [
      "/usr/local/lib/python3.7/site-packages/ipykernel/ipkernel.py:287: DeprecationWarning: `should_run_async` will not call `transform_cell` automatically in the future. Please pass the result to `transformed_cell` argument and any exception that happen during thetransform in `preprocessing_exc_tuple` in IPython 7.17 and above.\n",
      "  and should_run_async(code)\n",
      "<>:3: DeprecationWarning: invalid escape sequence \\s\n",
      "<>:7: DeprecationWarning: invalid escape sequence \\s\n",
      "<>:3: DeprecationWarning: invalid escape sequence \\s\n",
      "<>:7: DeprecationWarning: invalid escape sequence \\s\n",
      "<>:3: DeprecationWarning: invalid escape sequence \\s\n",
      "<>:7: DeprecationWarning: invalid escape sequence \\s\n",
      "<ipython-input-143-4e1c32e5b7d7>:3: DeprecationWarning: invalid escape sequence \\s\n",
      "  return re.findall('(?<=RT\\s)(@[A-Za-z]+[A-Za-z0-9-_]+)', tweet)\n",
      "<ipython-input-143-4e1c32e5b7d7>:7: DeprecationWarning: invalid escape sequence \\s\n",
      "  return re.findall('(?<!RT\\s)(@[A-Za-z]+[A-Za-z0-9-_]+)', tweet)\n"
     ]
    }
   ],
   "source": [
    "def find_retweeted(tweet):\n",
    "    '''This function will extract the twitter handles of retweed people'''\n",
    "    return re.findall('(?<=RT\\s)(@[A-Za-z]+[A-Za-z0-9-_]+)', tweet)\n",
    "\n",
    "def find_mentioned(tweet):\n",
    "    '''This function will extract the twitter handles of people mentioned in the tweet'''\n",
    "    return re.findall('(?<!RT\\s)(@[A-Za-z]+[A-Za-z0-9-_]+)', tweet)  \n",
    "\n",
    "def find_hashtags(tweet):\n",
    "    '''This function will extract hashtags'''\n",
    "    return re.findall('(#[A-Za-z]+[A-Za-z0-9-_]+)', tweet)"
   ]
  },
  {
   "cell_type": "code",
   "execution_count": 144,
   "metadata": {},
   "outputs": [
    {
     "name": "stderr",
     "output_type": "stream",
     "text": [
      "/usr/local/lib/python3.7/site-packages/ipykernel/ipkernel.py:287: DeprecationWarning: `should_run_async` will not call `transform_cell` automatically in the future. Please pass the result to `transformed_cell` argument and any exception that happen during thetransform in `preprocessing_exc_tuple` in IPython 7.17 and above.\n",
      "  and should_run_async(code)\n"
     ]
    }
   ],
   "source": [
    "# make new columns for retweeted usernames, mentioned usernames and hashtags\n",
    "df['retweeted'] = df.text.apply(find_retweeted)\n",
    "df['mentioned'] = df.text.apply(find_mentioned)\n",
    "df['hashtags'] = df.text.apply(find_hashtags)"
   ]
  },
  {
   "cell_type": "code",
   "execution_count": 145,
   "metadata": {},
   "outputs": [
    {
     "name": "stderr",
     "output_type": "stream",
     "text": [
      "/usr/local/lib/python3.7/site-packages/ipykernel/ipkernel.py:287: DeprecationWarning: `should_run_async` will not call `transform_cell` automatically in the future. Please pass the result to `transformed_cell` argument and any exception that happen during thetransform in `preprocessing_exc_tuple` in IPython 7.17 and above.\n",
      "  and should_run_async(code)\n"
     ]
    },
    {
     "data": {
      "text/html": [
       "<div>\n",
       "<style scoped>\n",
       "    .dataframe tbody tr th:only-of-type {\n",
       "        vertical-align: middle;\n",
       "    }\n",
       "\n",
       "    .dataframe tbody tr th {\n",
       "        vertical-align: top;\n",
       "    }\n",
       "\n",
       "    .dataframe thead th {\n",
       "        text-align: right;\n",
       "    }\n",
       "</style>\n",
       "<table border=\"1\" class=\"dataframe\">\n",
       "  <thead>\n",
       "    <tr style=\"text-align: right;\">\n",
       "      <th></th>\n",
       "      <th>Unnamed: 0</th>\n",
       "      <th>Unnamed: 0.1</th>\n",
       "      <th>screen_names</th>\n",
       "      <th>text</th>\n",
       "      <th>link</th>\n",
       "      <th>time</th>\n",
       "      <th>is_retweet</th>\n",
       "      <th>retweeted</th>\n",
       "      <th>mentioned</th>\n",
       "      <th>hashtags</th>\n",
       "    </tr>\n",
       "  </thead>\n",
       "  <tbody>\n",
       "    <tr>\n",
       "      <th>0</th>\n",
       "      <td>0</td>\n",
       "      <td>0.0</td>\n",
       "      <td>TeamPelosi</td>\n",
       "      <td>RT @NoOneIsAboveLaw \"We all take an oath to pr...</td>\n",
       "      <td>https://www.twitter.com/NoOneIsAboveLaw/status...</td>\n",
       "      <td>2019-11-21T23:46:08-05:00</td>\n",
       "      <td>True</td>\n",
       "      <td>[@NoOneIsAboveLaw]</td>\n",
       "      <td>[@SpeakerPelosi]</td>\n",
       "      <td>[#CountryOverPolitics]</td>\n",
       "    </tr>\n",
       "    <tr>\n",
       "      <th>1</th>\n",
       "      <td>1</td>\n",
       "      <td>1.0</td>\n",
       "      <td>marcorubio</td>\n",
       "      <td>RT @SquawkCNBC \"I think China needs to stop in...</td>\n",
       "      <td>https://www.twitter.com/SquawkCNBC/statuses/11...</td>\n",
       "      <td>2019-11-21T13:34:41-05:00</td>\n",
       "      <td>True</td>\n",
       "      <td>[@SquawkCNBC]</td>\n",
       "      <td>[@MarcoRubio]</td>\n",
       "      <td>[]</td>\n",
       "    </tr>\n",
       "    <tr>\n",
       "      <th>2</th>\n",
       "      <td>2</td>\n",
       "      <td>2.0</td>\n",
       "      <td>BernieSanders</td>\n",
       "      <td>This is absolutely unacceptable and Bright Pow...</td>\n",
       "      <td>https://www.twitter.com/BernieSanders/statuses...</td>\n",
       "      <td>2019-11-21T20:40:00-05:00</td>\n",
       "      <td>False</td>\n",
       "      <td>[]</td>\n",
       "      <td>[@LaurenKGurley, @AOC]</td>\n",
       "      <td>[]</td>\n",
       "    </tr>\n",
       "    <tr>\n",
       "      <th>3</th>\n",
       "      <td>3</td>\n",
       "      <td>3.0</td>\n",
       "      <td>CoryBooker</td>\n",
       "      <td>Dignity in work means strong unions and fair l...</td>\n",
       "      <td>https://www.twitter.com/CoryBooker/statuses/11...</td>\n",
       "      <td>2019-11-21T16:46:32-05:00</td>\n",
       "      <td>False</td>\n",
       "      <td>[]</td>\n",
       "      <td>[@IowaAFLCIO]</td>\n",
       "      <td>[]</td>\n",
       "    </tr>\n",
       "    <tr>\n",
       "      <th>4</th>\n",
       "      <td>4</td>\n",
       "      <td>4.0</td>\n",
       "      <td>BernieSanders</td>\n",
       "      <td>We will cancel student debt. We will make publ...</td>\n",
       "      <td>https://www.twitter.com/BernieSanders/statuses...</td>\n",
       "      <td>2019-11-21T12:57:53-05:00</td>\n",
       "      <td>False</td>\n",
       "      <td>[]</td>\n",
       "      <td>[]</td>\n",
       "      <td>[]</td>\n",
       "    </tr>\n",
       "    <tr>\n",
       "      <th>5</th>\n",
       "      <td>5</td>\n",
       "      <td>5.0</td>\n",
       "      <td>SpeakerPelosi</td>\n",
       "      <td>As the House concludes another week of our wor...</td>\n",
       "      <td>https://www.twitter.com/SpeakerPelosi/statuses...</td>\n",
       "      <td>2019-11-21T10:55:45-05:00</td>\n",
       "      <td>False</td>\n",
       "      <td>[]</td>\n",
       "      <td>[]</td>\n",
       "      <td>[#ForThePeople]</td>\n",
       "    </tr>\n",
       "    <tr>\n",
       "      <th>6</th>\n",
       "      <td>6</td>\n",
       "      <td>6.0</td>\n",
       "      <td>SenTedCruz</td>\n",
       "      <td>RT @SenTedCruz Tune in at ~4:30pm ET for my in...</td>\n",
       "      <td>https://www.twitter.com/SenTedCruz/statuses/11...</td>\n",
       "      <td>2019-11-21T16:36:43-05:00</td>\n",
       "      <td>True</td>\n",
       "      <td>[@SenTedCruz]</td>\n",
       "      <td>[@benshapiro]</td>\n",
       "      <td>[#HongKongProtests, #DemDebate]</td>\n",
       "    </tr>\n",
       "    <tr>\n",
       "      <th>7</th>\n",
       "      <td>7</td>\n",
       "      <td>7.0</td>\n",
       "      <td>TeamPelosi</td>\n",
       "      <td>RT @mikesmith_DC .@NRCC is off to a great star...</td>\n",
       "      <td>https://www.twitter.com/mikesmith_DC/statuses/...</td>\n",
       "      <td>2019-11-21T16:48:13-05:00</td>\n",
       "      <td>True</td>\n",
       "      <td>[@mikesmith_DC]</td>\n",
       "      <td>[@NRCC, @DCCC, @TeamPelosi, @dccc, @NRCC]</td>\n",
       "      <td>[]</td>\n",
       "    </tr>\n",
       "  </tbody>\n",
       "</table>\n",
       "</div>"
      ],
      "text/plain": [
       "   Unnamed: 0  Unnamed: 0.1   screen_names  \\\n",
       "0           0           0.0     TeamPelosi   \n",
       "1           1           1.0     marcorubio   \n",
       "2           2           2.0  BernieSanders   \n",
       "3           3           3.0     CoryBooker   \n",
       "4           4           4.0  BernieSanders   \n",
       "5           5           5.0  SpeakerPelosi   \n",
       "6           6           6.0     SenTedCruz   \n",
       "7           7           7.0     TeamPelosi   \n",
       "\n",
       "                                                text  \\\n",
       "0  RT @NoOneIsAboveLaw \"We all take an oath to pr...   \n",
       "1  RT @SquawkCNBC \"I think China needs to stop in...   \n",
       "2  This is absolutely unacceptable and Bright Pow...   \n",
       "3  Dignity in work means strong unions and fair l...   \n",
       "4  We will cancel student debt. We will make publ...   \n",
       "5  As the House concludes another week of our wor...   \n",
       "6  RT @SenTedCruz Tune in at ~4:30pm ET for my in...   \n",
       "7  RT @mikesmith_DC .@NRCC is off to a great star...   \n",
       "\n",
       "                                                link  \\\n",
       "0  https://www.twitter.com/NoOneIsAboveLaw/status...   \n",
       "1  https://www.twitter.com/SquawkCNBC/statuses/11...   \n",
       "2  https://www.twitter.com/BernieSanders/statuses...   \n",
       "3  https://www.twitter.com/CoryBooker/statuses/11...   \n",
       "4  https://www.twitter.com/BernieSanders/statuses...   \n",
       "5  https://www.twitter.com/SpeakerPelosi/statuses...   \n",
       "6  https://www.twitter.com/SenTedCruz/statuses/11...   \n",
       "7  https://www.twitter.com/mikesmith_DC/statuses/...   \n",
       "\n",
       "                        time  is_retweet           retweeted  \\\n",
       "0  2019-11-21T23:46:08-05:00        True  [@NoOneIsAboveLaw]   \n",
       "1  2019-11-21T13:34:41-05:00        True       [@SquawkCNBC]   \n",
       "2  2019-11-21T20:40:00-05:00       False                  []   \n",
       "3  2019-11-21T16:46:32-05:00       False                  []   \n",
       "4  2019-11-21T12:57:53-05:00       False                  []   \n",
       "5  2019-11-21T10:55:45-05:00       False                  []   \n",
       "6  2019-11-21T16:36:43-05:00        True       [@SenTedCruz]   \n",
       "7  2019-11-21T16:48:13-05:00        True     [@mikesmith_DC]   \n",
       "\n",
       "                                   mentioned                         hashtags  \n",
       "0                           [@SpeakerPelosi]           [#CountryOverPolitics]  \n",
       "1                              [@MarcoRubio]                               []  \n",
       "2                     [@LaurenKGurley, @AOC]                               []  \n",
       "3                              [@IowaAFLCIO]                               []  \n",
       "4                                         []                               []  \n",
       "5                                         []                  [#ForThePeople]  \n",
       "6                              [@benshapiro]  [#HongKongProtests, #DemDebate]  \n",
       "7  [@NRCC, @DCCC, @TeamPelosi, @dccc, @NRCC]                               []  "
      ]
     },
     "execution_count": 145,
     "metadata": {},
     "output_type": "execute_result"
    }
   ],
   "source": [
    "df.head(8)"
   ]
  },
  {
   "cell_type": "code",
   "execution_count": 146,
   "metadata": {},
   "outputs": [
    {
     "name": "stderr",
     "output_type": "stream",
     "text": [
      "/usr/local/lib/python3.7/site-packages/ipykernel/ipkernel.py:287: DeprecationWarning: `should_run_async` will not call `transform_cell` automatically in the future. Please pass the result to `transformed_cell` argument and any exception that happen during thetransform in `preprocessing_exc_tuple` in IPython 7.17 and above.\n",
      "  and should_run_async(code)\n"
     ]
    },
    {
     "data": {
      "text/html": [
       "<div>\n",
       "<style scoped>\n",
       "    .dataframe tbody tr th:only-of-type {\n",
       "        vertical-align: middle;\n",
       "    }\n",
       "\n",
       "    .dataframe tbody tr th {\n",
       "        vertical-align: top;\n",
       "    }\n",
       "\n",
       "    .dataframe thead th {\n",
       "        text-align: right;\n",
       "    }\n",
       "</style>\n",
       "<table border=\"1\" class=\"dataframe\">\n",
       "  <thead>\n",
       "    <tr style=\"text-align: right;\">\n",
       "      <th></th>\n",
       "      <th>hashtags</th>\n",
       "    </tr>\n",
       "  </thead>\n",
       "  <tbody>\n",
       "    <tr>\n",
       "      <th>0</th>\n",
       "      <td>[#CountryOverPolitics]</td>\n",
       "    </tr>\n",
       "    <tr>\n",
       "      <th>5</th>\n",
       "      <td>[#ForThePeople]</td>\n",
       "    </tr>\n",
       "    <tr>\n",
       "      <th>6</th>\n",
       "      <td>[#HongKongProtests, #DemDebate]</td>\n",
       "    </tr>\n",
       "    <tr>\n",
       "      <th>8</th>\n",
       "      <td>[#DC]</td>\n",
       "    </tr>\n",
       "    <tr>\n",
       "      <th>10</th>\n",
       "      <td>[#HongKong]</td>\n",
       "    </tr>\n",
       "    <tr>\n",
       "      <th>13</th>\n",
       "      <td>[#ArmenianGenocide, #Turkey]</td>\n",
       "    </tr>\n",
       "    <tr>\n",
       "      <th>14</th>\n",
       "      <td>[#ArmenianGenocide]</td>\n",
       "    </tr>\n",
       "    <tr>\n",
       "      <th>15</th>\n",
       "      <td>[#RightToKnowBeforeYouGo]</td>\n",
       "    </tr>\n",
       "  </tbody>\n",
       "</table>\n",
       "</div>"
      ],
      "text/plain": [
       "                           hashtags\n",
       "0            [#CountryOverPolitics]\n",
       "5                   [#ForThePeople]\n",
       "6   [#HongKongProtests, #DemDebate]\n",
       "8                             [#DC]\n",
       "10                      [#HongKong]\n",
       "13     [#ArmenianGenocide, #Turkey]\n",
       "14              [#ArmenianGenocide]\n",
       "15        [#RightToKnowBeforeYouGo]"
      ]
     },
     "execution_count": 146,
     "metadata": {},
     "output_type": "execute_result"
    }
   ],
   "source": [
    "# take the rows from the hashtag columns where there are actually hashtags\n",
    "hashtags_list_df = df.loc[\n",
    "                       df.hashtags.apply(\n",
    "                           lambda hashtags_list: hashtags_list !=[]\n",
    "                       ),['hashtags']]\n",
    "hashtags_list_df.head(8)"
   ]
  },
  {
   "cell_type": "code",
   "execution_count": 147,
   "metadata": {},
   "outputs": [
    {
     "name": "stderr",
     "output_type": "stream",
     "text": [
      "/usr/local/lib/python3.7/site-packages/ipykernel/ipkernel.py:287: DeprecationWarning: `should_run_async` will not call `transform_cell` automatically in the future. Please pass the result to `transformed_cell` argument and any exception that happen during thetransform in `preprocessing_exc_tuple` in IPython 7.17 and above.\n",
      "  and should_run_async(code)\n"
     ]
    },
    {
     "data": {
      "text/html": [
       "<div>\n",
       "<style scoped>\n",
       "    .dataframe tbody tr th:only-of-type {\n",
       "        vertical-align: middle;\n",
       "    }\n",
       "\n",
       "    .dataframe tbody tr th {\n",
       "        vertical-align: top;\n",
       "    }\n",
       "\n",
       "    .dataframe thead th {\n",
       "        text-align: right;\n",
       "    }\n",
       "</style>\n",
       "<table border=\"1\" class=\"dataframe\">\n",
       "  <thead>\n",
       "    <tr style=\"text-align: right;\">\n",
       "      <th></th>\n",
       "      <th>hashtag</th>\n",
       "    </tr>\n",
       "  </thead>\n",
       "  <tbody>\n",
       "    <tr>\n",
       "      <th>0</th>\n",
       "      <td>#CountryOverPolitics</td>\n",
       "    </tr>\n",
       "    <tr>\n",
       "      <th>1</th>\n",
       "      <td>#ForThePeople</td>\n",
       "    </tr>\n",
       "    <tr>\n",
       "      <th>2</th>\n",
       "      <td>#HongKongProtests</td>\n",
       "    </tr>\n",
       "    <tr>\n",
       "      <th>3</th>\n",
       "      <td>#DemDebate</td>\n",
       "    </tr>\n",
       "    <tr>\n",
       "      <th>4</th>\n",
       "      <td>#DC</td>\n",
       "    </tr>\n",
       "    <tr>\n",
       "      <th>5</th>\n",
       "      <td>#HongKong</td>\n",
       "    </tr>\n",
       "    <tr>\n",
       "      <th>6</th>\n",
       "      <td>#ArmenianGenocide</td>\n",
       "    </tr>\n",
       "    <tr>\n",
       "      <th>7</th>\n",
       "      <td>#Turkey</td>\n",
       "    </tr>\n",
       "  </tbody>\n",
       "</table>\n",
       "</div>"
      ],
      "text/plain": [
       "                hashtag\n",
       "0  #CountryOverPolitics\n",
       "1         #ForThePeople\n",
       "2     #HongKongProtests\n",
       "3            #DemDebate\n",
       "4                   #DC\n",
       "5             #HongKong\n",
       "6     #ArmenianGenocide\n",
       "7               #Turkey"
      ]
     },
     "execution_count": 147,
     "metadata": {},
     "output_type": "execute_result"
    }
   ],
   "source": [
    "# create dataframe where each use of hashtag gets its own row\n",
    "flattened_hashtags_df = pd.DataFrame(\n",
    "    [hashtag for hashtags_list in hashtags_list_df.hashtags\n",
    "    for hashtag in hashtags_list],\n",
    "    columns=['hashtag'])\n",
    "flattened_hashtags_df.head(8)"
   ]
  },
  {
   "cell_type": "code",
   "execution_count": 148,
   "metadata": {},
   "outputs": [
    {
     "name": "stderr",
     "output_type": "stream",
     "text": [
      "/usr/local/lib/python3.7/site-packages/ipykernel/ipkernel.py:287: DeprecationWarning: `should_run_async` will not call `transform_cell` automatically in the future. Please pass the result to `transformed_cell` argument and any exception that happen during thetransform in `preprocessing_exc_tuple` in IPython 7.17 and above.\n",
      "  and should_run_async(code)\n"
     ]
    },
    {
     "data": {
      "text/plain": [
       "5013"
      ]
     },
     "execution_count": 148,
     "metadata": {},
     "output_type": "execute_result"
    }
   ],
   "source": [
    "# number of unique hashtags\n",
    "flattened_hashtags_df['hashtag'].unique().size"
   ]
  },
  {
   "cell_type": "code",
   "execution_count": 149,
   "metadata": {},
   "outputs": [
    {
     "name": "stderr",
     "output_type": "stream",
     "text": [
      "/usr/local/lib/python3.7/site-packages/ipykernel/ipkernel.py:287: DeprecationWarning: `should_run_async` will not call `transform_cell` automatically in the future. Please pass the result to `transformed_cell` argument and any exception that happen during thetransform in `preprocessing_exc_tuple` in IPython 7.17 and above.\n",
      "  and should_run_async(code)\n"
     ]
    },
    {
     "data": {
      "text/html": [
       "<div>\n",
       "<style scoped>\n",
       "    .dataframe tbody tr th:only-of-type {\n",
       "        vertical-align: middle;\n",
       "    }\n",
       "\n",
       "    .dataframe tbody tr th {\n",
       "        vertical-align: top;\n",
       "    }\n",
       "\n",
       "    .dataframe thead th {\n",
       "        text-align: right;\n",
       "    }\n",
       "</style>\n",
       "<table border=\"1\" class=\"dataframe\">\n",
       "  <thead>\n",
       "    <tr style=\"text-align: right;\">\n",
       "      <th></th>\n",
       "      <th>hashtag</th>\n",
       "      <th>counts</th>\n",
       "    </tr>\n",
       "  </thead>\n",
       "  <tbody>\n",
       "    <tr>\n",
       "      <th>0</th>\n",
       "      <td>#Venezuela</td>\n",
       "      <td>725</td>\n",
       "    </tr>\n",
       "    <tr>\n",
       "      <th>1</th>\n",
       "      <td>#China</td>\n",
       "      <td>462</td>\n",
       "    </tr>\n",
       "    <tr>\n",
       "      <th>2</th>\n",
       "      <td>#coronavirus</td>\n",
       "      <td>436</td>\n",
       "    </tr>\n",
       "    <tr>\n",
       "      <th>3</th>\n",
       "      <td>#ForThePeople</td>\n",
       "      <td>400</td>\n",
       "    </tr>\n",
       "    <tr>\n",
       "      <th>4</th>\n",
       "      <td>#COVID19</td>\n",
       "      <td>387</td>\n",
       "    </tr>\n",
       "    <tr>\n",
       "      <th>...</th>\n",
       "      <td>...</td>\n",
       "      <td>...</td>\n",
       "    </tr>\n",
       "    <tr>\n",
       "      <th>5008</th>\n",
       "      <td>#MahaliaJackson</td>\n",
       "      <td>1</td>\n",
       "    </tr>\n",
       "    <tr>\n",
       "      <th>5009</th>\n",
       "      <td>#MainStreetNotWallStreet</td>\n",
       "      <td>1</td>\n",
       "    </tr>\n",
       "    <tr>\n",
       "      <th>5010</th>\n",
       "      <td>#Maiquetia</td>\n",
       "      <td>1</td>\n",
       "    </tr>\n",
       "    <tr>\n",
       "      <th>5011</th>\n",
       "      <td>#MakeItYours</td>\n",
       "      <td>1</td>\n",
       "    </tr>\n",
       "    <tr>\n",
       "      <th>5012</th>\n",
       "      <td>#yafcon</td>\n",
       "      <td>1</td>\n",
       "    </tr>\n",
       "  </tbody>\n",
       "</table>\n",
       "<p>5013 rows × 2 columns</p>\n",
       "</div>"
      ],
      "text/plain": [
       "                       hashtag  counts\n",
       "0                   #Venezuela     725\n",
       "1                       #China     462\n",
       "2                 #coronavirus     436\n",
       "3                #ForThePeople     400\n",
       "4                     #COVID19     387\n",
       "...                        ...     ...\n",
       "5008           #MahaliaJackson       1\n",
       "5009  #MainStreetNotWallStreet       1\n",
       "5010                #Maiquetia       1\n",
       "5011              #MakeItYours       1\n",
       "5012                   #yafcon       1\n",
       "\n",
       "[5013 rows x 2 columns]"
      ]
     },
     "execution_count": 149,
     "metadata": {},
     "output_type": "execute_result"
    }
   ],
   "source": [
    "# count of appearances of each hashtag\n",
    "popular_hashtags = flattened_hashtags_df.groupby('hashtag').size()\\\n",
    "                                        .reset_index(name='counts')\\\n",
    "                                        .sort_values('counts', ascending=False)\\\n",
    "                                        .reset_index(drop=True)\n",
    "popular_hashtags"
   ]
  },
  {
   "cell_type": "code",
   "execution_count": 150,
   "metadata": {},
   "outputs": [
    {
     "name": "stderr",
     "output_type": "stream",
     "text": [
      "/usr/local/lib/python3.7/site-packages/ipykernel/ipkernel.py:287: DeprecationWarning: `should_run_async` will not call `transform_cell` automatically in the future. Please pass the result to `transformed_cell` argument and any exception that happen during thetransform in `preprocessing_exc_tuple` in IPython 7.17 and above.\n",
      "  and should_run_async(code)\n",
      "/usr/local/lib/python3.7/site-packages/ipykernel_launcher.py:15: MatplotlibDeprecationWarning: The 'nonposy' parameter of __init__() has been renamed 'nonpositive' since Matplotlib 3.3; support for the old name will be dropped two minor releases later.\n",
      "  from ipykernel import kernelapp as app\n"
     ]
    },
    {
     "data": {
      "image/png": "[encoded data removed]",
      "text/plain": [
       "<Figure size 432x288 with 1 Axes>"
      ]
     },
     "metadata": {
      "needs_background": "light"
     },
     "output_type": "display_data"
    }
   ],
   "source": [
    "# number of times each hashtag appears\n",
    "counts = flattened_hashtags_df.groupby(['hashtag']).size()\\\n",
    "                              .reset_index(name='counts')\\\n",
    "                              .counts\n",
    "\n",
    "# define bins for histogram                              \n",
    "my_bins = np.arange(0,counts.max()+2, 5)-0.5\n",
    "\n",
    "# plot histogram of tweet counts\n",
    "plt.figure()\n",
    "plt.hist(counts, bins = my_bins)\n",
    "plt.xlabels = np.arange(1,counts.max()+1, 1)\n",
    "plt.xlabel('hashtag number of appearances')\n",
    "plt.ylabel('frequency')\n",
    "plt.yscale('log', nonposy='clip')\n",
    "plt.show()"
   ]
  },
  {
   "cell_type": "code",
   "execution_count": 151,
   "metadata": {},
   "outputs": [
    {
     "name": "stderr",
     "output_type": "stream",
     "text": [
      "/usr/local/lib/python3.7/site-packages/ipykernel/ipkernel.py:287: DeprecationWarning: `should_run_async` will not call `transform_cell` automatically in the future. Please pass the result to `transformed_cell` argument and any exception that happen during thetransform in `preprocessing_exc_tuple` in IPython 7.17 and above.\n",
      "  and should_run_async(code)\n"
     ]
    }
   ],
   "source": [
    "# take hashtags which appear at least this amount of times\n",
    "min_appearance = 120\n",
    "# find popular hashtags - make into python set for efficiency\n",
    "popular_hashtags_set = set(popular_hashtags[\n",
    "                           popular_hashtags.counts>=min_appearance\n",
    "                           ]['hashtag'])"
   ]
  },
  {
   "cell_type": "code",
   "execution_count": 152,
   "metadata": {},
   "outputs": [
    {
     "name": "stderr",
     "output_type": "stream",
     "text": [
      "/usr/local/lib/python3.7/site-packages/ipykernel/ipkernel.py:287: DeprecationWarning: `should_run_async` will not call `transform_cell` automatically in the future. Please pass the result to `transformed_cell` argument and any exception that happen during thetransform in `preprocessing_exc_tuple` in IPython 7.17 and above.\n",
      "  and should_run_async(code)\n"
     ]
    }
   ],
   "source": [
    "# make a new column with only the popular hashtags\n",
    "hashtags_list_df['popular_hashtags'] = hashtags_list_df.hashtags.apply(\n",
    "            lambda hashtag_list: [hashtag for hashtag in hashtag_list\n",
    "                                  if hashtag in popular_hashtags_set])\n",
    "# drop rows without popular hashtag\n",
    "popular_hashtags_list_df = hashtags_list_df.loc[\n",
    "            hashtags_list_df.popular_hashtags.apply(lambda hashtag_list: hashtag_list !=[])]"
   ]
  },
  {
   "cell_type": "code",
   "execution_count": 153,
   "metadata": {},
   "outputs": [
    {
     "name": "stderr",
     "output_type": "stream",
     "text": [
      "/usr/local/lib/python3.7/site-packages/ipykernel/ipkernel.py:287: DeprecationWarning: `should_run_async` will not call `transform_cell` automatically in the future. Please pass the result to `transformed_cell` argument and any exception that happen during thetransform in `preprocessing_exc_tuple` in IPython 7.17 and above.\n",
      "  and should_run_async(code)\n"
     ]
    }
   ],
   "source": [
    "# make new dataframe\n",
    "hashtag_vector_df = popular_hashtags_list_df.loc[:, ['popular_hashtags']]\n",
    "\n",
    "for hashtag in popular_hashtags_set:\n",
    "    # make columns to encode presence of hashtags\n",
    "    hashtag_vector_df['{}'.format(hashtag)] = hashtag_vector_df.popular_hashtags.apply(\n",
    "        lambda hashtag_list: int(hashtag in hashtag_list))"
   ]
  },
  {
   "cell_type": "code",
   "execution_count": 154,
   "metadata": {},
   "outputs": [
    {
     "name": "stderr",
     "output_type": "stream",
     "text": [
      "/usr/local/lib/python3.7/site-packages/ipykernel/ipkernel.py:287: DeprecationWarning: `should_run_async` will not call `transform_cell` automatically in the future. Please pass the result to `transformed_cell` argument and any exception that happen during thetransform in `preprocessing_exc_tuple` in IPython 7.17 and above.\n",
      "  and should_run_async(code)\n"
     ]
    }
   ],
   "source": [
    "# hashtag_vector_df.head()"
   ]
  },
  {
   "cell_type": "code",
   "execution_count": 1,
   "metadata": {},
   "outputs": [
    {
     "ename": "NameError",
     "evalue": "name 'hashtag_vector_df' is not defined",
     "output_type": "error",
     "traceback": [
      "\u001b[1;31m---------------------------------------------------------------------------\u001b[0m",
      "\u001b[1;31mNameError\u001b[0m                                 Traceback (most recent call last)",
      "\u001b[1;32m<ipython-input-1-b09ee412ec85>\u001b[0m in \u001b[0;36m<module>\u001b[1;34m()\u001b[0m\n\u001b[1;32m----> 1\u001b[1;33m \u001b[0mhashtag_matrix\u001b[0m \u001b[1;33m=\u001b[0m \u001b[0mhashtag_vector_df\u001b[0m\u001b[1;33m.\u001b[0m\u001b[0mdrop\u001b[0m\u001b[1;33m(\u001b[0m\u001b[1;34m'popular_hashtags'\u001b[0m\u001b[1;33m,\u001b[0m \u001b[0maxis\u001b[0m\u001b[1;33m=\u001b[0m\u001b[1;36m1\u001b[0m\u001b[1;33m)\u001b[0m\u001b[1;33m\u001b[0m\u001b[0m\n\u001b[0m\u001b[0;32m      2\u001b[0m \u001b[1;31m# calculate the correlation matrix\u001b[0m\u001b[1;33m\u001b[0m\u001b[1;33m\u001b[0m\u001b[0m\n\u001b[0;32m      3\u001b[0m \u001b[0mcorrelations\u001b[0m \u001b[1;33m=\u001b[0m \u001b[0mhashtag_matrix\u001b[0m\u001b[1;33m.\u001b[0m\u001b[0mcorr\u001b[0m\u001b[1;33m(\u001b[0m\u001b[1;33m)\u001b[0m\u001b[1;33m\u001b[0m\u001b[0m\n\u001b[0;32m      4\u001b[0m \u001b[1;33m\u001b[0m\u001b[0m\n\u001b[0;32m      5\u001b[0m \u001b[1;31m# plot the correlation matrix\u001b[0m\u001b[1;33m\u001b[0m\u001b[1;33m\u001b[0m\u001b[0m\n",
      "\u001b[1;31mNameError\u001b[0m: name 'hashtag_vector_df' is not defined"
     ]
    }
   ],
   "source": [
    "hashtag_matrix = hashtag_vector_df.drop('popular_hashtags', axis=1)\n",
    "# calculate the correlation matrix\n",
    "correlations = hashtag_matrix.corr()\n",
    "\n",
    "# plot the correlation matrix\n",
    "plt.figure(figsize=(15,15))\n",
    "sns.heatmap(correlations,\n",
    "    cmap='RdBu',\n",
    "    vmin=-1,\n",
    "    vmax=.5,\n",
    "    square = True,\n",
    "    cbar_kws={'label':'correlation'})\n",
    "plt.show()\n"
   ]
  },
  {
   "cell_type": "code",
   "execution_count": 156,
   "metadata": {},
   "outputs": [
    {
     "name": "stderr",
     "output_type": "stream",
     "text": [
      "/usr/local/lib/python3.7/site-packages/ipykernel/ipkernel.py:287: DeprecationWarning: `should_run_async` will not call `transform_cell` automatically in the future. Please pass the result to `transformed_cell` argument and any exception that happen during thetransform in `preprocessing_exc_tuple` in IPython 7.17 and above.\n",
      "  and should_run_async(code)\n"
     ]
    }
   ],
   "source": [
    "##Repeat analysis above but for mentioned instead of hashtags"
   ]
  },
  {
   "cell_type": "code",
   "execution_count": 157,
   "metadata": {},
   "outputs": [
    {
     "name": "stderr",
     "output_type": "stream",
     "text": [
      "/usr/local/lib/python3.7/site-packages/ipykernel/ipkernel.py:287: DeprecationWarning: `should_run_async` will not call `transform_cell` automatically in the future. Please pass the result to `transformed_cell` argument and any exception that happen during thetransform in `preprocessing_exc_tuple` in IPython 7.17 and above.\n",
      "  and should_run_async(code)\n"
     ]
    },
    {
     "data": {
      "text/html": [
       "<div>\n",
       "<style scoped>\n",
       "    .dataframe tbody tr th:only-of-type {\n",
       "        vertical-align: middle;\n",
       "    }\n",
       "\n",
       "    .dataframe tbody tr th {\n",
       "        vertical-align: top;\n",
       "    }\n",
       "\n",
       "    .dataframe thead th {\n",
       "        text-align: right;\n",
       "    }\n",
       "</style>\n",
       "<table border=\"1\" class=\"dataframe\">\n",
       "  <thead>\n",
       "    <tr style=\"text-align: right;\">\n",
       "      <th></th>\n",
       "      <th>mentioned</th>\n",
       "    </tr>\n",
       "  </thead>\n",
       "  <tbody>\n",
       "    <tr>\n",
       "      <th>0</th>\n",
       "      <td>[@SpeakerPelosi]</td>\n",
       "    </tr>\n",
       "    <tr>\n",
       "      <th>1</th>\n",
       "      <td>[@MarcoRubio]</td>\n",
       "    </tr>\n",
       "    <tr>\n",
       "      <th>2</th>\n",
       "      <td>[@LaurenKGurley, @AOC]</td>\n",
       "    </tr>\n",
       "    <tr>\n",
       "      <th>3</th>\n",
       "      <td>[@IowaAFLCIO]</td>\n",
       "    </tr>\n",
       "    <tr>\n",
       "      <th>6</th>\n",
       "      <td>[@benshapiro]</td>\n",
       "    </tr>\n",
       "  </tbody>\n",
       "</table>\n",
       "</div>"
      ],
      "text/plain": [
       "                mentioned\n",
       "0        [@SpeakerPelosi]\n",
       "1           [@MarcoRubio]\n",
       "2  [@LaurenKGurley, @AOC]\n",
       "3           [@IowaAFLCIO]\n",
       "6           [@benshapiro]"
      ]
     },
     "execution_count": 157,
     "metadata": {},
     "output_type": "execute_result"
    }
   ],
   "source": [
    "# take the rows from the hashtag columns where there are actually hashtags\n",
    "mentioned_list_df = df.loc[\n",
    "                       df.mentioned.apply(\n",
    "                           lambda hashtags_list: hashtags_list !=[]\n",
    "                       ),['mentioned']]\n",
    "mentioned_list_df.head(5)"
   ]
  },
  {
   "cell_type": "code",
   "execution_count": 158,
   "metadata": {},
   "outputs": [
    {
     "name": "stderr",
     "output_type": "stream",
     "text": [
      "/usr/local/lib/python3.7/site-packages/ipykernel/ipkernel.py:287: DeprecationWarning: `should_run_async` will not call `transform_cell` automatically in the future. Please pass the result to `transformed_cell` argument and any exception that happen during thetransform in `preprocessing_exc_tuple` in IPython 7.17 and above.\n",
      "  and should_run_async(code)\n"
     ]
    },
    {
     "data": {
      "text/html": [
       "<div>\n",
       "<style scoped>\n",
       "    .dataframe tbody tr th:only-of-type {\n",
       "        vertical-align: middle;\n",
       "    }\n",
       "\n",
       "    .dataframe tbody tr th {\n",
       "        vertical-align: top;\n",
       "    }\n",
       "\n",
       "    .dataframe thead th {\n",
       "        text-align: right;\n",
       "    }\n",
       "</style>\n",
       "<table border=\"1\" class=\"dataframe\">\n",
       "  <thead>\n",
       "    <tr style=\"text-align: right;\">\n",
       "      <th></th>\n",
       "      <th>hashtag</th>\n",
       "    </tr>\n",
       "  </thead>\n",
       "  <tbody>\n",
       "    <tr>\n",
       "      <th>0</th>\n",
       "      <td>#CountryOverPolitics</td>\n",
       "    </tr>\n",
       "    <tr>\n",
       "      <th>1</th>\n",
       "      <td>#ForThePeople</td>\n",
       "    </tr>\n",
       "    <tr>\n",
       "      <th>2</th>\n",
       "      <td>#HongKongProtests</td>\n",
       "    </tr>\n",
       "    <tr>\n",
       "      <th>3</th>\n",
       "      <td>#DemDebate</td>\n",
       "    </tr>\n",
       "    <tr>\n",
       "      <th>4</th>\n",
       "      <td>#DC</td>\n",
       "    </tr>\n",
       "    <tr>\n",
       "      <th>5</th>\n",
       "      <td>#HongKong</td>\n",
       "    </tr>\n",
       "    <tr>\n",
       "      <th>6</th>\n",
       "      <td>#ArmenianGenocide</td>\n",
       "    </tr>\n",
       "    <tr>\n",
       "      <th>7</th>\n",
       "      <td>#Turkey</td>\n",
       "    </tr>\n",
       "  </tbody>\n",
       "</table>\n",
       "</div>"
      ],
      "text/plain": [
       "                hashtag\n",
       "0  #CountryOverPolitics\n",
       "1         #ForThePeople\n",
       "2     #HongKongProtests\n",
       "3            #DemDebate\n",
       "4                   #DC\n",
       "5             #HongKong\n",
       "6     #ArmenianGenocide\n",
       "7               #Turkey"
      ]
     },
     "execution_count": 158,
     "metadata": {},
     "output_type": "execute_result"
    }
   ],
   "source": [
    "# create dataframe where each use of hashtag gets its own row\n",
    "flattened_mentioned_df = pd.DataFrame(\n",
    "    [mentioned for mentioned_list in mentioned_list_df.mentioned\n",
    "    for mentioned in mentioned_list],\n",
    "    columns=['mentioned'])\n",
    "flattened_hashtags_df.head(8)"
   ]
  },
  {
   "cell_type": "code",
   "execution_count": 159,
   "metadata": {},
   "outputs": [
    {
     "name": "stderr",
     "output_type": "stream",
     "text": [
      "/usr/local/lib/python3.7/site-packages/ipykernel/ipkernel.py:287: DeprecationWarning: `should_run_async` will not call `transform_cell` automatically in the future. Please pass the result to `transformed_cell` argument and any exception that happen during thetransform in `preprocessing_exc_tuple` in IPython 7.17 and above.\n",
      "  and should_run_async(code)\n"
     ]
    },
    {
     "data": {
      "text/html": [
       "<div>\n",
       "<style scoped>\n",
       "    .dataframe tbody tr th:only-of-type {\n",
       "        vertical-align: middle;\n",
       "    }\n",
       "\n",
       "    .dataframe tbody tr th {\n",
       "        vertical-align: top;\n",
       "    }\n",
       "\n",
       "    .dataframe thead th {\n",
       "        text-align: right;\n",
       "    }\n",
       "</style>\n",
       "<table border=\"1\" class=\"dataframe\">\n",
       "  <thead>\n",
       "    <tr style=\"text-align: right;\">\n",
       "      <th></th>\n",
       "      <th>mentioned</th>\n",
       "      <th>counts</th>\n",
       "    </tr>\n",
       "  </thead>\n",
       "  <tbody>\n",
       "    <tr>\n",
       "      <th>0</th>\n",
       "      <td>@AOC</td>\n",
       "      <td>1815</td>\n",
       "    </tr>\n",
       "    <tr>\n",
       "      <th>1</th>\n",
       "      <td>@BernieSanders</td>\n",
       "      <td>1669</td>\n",
       "    </tr>\n",
       "    <tr>\n",
       "      <th>2</th>\n",
       "      <td>@SenTedCruz</td>\n",
       "      <td>1113</td>\n",
       "    </tr>\n",
       "    <tr>\n",
       "      <th>3</th>\n",
       "      <td>@realDonaldTrump</td>\n",
       "      <td>999</td>\n",
       "    </tr>\n",
       "    <tr>\n",
       "      <th>4</th>\n",
       "      <td>@tedcruz</td>\n",
       "      <td>995</td>\n",
       "    </tr>\n",
       "    <tr>\n",
       "      <th>...</th>\n",
       "      <td>...</td>\n",
       "      <td>...</td>\n",
       "    </tr>\n",
       "    <tr>\n",
       "      <th>8927</th>\n",
       "      <td>@OKJusticeReform</td>\n",
       "      <td>1</td>\n",
       "    </tr>\n",
       "    <tr>\n",
       "      <th>8928</th>\n",
       "      <td>@OJPAC</td>\n",
       "      <td>1</td>\n",
       "    </tr>\n",
       "    <tr>\n",
       "      <th>8929</th>\n",
       "      <td>@OIEAnimalHealth</td>\n",
       "      <td>1</td>\n",
       "    </tr>\n",
       "    <tr>\n",
       "      <th>8930</th>\n",
       "      <td>@OFB2020</td>\n",
       "      <td>1</td>\n",
       "    </tr>\n",
       "    <tr>\n",
       "      <th>8931</th>\n",
       "      <td>@SSUSA_Magazine</td>\n",
       "      <td>1</td>\n",
       "    </tr>\n",
       "  </tbody>\n",
       "</table>\n",
       "<p>8932 rows × 2 columns</p>\n",
       "</div>"
      ],
      "text/plain": [
       "             mentioned  counts\n",
       "0                 @AOC    1815\n",
       "1       @BernieSanders    1669\n",
       "2          @SenTedCruz    1113\n",
       "3     @realDonaldTrump     999\n",
       "4             @tedcruz     995\n",
       "...                ...     ...\n",
       "8927  @OKJusticeReform       1\n",
       "8928            @OJPAC       1\n",
       "8929  @OIEAnimalHealth       1\n",
       "8930          @OFB2020       1\n",
       "8931   @SSUSA_Magazine       1\n",
       "\n",
       "[8932 rows x 2 columns]"
      ]
     },
     "execution_count": 159,
     "metadata": {},
     "output_type": "execute_result"
    }
   ],
   "source": [
    "# count of appearances of each hashtag\n",
    "popular_mentions = flattened_mentioned_df.groupby('mentioned').size()\\\n",
    "                                        .reset_index(name='counts')\\\n",
    "                                        .sort_values('counts', ascending=False)\\\n",
    "                                        .reset_index(drop=True)\n",
    "popular_mentions"
   ]
  },
  {
   "cell_type": "code",
   "execution_count": 160,
   "metadata": {},
   "outputs": [
    {
     "name": "stderr",
     "output_type": "stream",
     "text": [
      "/usr/local/lib/python3.7/site-packages/ipykernel/ipkernel.py:287: DeprecationWarning: `should_run_async` will not call `transform_cell` automatically in the future. Please pass the result to `transformed_cell` argument and any exception that happen during thetransform in `preprocessing_exc_tuple` in IPython 7.17 and above.\n",
      "  and should_run_async(code)\n",
      "/usr/local/lib/python3.7/site-packages/ipykernel_launcher.py:15: MatplotlibDeprecationWarning: The 'nonposy' parameter of __init__() has been renamed 'nonpositive' since Matplotlib 3.3; support for the old name will be dropped two minor releases later.\n",
      "  from ipykernel import kernelapp as app\n"
     ]
    },
    {
     "data": {
      "image/png": "[encoded data removed]",
      "text/plain": [
       "<Figure size 432x288 with 1 Axes>"
      ]
     },
     "metadata": {
      "needs_background": "light"
     },
     "output_type": "display_data"
    }
   ],
   "source": [
    "# number of times each hashtag appears\n",
    "counts = flattened_mentioned_df.groupby(['mentioned']).size()\\\n",
    "                              .reset_index(name='counts')\\\n",
    "                              .counts\n",
    "\n",
    "# define bins for histogram                              \n",
    "my_bins = np.arange(0,counts.max()+2, 5)-0.5\n",
    "\n",
    "# plot histogram of tweet counts\n",
    "plt.figure()\n",
    "plt.hist(counts, bins = my_bins)\n",
    "plt.xlabels = np.arange(1,counts.max()+1, 1)\n",
    "plt.xlabel('mentioned number of appearances')\n",
    "plt.ylabel('frequency')\n",
    "plt.yscale('log', nonposy='clip')\n",
    "plt.show()"
   ]
  },
  {
   "cell_type": "code",
   "execution_count": 161,
   "metadata": {},
   "outputs": [
    {
     "name": "stderr",
     "output_type": "stream",
     "text": [
      "/usr/local/lib/python3.7/site-packages/ipykernel/ipkernel.py:287: DeprecationWarning: `should_run_async` will not call `transform_cell` automatically in the future. Please pass the result to `transformed_cell` argument and any exception that happen during thetransform in `preprocessing_exc_tuple` in IPython 7.17 and above.\n",
      "  and should_run_async(code)\n"
     ]
    }
   ],
   "source": [
    "# take hashtags which appear at least this amount of times\n",
    "min_appearance = 400\n",
    "# find popular hashtags - make into python set for efficiency\n",
    "popular_mentioned_set = set(popular_mentions[\n",
    "                           popular_mentions.counts>=min_appearance\n",
    "                           ]['mentioned'])"
   ]
  },
  {
   "cell_type": "code",
   "execution_count": 162,
   "metadata": {},
   "outputs": [
    {
     "name": "stderr",
     "output_type": "stream",
     "text": [
      "/usr/local/lib/python3.7/site-packages/ipykernel/ipkernel.py:287: DeprecationWarning: `should_run_async` will not call `transform_cell` automatically in the future. Please pass the result to `transformed_cell` argument and any exception that happen during thetransform in `preprocessing_exc_tuple` in IPython 7.17 and above.\n",
      "  and should_run_async(code)\n"
     ]
    },
    {
     "data": {
      "text/html": [
       "<div>\n",
       "<style scoped>\n",
       "    .dataframe tbody tr th:only-of-type {\n",
       "        vertical-align: middle;\n",
       "    }\n",
       "\n",
       "    .dataframe tbody tr th {\n",
       "        vertical-align: top;\n",
       "    }\n",
       "\n",
       "    .dataframe thead th {\n",
       "        text-align: right;\n",
       "    }\n",
       "</style>\n",
       "<table border=\"1\" class=\"dataframe\">\n",
       "  <thead>\n",
       "    <tr style=\"text-align: right;\">\n",
       "      <th></th>\n",
       "      <th>mentioned</th>\n",
       "      <th>popular_mentions</th>\n",
       "    </tr>\n",
       "  </thead>\n",
       "  <tbody>\n",
       "    <tr>\n",
       "      <th>0</th>\n",
       "      <td>[@SpeakerPelosi]</td>\n",
       "      <td>[@SpeakerPelosi]</td>\n",
       "    </tr>\n",
       "    <tr>\n",
       "      <th>2</th>\n",
       "      <td>[@LaurenKGurley, @AOC]</td>\n",
       "      <td>[@AOC]</td>\n",
       "    </tr>\n",
       "    <tr>\n",
       "      <th>7</th>\n",
       "      <td>[@NRCC, @DCCC, @TeamPelosi, @dccc, @NRCC]</td>\n",
       "      <td>[@TeamPelosi]</td>\n",
       "    </tr>\n",
       "    <tr>\n",
       "      <th>13</th>\n",
       "      <td>[@SenTedCruz]</td>\n",
       "      <td>[@SenTedCruz]</td>\n",
       "    </tr>\n",
       "    <tr>\n",
       "      <th>16</th>\n",
       "      <td>[@BernieSanders, @MoreHouse]</td>\n",
       "      <td>[@BernieSanders]</td>\n",
       "    </tr>\n",
       "  </tbody>\n",
       "</table>\n",
       "</div>"
      ],
      "text/plain": [
       "                                    mentioned  popular_mentions\n",
       "0                            [@SpeakerPelosi]  [@SpeakerPelosi]\n",
       "2                      [@LaurenKGurley, @AOC]            [@AOC]\n",
       "7   [@NRCC, @DCCC, @TeamPelosi, @dccc, @NRCC]     [@TeamPelosi]\n",
       "13                              [@SenTedCruz]     [@SenTedCruz]\n",
       "16               [@BernieSanders, @MoreHouse]  [@BernieSanders]"
      ]
     },
     "execution_count": 162,
     "metadata": {},
     "output_type": "execute_result"
    }
   ],
   "source": [
    "# make a new column with only the popular hashtags\n",
    "mentioned_list_df['popular_mentions'] = mentioned_list_df.mentioned.apply(\n",
    "            lambda mentioned_list: [mentioned for mentioned in mentioned_list\n",
    "                                  if mentioned in popular_mentioned_set])\n",
    "# drop rows without popular hashtag\n",
    "popular_mentioned_list_df = mentioned_list_df.loc[\n",
    "            mentioned_list_df.popular_mentions.apply(lambda mentioned_list: mentioned_list !=[])]\n",
    "popular_mentioned_list_df.head()"
   ]
  },
  {
   "cell_type": "code",
   "execution_count": 163,
   "metadata": {},
   "outputs": [
    {
     "name": "stderr",
     "output_type": "stream",
     "text": [
      "/usr/local/lib/python3.7/site-packages/ipykernel/ipkernel.py:287: DeprecationWarning: `should_run_async` will not call `transform_cell` automatically in the future. Please pass the result to `transformed_cell` argument and any exception that happen during thetransform in `preprocessing_exc_tuple` in IPython 7.17 and above.\n",
      "  and should_run_async(code)\n"
     ]
    }
   ],
   "source": [
    "# make new dataframe\n",
    "mentioned_vector_df = popular_mentioned_list_df.loc[:, ['popular_mentions']]\n",
    "\n",
    "for mentioned in popular_mentioned_set:\n",
    "    # make columns to encode presence of hashtags\n",
    "    mentioned_vector_df['{}'.format(mentioned)] = mentioned_vector_df.popular_mentions.apply(\n",
    "        lambda mentioned_list: int(mentioned in mentioned_list))"
   ]
  },
  {
   "cell_type": "code",
   "execution_count": 164,
   "metadata": {},
   "outputs": [
    {
     "name": "stderr",
     "output_type": "stream",
     "text": [
      "/usr/local/lib/python3.7/site-packages/ipykernel/ipkernel.py:287: DeprecationWarning: `should_run_async` will not call `transform_cell` automatically in the future. Please pass the result to `transformed_cell` argument and any exception that happen during thetransform in `preprocessing_exc_tuple` in IPython 7.17 and above.\n",
      "  and should_run_async(code)\n"
     ]
    },
    {
     "data": {
      "image/png": "[encoded data removed]",
      "text/plain": [
       "<Figure size 1080x1080 with 2 Axes>"
      ]
     },
     "metadata": {
      "needs_background": "light"
     },
     "output_type": "display_data"
    }
   ],
   "source": [
    "mentioned_matrix = mentioned_vector_df.drop('popular_mentions', axis=1)\n",
    "# calculate the correlation matrix\n",
    "correlations = mentioned_matrix.corr()\n",
    "\n",
    "# plot the correlation matrix\n",
    "plt.figure(figsize=(15,15))\n",
    "sns.heatmap(correlations,\n",
    "    cmap='RdBu',\n",
    "    vmin=-1,\n",
    "    vmax=1,\n",
    "    square = True,\n",
    "    cbar_kws={'label':'correlation'})\n",
    "plt.show()\n"
   ]
  },
  {
   "cell_type": "code",
   "execution_count": null,
   "metadata": {},
   "outputs": [],
   "source": []
  },
  {
   "cell_type": "code",
   "execution_count": null,
   "metadata": {},
   "outputs": [],
   "source": []
  },
  {
   "cell_type": "code",
   "execution_count": null,
   "metadata": {},
   "outputs": [],
   "source": []
  },
  {
   "cell_type": "code",
   "execution_count": null,
   "metadata": {},
   "outputs": [],
   "source": []
  },
  {
   "cell_type": "code",
   "execution_count": null,
   "metadata": {},
   "outputs": [],
   "source": []
  },
  {
   "cell_type": "code",
   "execution_count": null,
   "metadata": {},
   "outputs": [],
   "source": []
  },
  {
   "cell_type": "code",
   "execution_count": null,
   "metadata": {},
   "outputs": [],
   "source": []
  },
  {
   "cell_type": "code",
   "execution_count": 188,
   "metadata": {},
   "outputs": [
    {
     "name": "stderr",
     "output_type": "stream",
     "text": [
      "/usr/local/lib/python3.7/site-packages/ipykernel/ipkernel.py:287: DeprecationWarning: `should_run_async` will not call `transform_cell` automatically in the future. Please pass the result to `transformed_cell` argument and any exception that happen during thetransform in `preprocessing_exc_tuple` in IPython 7.17 and above.\n",
      "  and should_run_async(code)\n",
      "[nltk_data] Downloading package stopwords to\n",
      "[nltk_data]     /Users/claytonnorth/nltk_data...\n",
      "[nltk_data]   Package stopwords is already up-to-date!\n"
     ]
    },
    {
     "data": {
      "text/plain": [
       "True"
      ]
     },
     "execution_count": 188,
     "metadata": {},
     "output_type": "execute_result"
    }
   ],
   "source": [
    "import nltk\n",
    "from nltk.tokenize import RegexpTokenizer\n",
    "from nltk.corpus import stopwords\n",
    "nltk.download('stopwords')"
   ]
  },
  {
   "cell_type": "code",
   "execution_count": 189,
   "metadata": {},
   "outputs": [
    {
     "name": "stderr",
     "output_type": "stream",
     "text": [
      "/usr/local/lib/python3.7/site-packages/ipykernel/ipkernel.py:287: DeprecationWarning: `should_run_async` will not call `transform_cell` automatically in the future. Please pass the result to `transformed_cell` argument and any exception that happen during thetransform in `preprocessing_exc_tuple` in IPython 7.17 and above.\n",
      "  and should_run_async(code)\n",
      "<>:9: DeprecationWarning: invalid escape sequence \\s\n",
      "<>:9: DeprecationWarning: invalid escape sequence \\s\n",
      "<>:9: DeprecationWarning: invalid escape sequence \\s\n",
      "<ipython-input-189-696c8651f155>:9: DeprecationWarning: invalid escape sequence \\s\n",
      "  tweet = re.sub('(RT\\s@[A-Za-z]+[A-Za-z0-9-_]+)', '', tweet) # remove retweet\n"
     ]
    }
   ],
   "source": [
    "def remove_links(tweet):\n",
    "    '''Takes a string and removes web links from it'''\n",
    "    tweet = re.sub(r'http\\S+', '', tweet) # remove http links\n",
    "    tweet = re.sub(r'bit.ly/\\S+', '', tweet) # rempve bitly links\n",
    "    tweet = tweet.strip('[link]') # remove [links]\n",
    "    return tweet\n",
    "def remove_users(tweet):\n",
    "    '''Takes a string and removes retweet and @user information'''\n",
    "    tweet = re.sub('(RT\\s@[A-Za-z]+[A-Za-z0-9-_]+)', '', tweet) # remove retweet\n",
    "    tweet = re.sub('(@[A-Za-z]+[A-Za-z0-9-_]+)', '', tweet) # remove tweeted at\n",
    "    return tweet"
   ]
  },
  {
   "cell_type": "code",
   "execution_count": 190,
   "metadata": {},
   "outputs": [
    {
     "name": "stderr",
     "output_type": "stream",
     "text": [
      "/usr/local/lib/python3.7/site-packages/ipykernel/ipkernel.py:287: DeprecationWarning: `should_run_async` will not call `transform_cell` automatically in the future. Please pass the result to `transformed_cell` argument and any exception that happen during thetransform in `preprocessing_exc_tuple` in IPython 7.17 and above.\n",
      "  and should_run_async(code)\n",
      "<>:11: DeprecationWarning: invalid escape sequence \\s\n",
      "<>:11: DeprecationWarning: invalid escape sequence \\s\n",
      "<>:11: DeprecationWarning: invalid escape sequence \\s\n",
      "<ipython-input-190-056f5b3773f3>:11: DeprecationWarning: invalid escape sequence \\s\n",
      "  tweet = re.sub('\\s+', ' ', tweet) #remove double spacing\n"
     ]
    }
   ],
   "source": [
    "my_stopwords = nltk.corpus.stopwords.words('english')\n",
    "word_rooter = nltk.stem.snowball.PorterStemmer(ignore_stopwords=False).stem\n",
    "my_punctuation = '!\"$%&\\'()*+,-./:;<=>?[\\\\]^_`{|}~•@'\n",
    "\n",
    "# cleaning master function\n",
    "def clean_tweet(tweet, bigrams=True):\n",
    "    tweet = remove_users(tweet)\n",
    "    tweet = remove_links(tweet)\n",
    "    tweet = tweet.lower() # lower case\n",
    "    tweet = re.sub('['+my_punctuation + ']+', ' ', tweet) # strip punctuation\n",
    "    tweet = re.sub('\\s+', ' ', tweet) #remove double spacing\n",
    "    tweet = re.sub('([0-9]+)', '', tweet) # remove numbers\n",
    "    tweet_token_list = [word for word in tweet.split(' ')\n",
    "                            if word not in my_stopwords] # remove stopwords\n",
    "\n",
    "    tweet_token_list = [word_rooter(word) if '#' not in word else word\n",
    "                        for word in tweet_token_list] # apply word rooter\n",
    "    if bigrams:\n",
    "        tweet_token_list = tweet_token_list+[tweet_token_list[i]+'_'+tweet_token_list[i+1]\n",
    "                                            for i in range(len(tweet_token_list)-1)]\n",
    "    tweet = ' '.join(tweet_token_list)\n",
    "    return tweet"
   ]
  },
  {
   "cell_type": "code",
   "execution_count": 191,
   "metadata": {},
   "outputs": [
    {
     "name": "stderr",
     "output_type": "stream",
     "text": [
      "/usr/local/lib/python3.7/site-packages/ipykernel/ipkernel.py:287: DeprecationWarning: `should_run_async` will not call `transform_cell` automatically in the future. Please pass the result to `transformed_cell` argument and any exception that happen during thetransform in `preprocessing_exc_tuple` in IPython 7.17 and above.\n",
      "  and should_run_async(code)\n"
     ]
    }
   ],
   "source": [
    "df['clean_tweet'] = df.text.apply(clean_tweet)"
   ]
  },
  {
   "cell_type": "code",
   "execution_count": 192,
   "metadata": {},
   "outputs": [
    {
     "name": "stderr",
     "output_type": "stream",
     "text": [
      "/usr/local/lib/python3.7/site-packages/ipykernel/ipkernel.py:287: DeprecationWarning: `should_run_async` will not call `transform_cell` automatically in the future. Please pass the result to `transformed_cell` argument and any exception that happen during thetransform in `preprocessing_exc_tuple` in IPython 7.17 and above.\n",
      "  and should_run_async(code)\n"
     ]
    },
    {
     "data": {
      "text/html": [
       "<div>\n",
       "<style scoped>\n",
       "    .dataframe tbody tr th:only-of-type {\n",
       "        vertical-align: middle;\n",
       "    }\n",
       "\n",
       "    .dataframe tbody tr th {\n",
       "        vertical-align: top;\n",
       "    }\n",
       "\n",
       "    .dataframe thead th {\n",
       "        text-align: right;\n",
       "    }\n",
       "</style>\n",
       "<table border=\"1\" class=\"dataframe\">\n",
       "  <thead>\n",
       "    <tr style=\"text-align: right;\">\n",
       "      <th></th>\n",
       "      <th>Unnamed: 0</th>\n",
       "      <th>Unnamed: 0.1</th>\n",
       "      <th>screen_names</th>\n",
       "      <th>text</th>\n",
       "      <th>link</th>\n",
       "      <th>time</th>\n",
       "      <th>is_retweet</th>\n",
       "      <th>retweeted</th>\n",
       "      <th>mentioned</th>\n",
       "      <th>hashtags</th>\n",
       "      <th>clean_tweet</th>\n",
       "      <th>lemma_tokens</th>\n",
       "    </tr>\n",
       "  </thead>\n",
       "  <tbody>\n",
       "    <tr>\n",
       "      <th>0</th>\n",
       "      <td>0</td>\n",
       "      <td>0.0</td>\n",
       "      <td>TeamPelosi</td>\n",
       "      <td>RT @NoOneIsAboveLaw \"We all take an oath to pr...</td>\n",
       "      <td>https://www.twitter.com/NoOneIsAboveLaw/status...</td>\n",
       "      <td>2019-11-21T23:46:08-05:00</td>\n",
       "      <td>True</td>\n",
       "      <td>[@NoOneIsAboveLaw]</td>\n",
       "      <td>[@SpeakerPelosi]</td>\n",
       "      <td>[#CountryOverPolitics]</td>\n",
       "      <td>take oath protect defend constitut unit state...</td>\n",
       "      <td>[take, oath, protect, defend, constitut, unit,...</td>\n",
       "    </tr>\n",
       "    <tr>\n",
       "      <th>1</th>\n",
       "      <td>1</td>\n",
       "      <td>1.0</td>\n",
       "      <td>marcorubio</td>\n",
       "      <td>RT @SquawkCNBC \"I think China needs to stop in...</td>\n",
       "      <td>https://www.twitter.com/SquawkCNBC/statuses/11...</td>\n",
       "      <td>2019-11-21T13:34:41-05:00</td>\n",
       "      <td>True</td>\n",
       "      <td>[@SquawkCNBC]</td>\n",
       "      <td>[@MarcoRubio]</td>\n",
       "      <td>[]</td>\n",
       "      <td>think china need stop interf intern affair un...</td>\n",
       "      <td>[think, china, need, stop, interf, intern, aff...</td>\n",
       "    </tr>\n",
       "    <tr>\n",
       "      <th>2</th>\n",
       "      <td>2</td>\n",
       "      <td>2.0</td>\n",
       "      <td>BernieSanders</td>\n",
       "      <td>This is absolutely unacceptable and Bright Pow...</td>\n",
       "      <td>https://www.twitter.com/BernieSanders/statuses...</td>\n",
       "      <td>2019-11-21T20:40:00-05:00</td>\n",
       "      <td>False</td>\n",
       "      <td>[]</td>\n",
       "      <td>[@LaurenKGurley, @AOC]</td>\n",
       "      <td>[]</td>\n",
       "      <td>absolut unaccept bright power must held accoun...</td>\n",
       "      <td>[absolut, unaccept, bright, power, must, held,...</td>\n",
       "    </tr>\n",
       "    <tr>\n",
       "      <th>3</th>\n",
       "      <td>3</td>\n",
       "      <td>3.0</td>\n",
       "      <td>CoryBooker</td>\n",
       "      <td>Dignity in work means strong unions and fair l...</td>\n",
       "      <td>https://www.twitter.com/CoryBooker/statuses/11...</td>\n",
       "      <td>2019-11-21T16:46:32-05:00</td>\n",
       "      <td>False</td>\n",
       "      <td>[]</td>\n",
       "      <td>[@IowaAFLCIO]</td>\n",
       "      <td>[]</td>\n",
       "      <td>digniti work mean strong union fair labor prac...</td>\n",
       "      <td>[digniti, work, mean, strong, union, fair, lab...</td>\n",
       "    </tr>\n",
       "    <tr>\n",
       "      <th>4</th>\n",
       "      <td>4</td>\n",
       "      <td>4.0</td>\n",
       "      <td>BernieSanders</td>\n",
       "      <td>We will cancel student debt. We will make publ...</td>\n",
       "      <td>https://www.twitter.com/BernieSanders/statuses...</td>\n",
       "      <td>2019-11-21T12:57:53-05:00</td>\n",
       "      <td>False</td>\n",
       "      <td>[]</td>\n",
       "      <td>[]</td>\n",
       "      <td>[]</td>\n",
       "      <td>cancel student debt make public colleg univers...</td>\n",
       "      <td>[cancel, student, debt, make, public, colleg, ...</td>\n",
       "    </tr>\n",
       "    <tr>\n",
       "      <th>5</th>\n",
       "      <td>5</td>\n",
       "      <td>5.0</td>\n",
       "      <td>SpeakerPelosi</td>\n",
       "      <td>As the House concludes another week of our wor...</td>\n",
       "      <td>https://www.twitter.com/SpeakerPelosi/statuses...</td>\n",
       "      <td>2019-11-21T10:55:45-05:00</td>\n",
       "      <td>False</td>\n",
       "      <td>[]</td>\n",
       "      <td>[]</td>\n",
       "      <td>[#ForThePeople]</td>\n",
       "      <td>hous conclud anoth week work #forthepeople tak...</td>\n",
       "      <td>[hous, conclud, anoth, week, work, #forthepeop...</td>\n",
       "    </tr>\n",
       "    <tr>\n",
       "      <th>6</th>\n",
       "      <td>6</td>\n",
       "      <td>6.0</td>\n",
       "      <td>SenTedCruz</td>\n",
       "      <td>RT @SenTedCruz Tune in at ~4:30pm ET for my in...</td>\n",
       "      <td>https://www.twitter.com/SenTedCruz/statuses/11...</td>\n",
       "      <td>2019-11-21T16:36:43-05:00</td>\n",
       "      <td>True</td>\n",
       "      <td>[@SenTedCruz]</td>\n",
       "      <td>[@benshapiro]</td>\n",
       "      <td>[#HongKongProtests, #DemDebate]</td>\n",
       "      <td>tune  pm et interview discuss #hongkongprotes...</td>\n",
       "      <td>[tune, pm, et, interview, discuss, #hongkongpr...</td>\n",
       "    </tr>\n",
       "    <tr>\n",
       "      <th>7</th>\n",
       "      <td>7</td>\n",
       "      <td>7.0</td>\n",
       "      <td>TeamPelosi</td>\n",
       "      <td>RT @mikesmith_DC .@NRCC is off to a great star...</td>\n",
       "      <td>https://www.twitter.com/mikesmith_DC/statuses/...</td>\n",
       "      <td>2019-11-21T16:48:13-05:00</td>\n",
       "      <td>True</td>\n",
       "      <td>[@mikesmith_DC]</td>\n",
       "      <td>[@NRCC, @DCCC, @TeamPelosi, @dccc, @NRCC]</td>\n",
       "      <td>[]</td>\n",
       "      <td>great start cycl take lot effort get outrais ...</td>\n",
       "      <td>[great, start, cycl, take, lot, effort, get, o...</td>\n",
       "    </tr>\n",
       "    <tr>\n",
       "      <th>8</th>\n",
       "      <td>8</td>\n",
       "      <td>8.0</td>\n",
       "      <td>tedcruz</td>\n",
       "      <td>Awesome artwork by Houston student from Rodeo ...</td>\n",
       "      <td>https://www.twitter.com/tedcruz/statuses/11976...</td>\n",
       "      <td>2019-11-21T15:57:10-05:00</td>\n",
       "      <td>False</td>\n",
       "      <td>[]</td>\n",
       "      <td>[@univision]</td>\n",
       "      <td>[#DC]</td>\n",
       "      <td>awesom artwork houston student rodeo palm jr h...</td>\n",
       "      <td>[awesom, artwork, houston, student, rodeo, pal...</td>\n",
       "    </tr>\n",
       "    <tr>\n",
       "      <th>9</th>\n",
       "      <td>9</td>\n",
       "      <td>9.0</td>\n",
       "      <td>tedcruz</td>\n",
       "      <td>¯\\_(ツ)_/¯ https://twitter.com/brentscher/statu...</td>\n",
       "      <td>https://www.twitter.com/tedcruz/statuses/11976...</td>\n",
       "      <td>2019-11-21T16:32:11-05:00</td>\n",
       "      <td>False</td>\n",
       "      <td>[]</td>\n",
       "      <td>[@BrentScher]</td>\n",
       "      <td>[]</td>\n",
       "      <td>¯\\ ツ ¯ qt anti fracker russian asset  ¯\\_ツ ツ_¯...</td>\n",
       "      <td>[¯\\, ツ, ¯, qt, anti, fracker, russian, asset, ...</td>\n",
       "    </tr>\n",
       "  </tbody>\n",
       "</table>\n",
       "</div>"
      ],
      "text/plain": [
       "   Unnamed: 0  Unnamed: 0.1   screen_names  \\\n",
       "0           0           0.0     TeamPelosi   \n",
       "1           1           1.0     marcorubio   \n",
       "2           2           2.0  BernieSanders   \n",
       "3           3           3.0     CoryBooker   \n",
       "4           4           4.0  BernieSanders   \n",
       "5           5           5.0  SpeakerPelosi   \n",
       "6           6           6.0     SenTedCruz   \n",
       "7           7           7.0     TeamPelosi   \n",
       "8           8           8.0        tedcruz   \n",
       "9           9           9.0        tedcruz   \n",
       "\n",
       "                                                text  \\\n",
       "0  RT @NoOneIsAboveLaw \"We all take an oath to pr...   \n",
       "1  RT @SquawkCNBC \"I think China needs to stop in...   \n",
       "2  This is absolutely unacceptable and Bright Pow...   \n",
       "3  Dignity in work means strong unions and fair l...   \n",
       "4  We will cancel student debt. We will make publ...   \n",
       "5  As the House concludes another week of our wor...   \n",
       "6  RT @SenTedCruz Tune in at ~4:30pm ET for my in...   \n",
       "7  RT @mikesmith_DC .@NRCC is off to a great star...   \n",
       "8  Awesome artwork by Houston student from Rodeo ...   \n",
       "9  ¯\\_(ツ)_/¯ https://twitter.com/brentscher/statu...   \n",
       "\n",
       "                                                link  \\\n",
       "0  https://www.twitter.com/NoOneIsAboveLaw/status...   \n",
       "1  https://www.twitter.com/SquawkCNBC/statuses/11...   \n",
       "2  https://www.twitter.com/BernieSanders/statuses...   \n",
       "3  https://www.twitter.com/CoryBooker/statuses/11...   \n",
       "4  https://www.twitter.com/BernieSanders/statuses...   \n",
       "5  https://www.twitter.com/SpeakerPelosi/statuses...   \n",
       "6  https://www.twitter.com/SenTedCruz/statuses/11...   \n",
       "7  https://www.twitter.com/mikesmith_DC/statuses/...   \n",
       "8  https://www.twitter.com/tedcruz/statuses/11976...   \n",
       "9  https://www.twitter.com/tedcruz/statuses/11976...   \n",
       "\n",
       "                        time  is_retweet           retweeted  \\\n",
       "0  2019-11-21T23:46:08-05:00        True  [@NoOneIsAboveLaw]   \n",
       "1  2019-11-21T13:34:41-05:00        True       [@SquawkCNBC]   \n",
       "2  2019-11-21T20:40:00-05:00       False                  []   \n",
       "3  2019-11-21T16:46:32-05:00       False                  []   \n",
       "4  2019-11-21T12:57:53-05:00       False                  []   \n",
       "5  2019-11-21T10:55:45-05:00       False                  []   \n",
       "6  2019-11-21T16:36:43-05:00        True       [@SenTedCruz]   \n",
       "7  2019-11-21T16:48:13-05:00        True     [@mikesmith_DC]   \n",
       "8  2019-11-21T15:57:10-05:00       False                  []   \n",
       "9  2019-11-21T16:32:11-05:00       False                  []   \n",
       "\n",
       "                                   mentioned                         hashtags  \\\n",
       "0                           [@SpeakerPelosi]           [#CountryOverPolitics]   \n",
       "1                              [@MarcoRubio]                               []   \n",
       "2                     [@LaurenKGurley, @AOC]                               []   \n",
       "3                              [@IowaAFLCIO]                               []   \n",
       "4                                         []                               []   \n",
       "5                                         []                  [#ForThePeople]   \n",
       "6                              [@benshapiro]  [#HongKongProtests, #DemDebate]   \n",
       "7  [@NRCC, @DCCC, @TeamPelosi, @dccc, @NRCC]                               []   \n",
       "8                               [@univision]                            [#DC]   \n",
       "9                              [@BrentScher]                               []   \n",
       "\n",
       "                                         clean_tweet  \\\n",
       "0   take oath protect defend constitut unit state...   \n",
       "1   think china need stop interf intern affair un...   \n",
       "2  absolut unaccept bright power must held accoun...   \n",
       "3  digniti work mean strong union fair labor prac...   \n",
       "4  cancel student debt make public colleg univers...   \n",
       "5  hous conclud anoth week work #forthepeople tak...   \n",
       "6   tune  pm et interview discuss #hongkongprotes...   \n",
       "7   great start cycl take lot effort get outrais ...   \n",
       "8  awesom artwork houston student rodeo palm jr h...   \n",
       "9  ¯\\ ツ ¯ qt anti fracker russian asset  ¯\\_ツ ツ_¯...   \n",
       "\n",
       "                                        lemma_tokens  \n",
       "0  [take, oath, protect, defend, constitut, unit,...  \n",
       "1  [think, china, need, stop, interf, intern, aff...  \n",
       "2  [absolut, unaccept, bright, power, must, held,...  \n",
       "3  [digniti, work, mean, strong, union, fair, lab...  \n",
       "4  [cancel, student, debt, make, public, colleg, ...  \n",
       "5  [hous, conclud, anoth, week, work, #forthepeop...  \n",
       "6  [tune, pm, et, interview, discuss, #hongkongpr...  \n",
       "7  [great, start, cycl, take, lot, effort, get, o...  \n",
       "8  [awesom, artwork, houston, student, rodeo, pal...  \n",
       "9  [¯\\, ツ, ¯, qt, anti, fracker, russian, asset, ...  "
      ]
     },
     "execution_count": 192,
     "metadata": {},
     "output_type": "execute_result"
    }
   ],
   "source": [
    "df.head(10)"
   ]
  },
  {
   "cell_type": "code",
   "execution_count": 193,
   "metadata": {},
   "outputs": [
    {
     "name": "stderr",
     "output_type": "stream",
     "text": [
      "/usr/local/lib/python3.7/site-packages/ipykernel/ipkernel.py:287: DeprecationWarning: `should_run_async` will not call `transform_cell` automatically in the future. Please pass the result to `transformed_cell` argument and any exception that happen during thetransform in `preprocessing_exc_tuple` in IPython 7.17 and above.\n",
      "  and should_run_async(code)\n",
      "<>:5: DeprecationWarning: invalid escape sequence \\w\n",
      "<>:5: DeprecationWarning: invalid escape sequence \\w\n",
      "<>:5: DeprecationWarning: invalid escape sequence \\w\n",
      "<ipython-input-193-ff5b9142cc89>:5: DeprecationWarning: invalid escape sequence \\w\n",
      "  vectorizer = CountVectorizer(max_df=0.9, min_df=40, token_pattern='\\w+|\\$[\\d\\.]+|\\S+')\n"
     ]
    },
    {
     "data": {
      "text/plain": [
       "(42215, 4063)"
      ]
     },
     "execution_count": 193,
     "metadata": {},
     "output_type": "execute_result"
    }
   ],
   "source": [
    "from sklearn.feature_extraction.text import CountVectorizer\n",
    "\n",
    "# the vectorizer object will be used to transform text to vector form\n",
    "# max_df to filter words that appear in less than 90% and more than 25 %\n",
    "vectorizer = CountVectorizer(max_df=0.9, min_df=40, token_pattern='\\w+|\\$[\\d\\.]+|\\S+')\n",
    "\n",
    "# apply transformation\n",
    "tf = vectorizer.fit_transform(df['clean_tweet']).toarray()\n",
    "\n",
    "# tf_feature_names tells us what word each column in the matric represents\n",
    "tf_feature_names = vectorizer.get_feature_names()\n",
    "# total frequency of words that made it through filtering\n",
    "tf.shape"
   ]
  },
  {
   "cell_type": "code",
   "execution_count": 194,
   "metadata": {},
   "outputs": [
    {
     "name": "stderr",
     "output_type": "stream",
     "text": [
      "/usr/local/lib/python3.7/site-packages/ipykernel/ipkernel.py:287: DeprecationWarning: `should_run_async` will not call `transform_cell` automatically in the future. Please pass the result to `transformed_cell` argument and any exception that happen during thetransform in `preprocessing_exc_tuple` in IPython 7.17 and above.\n",
      "  and should_run_async(code)\n"
     ]
    }
   ],
   "source": [
    "from sklearn.decomposition import LatentDirichletAllocation\n",
    "\n",
    "number_of_topics = 20\n",
    "\n",
    "model = LatentDirichletAllocation(n_components=number_of_topics, random_state=0)"
   ]
  },
  {
   "cell_type": "code",
   "execution_count": 195,
   "metadata": {},
   "outputs": [
    {
     "name": "stderr",
     "output_type": "stream",
     "text": [
      "/usr/local/lib/python3.7/site-packages/ipykernel/ipkernel.py:287: DeprecationWarning: `should_run_async` will not call `transform_cell` automatically in the future. Please pass the result to `transformed_cell` argument and any exception that happen during thetransform in `preprocessing_exc_tuple` in IPython 7.17 and above.\n",
      "  and should_run_async(code)\n"
     ]
    },
    {
     "data": {
      "text/plain": [
       "LatentDirichletAllocation(n_components=20, random_state=0)"
      ]
     },
     "execution_count": 195,
     "metadata": {},
     "output_type": "execute_result"
    }
   ],
   "source": [
    "model.fit(tf)"
   ]
  },
  {
   "cell_type": "code",
   "execution_count": 196,
   "metadata": {},
   "outputs": [
    {
     "name": "stderr",
     "output_type": "stream",
     "text": [
      "/usr/local/lib/python3.7/site-packages/ipykernel/ipkernel.py:287: DeprecationWarning: `should_run_async` will not call `transform_cell` automatically in the future. Please pass the result to `transformed_cell` argument and any exception that happen during thetransform in `preprocessing_exc_tuple` in IPython 7.17 and above.\n",
      "  and should_run_async(code)\n"
     ]
    }
   ],
   "source": [
    "def display_topics(model, feature_names, no_top_words):\n",
    "    topic_dict = {}\n",
    "    for topic_idx, topic in enumerate(model.components_):\n",
    "        topic_dict[\"Topic %d words\" % (topic_idx)]= ['{}'.format(feature_names[i])\n",
    "                        for i in topic.argsort()[:-no_top_words - 1:-1]]\n",
    "        topic_dict[\"Topic %d weights\" % (topic_idx)]= ['{:.1f}'.format(topic[i])\n",
    "                        for i in topic.argsort()[:-no_top_words - 1:-1]]\n",
    "    return pd.DataFrame(topic_dict)\n"
   ]
  },
  {
   "cell_type": "code",
   "execution_count": 197,
   "metadata": {},
   "outputs": [
    {
     "name": "stderr",
     "output_type": "stream",
     "text": [
      "/usr/local/lib/python3.7/site-packages/ipykernel/ipkernel.py:287: DeprecationWarning: `should_run_async` will not call `transform_cell` automatically in the future. Please pass the result to `transformed_cell` argument and any exception that happen during thetransform in `preprocessing_exc_tuple` in IPython 7.17 and above.\n",
      "  and should_run_async(code)\n"
     ]
    },
    {
     "data": {
      "text/html": [
       "<div>\n",
       "<style scoped>\n",
       "    .dataframe tbody tr th:only-of-type {\n",
       "        vertical-align: middle;\n",
       "    }\n",
       "\n",
       "    .dataframe tbody tr th {\n",
       "        vertical-align: top;\n",
       "    }\n",
       "\n",
       "    .dataframe thead th {\n",
       "        text-align: right;\n",
       "    }\n",
       "</style>\n",
       "<table border=\"1\" class=\"dataframe\">\n",
       "  <thead>\n",
       "    <tr style=\"text-align: right;\">\n",
       "      <th></th>\n",
       "      <th>Topic 0 words</th>\n",
       "      <th>Topic 0 weights</th>\n",
       "      <th>Topic 1 words</th>\n",
       "      <th>Topic 1 weights</th>\n",
       "      <th>Topic 2 words</th>\n",
       "      <th>Topic 2 weights</th>\n",
       "      <th>Topic 3 words</th>\n",
       "      <th>Topic 3 weights</th>\n",
       "      <th>Topic 4 words</th>\n",
       "      <th>Topic 4 weights</th>\n",
       "      <th>...</th>\n",
       "      <th>Topic 15 words</th>\n",
       "      <th>Topic 15 weights</th>\n",
       "      <th>Topic 16 words</th>\n",
       "      <th>Topic 16 weights</th>\n",
       "      <th>Topic 17 words</th>\n",
       "      <th>Topic 17 weights</th>\n",
       "      <th>Topic 18 words</th>\n",
       "      <th>Topic 18 weights</th>\n",
       "      <th>Topic 19 words</th>\n",
       "      <th>Topic 19 weights</th>\n",
       "    </tr>\n",
       "  </thead>\n",
       "  <tbody>\n",
       "    <tr>\n",
       "      <th>0</th>\n",
       "      <td>care</td>\n",
       "      <td>1415.7</td>\n",
       "      <td>amp</td>\n",
       "      <td>5187.4</td>\n",
       "      <td>’</td>\n",
       "      <td>2533.8</td>\n",
       "      <td>gt</td>\n",
       "      <td>714.4</td>\n",
       "      <td>vote</td>\n",
       "      <td>2153.5</td>\n",
       "      <td>...</td>\n",
       "      <td>_</td>\n",
       "      <td>1136.8</td>\n",
       "      <td>’r</td>\n",
       "      <td>2387.0</td>\n",
       "      <td>’</td>\n",
       "      <td>14905.0</td>\n",
       "      <td>work</td>\n",
       "      <td>1656.6</td>\n",
       "      <td>”</td>\n",
       "      <td>5722.1</td>\n",
       "    </tr>\n",
       "    <tr>\n",
       "      <th>1</th>\n",
       "      <td>health</td>\n",
       "      <td>1297.7</td>\n",
       "      <td>u</td>\n",
       "      <td>643.5</td>\n",
       "      <td>school</td>\n",
       "      <td>867.9</td>\n",
       "      <td>amp</td>\n",
       "      <td>703.5</td>\n",
       "      <td>trump</td>\n",
       "      <td>1120.9</td>\n",
       "      <td>...</td>\n",
       "      <td>tax</td>\n",
       "      <td>946.5</td>\n",
       "      <td>we</td>\n",
       "      <td>2087.0</td>\n",
       "      <td>it</td>\n",
       "      <td>4403.6</td>\n",
       "      <td>fight</td>\n",
       "      <td>1466.4</td>\n",
       "      <td>#venezuela</td>\n",
       "      <td>1086.1</td>\n",
       "    </tr>\n",
       "    <tr>\n",
       "      <th>2</th>\n",
       "      <td>health_care</td>\n",
       "      <td>921.3</td>\n",
       "      <td>law</td>\n",
       "      <td>618.4</td>\n",
       "      <td>student</td>\n",
       "      <td>626.0</td>\n",
       "      <td>china</td>\n",
       "      <td>686.3</td>\n",
       "      <td>elect</td>\n",
       "      <td>1098.8</td>\n",
       "      <td>...</td>\n",
       "      <td>year</td>\n",
       "      <td>880.7</td>\n",
       "      <td>you</td>\n",
       "      <td>1188.0</td>\n",
       "      <td>”</td>\n",
       "      <td>1812.4</td>\n",
       "      <td>us</td>\n",
       "      <td>1403.5</td>\n",
       "      <td>⁦⁩</td>\n",
       "      <td>960.9</td>\n",
       "    </tr>\n",
       "    <tr>\n",
       "      <th>3</th>\n",
       "      <td>medicar</td>\n",
       "      <td>702.7</td>\n",
       "      <td>attack</td>\n",
       "      <td>598.3</td>\n",
       "      <td>educ</td>\n",
       "      <td>523.1</td>\n",
       "      <td>#covid</td>\n",
       "      <td>675.1</td>\n",
       "      <td>campaign</td>\n",
       "      <td>913.5</td>\n",
       "      <td>...</td>\n",
       "      <td>state</td>\n",
       "      <td>793.7</td>\n",
       "      <td>’v</td>\n",
       "      <td>1029.4</td>\n",
       "      <td>qt</td>\n",
       "      <td>1522.3</td>\n",
       "      <td>togeth</td>\n",
       "      <td>1315.4</td>\n",
       "      <td>_</td>\n",
       "      <td>952.1</td>\n",
       "    </tr>\n",
       "    <tr>\n",
       "      <th>4</th>\n",
       "      <td>peopl</td>\n",
       "      <td>624.5</td>\n",
       "      <td>protect</td>\n",
       "      <td>534.4</td>\n",
       "      <td>trump</td>\n",
       "      <td>469.0</td>\n",
       "      <td>#coronavirus</td>\n",
       "      <td>615.8</td>\n",
       "      <td>qt</td>\n",
       "      <td>837.3</td>\n",
       "      <td>...</td>\n",
       "      <td>billion</td>\n",
       "      <td>787.4</td>\n",
       "      <td>they</td>\n",
       "      <td>882.0</td>\n",
       "      <td>that</td>\n",
       "      <td>1486.3</td>\n",
       "      <td>peopl</td>\n",
       "      <td>1302.6</td>\n",
       "      <td>qt</td>\n",
       "      <td>817.0</td>\n",
       "    </tr>\n",
       "    <tr>\n",
       "      <th>5</th>\n",
       "      <td>system</td>\n",
       "      <td>578.8</td>\n",
       "      <td>secur</td>\n",
       "      <td>524.4</td>\n",
       "      <td>president</td>\n",
       "      <td>426.6</td>\n",
       "      <td>forward</td>\n",
       "      <td>609.0</td>\n",
       "      <td>win</td>\n",
       "      <td>780.0</td>\n",
       "      <td>...</td>\n",
       "      <td>pay</td>\n",
       "      <td>683.9</td>\n",
       "      <td>’ll</td>\n",
       "      <td>507.3</td>\n",
       "      <td>he</td>\n",
       "      <td>790.0</td>\n",
       "      <td>countri</td>\n",
       "      <td>1159.0</td>\n",
       "      <td>”_</td>\n",
       "      <td>722.9</td>\n",
       "    </tr>\n",
       "    <tr>\n",
       "      <th>6</th>\n",
       "      <td>profit</td>\n",
       "      <td>527.9</td>\n",
       "      <td>nation</td>\n",
       "      <td>505.2</td>\n",
       "      <td>administr</td>\n",
       "      <td>338.7</td>\n",
       "      <td>#china</td>\n",
       "      <td>604.7</td>\n",
       "      <td>help</td>\n",
       "      <td>763.7</td>\n",
       "      <td>...</td>\n",
       "      <td>border</td>\n",
       "      <td>663.3</td>\n",
       "      <td>qt</td>\n",
       "      <td>443.4</td>\n",
       "      <td>trump</td>\n",
       "      <td>652.6</td>\n",
       "      <td>stand</td>\n",
       "      <td>1021.9</td>\n",
       "      <td>amp</td>\n",
       "      <td>687.9</td>\n",
       "    </tr>\n",
       "    <tr>\n",
       "      <th>7</th>\n",
       "      <td>go</td>\n",
       "      <td>509.2</td>\n",
       "      <td>busi</td>\n",
       "      <td>504.7</td>\n",
       "      <td>democrats</td>\n",
       "      <td>306.0</td>\n",
       "      <td>look</td>\n",
       "      <td>589.5</td>\n",
       "      <td>voter</td>\n",
       "      <td>729.1</td>\n",
       "      <td>...</td>\n",
       "      <td>unit</td>\n",
       "      <td>650.4</td>\n",
       "      <td>debt</td>\n",
       "      <td>439.4</td>\n",
       "      <td>amp</td>\n",
       "      <td>649.8</td>\n",
       "      <td>join</td>\n",
       "      <td>828.1</td>\n",
       "      <td>presid</td>\n",
       "      <td>566.8</td>\n",
       "    </tr>\n",
       "    <tr>\n",
       "      <th>8</th>\n",
       "      <td>drug</td>\n",
       "      <td>502.0</td>\n",
       "      <td>support</td>\n",
       "      <td>492.0</td>\n",
       "      <td>today</td>\n",
       "      <td>290.8</td>\n",
       "      <td>gt_</td>\n",
       "      <td>578.2</td>\n",
       "      <td>get</td>\n",
       "      <td>706.3</td>\n",
       "      <td>...</td>\n",
       "      <td>unit_state</td>\n",
       "      <td>606.4</td>\n",
       "      <td>go</td>\n",
       "      <td>429.6</td>\n",
       "      <td>let</td>\n",
       "      <td>572.5</td>\n",
       "      <td>movement</td>\n",
       "      <td>754.4</td>\n",
       "      <td>say</td>\n",
       "      <td>516.4</td>\n",
       "    </tr>\n",
       "    <tr>\n",
       "      <th>9</th>\n",
       "      <td>compani</td>\n",
       "      <td>501.0</td>\n",
       "      <td>need</td>\n",
       "      <td>456.9</td>\n",
       "      <td>report</td>\n",
       "      <td>287.3</td>\n",
       "      <td>parti</td>\n",
       "      <td>528.9</td>\n",
       "      <td>one</td>\n",
       "      <td>701.8</td>\n",
       "      <td>...</td>\n",
       "      <td>_billion</td>\n",
       "      <td>585.3</td>\n",
       "      <td>colleg</td>\n",
       "      <td>324.8</td>\n",
       "      <td>here</td>\n",
       "      <td>526.0</td>\n",
       "      <td>justic</td>\n",
       "      <td>724.0</td>\n",
       "      <td>peopl</td>\n",
       "      <td>484.1</td>\n",
       "    </tr>\n",
       "  </tbody>\n",
       "</table>\n",
       "<p>10 rows × 40 columns</p>\n",
       "</div>"
      ],
      "text/plain": [
       "  Topic 0 words Topic 0 weights Topic 1 words Topic 1 weights Topic 2 words  \\\n",
       "0          care          1415.7           amp          5187.4             ’   \n",
       "1        health          1297.7             u           643.5        school   \n",
       "2   health_care           921.3           law           618.4       student   \n",
       "3       medicar           702.7        attack           598.3          educ   \n",
       "4         peopl           624.5       protect           534.4         trump   \n",
       "5        system           578.8         secur           524.4     president   \n",
       "6        profit           527.9        nation           505.2     administr   \n",
       "7            go           509.2          busi           504.7     democrats   \n",
       "8          drug           502.0       support           492.0         today   \n",
       "9       compani           501.0          need           456.9        report   \n",
       "\n",
       "  Topic 2 weights Topic 3 words Topic 3 weights Topic 4 words Topic 4 weights  \\\n",
       "0          2533.8            gt           714.4          vote          2153.5   \n",
       "1           867.9           amp           703.5         trump          1120.9   \n",
       "2           626.0         china           686.3         elect          1098.8   \n",
       "3           523.1        #covid           675.1      campaign           913.5   \n",
       "4           469.0  #coronavirus           615.8            qt           837.3   \n",
       "5           426.6       forward           609.0           win           780.0   \n",
       "6           338.7        #china           604.7          help           763.7   \n",
       "7           306.0          look           589.5         voter           729.1   \n",
       "8           290.8           gt_           578.2           get           706.3   \n",
       "9           287.3         parti           528.9           one           701.8   \n",
       "\n",
       "   ... Topic 15 words Topic 15 weights Topic 16 words Topic 16 weights  \\\n",
       "0  ...              _           1136.8             ’r           2387.0   \n",
       "1  ...            tax            946.5             we           2087.0   \n",
       "2  ...           year            880.7            you           1188.0   \n",
       "3  ...          state            793.7             ’v           1029.4   \n",
       "4  ...        billion            787.4           they            882.0   \n",
       "5  ...            pay            683.9            ’ll            507.3   \n",
       "6  ...         border            663.3             qt            443.4   \n",
       "7  ...           unit            650.4           debt            439.4   \n",
       "8  ...     unit_state            606.4             go            429.6   \n",
       "9  ...       _billion            585.3         colleg            324.8   \n",
       "\n",
       "  Topic 17 words Topic 17 weights Topic 18 words Topic 18 weights  \\\n",
       "0              ’          14905.0           work           1656.6   \n",
       "1             it           4403.6          fight           1466.4   \n",
       "2              ”           1812.4             us           1403.5   \n",
       "3             qt           1522.3         togeth           1315.4   \n",
       "4           that           1486.3          peopl           1302.6   \n",
       "5             he            790.0        countri           1159.0   \n",
       "6          trump            652.6          stand           1021.9   \n",
       "7            amp            649.8           join            828.1   \n",
       "8            let            572.5       movement            754.4   \n",
       "9           here            526.0         justic            724.0   \n",
       "\n",
       "  Topic 19 words Topic 19 weights  \n",
       "0              ”           5722.1  \n",
       "1     #venezuela           1086.1  \n",
       "2             ⁦⁩            960.9  \n",
       "3              _            952.1  \n",
       "4             qt            817.0  \n",
       "5             ”_            722.9  \n",
       "6            amp            687.9  \n",
       "7         presid            566.8  \n",
       "8            say            516.4  \n",
       "9          peopl            484.1  \n",
       "\n",
       "[10 rows x 40 columns]"
      ]
     },
     "execution_count": 197,
     "metadata": {},
     "output_type": "execute_result"
    }
   ],
   "source": [
    "no_top_words = 10\n",
    "display_topics(model, tf_feature_names, no_top_words)"
   ]
  },
  {
   "cell_type": "code",
   "execution_count": null,
   "metadata": {},
   "outputs": [],
   "source": []
  },
  {
   "cell_type": "code",
   "execution_count": null,
   "metadata": {},
   "outputs": [],
   "source": []
  },
  {
   "cell_type": "code",
   "execution_count": null,
   "metadata": {},
   "outputs": [],
   "source": []
  },
  {
   "cell_type": "code",
   "execution_count": 198,
   "metadata": {},
   "outputs": [
    {
     "name": "stderr",
     "output_type": "stream",
     "text": [
      "/usr/local/lib/python3.7/site-packages/ipykernel/ipkernel.py:287: DeprecationWarning: `should_run_async` will not call `transform_cell` automatically in the future. Please pass the result to `transformed_cell` argument and any exception that happen during thetransform in `preprocessing_exc_tuple` in IPython 7.17 and above.\n",
      "  and should_run_async(code)\n"
     ]
    },
    {
     "data": {
      "text/html": [
       "<div>\n",
       "<style scoped>\n",
       "    .dataframe tbody tr th:only-of-type {\n",
       "        vertical-align: middle;\n",
       "    }\n",
       "\n",
       "    .dataframe tbody tr th {\n",
       "        vertical-align: top;\n",
       "    }\n",
       "\n",
       "    .dataframe thead th {\n",
       "        text-align: right;\n",
       "    }\n",
       "</style>\n",
       "<table border=\"1\" class=\"dataframe\">\n",
       "  <thead>\n",
       "    <tr style=\"text-align: right;\">\n",
       "      <th></th>\n",
       "      <th>Unnamed: 0</th>\n",
       "      <th>Unnamed: 0.1</th>\n",
       "      <th>screen_names</th>\n",
       "      <th>text</th>\n",
       "      <th>link</th>\n",
       "      <th>time</th>\n",
       "      <th>is_retweet</th>\n",
       "      <th>retweeted</th>\n",
       "      <th>mentioned</th>\n",
       "      <th>hashtags</th>\n",
       "      <th>clean_tweet</th>\n",
       "      <th>lemma_tokens</th>\n",
       "    </tr>\n",
       "  </thead>\n",
       "  <tbody>\n",
       "    <tr>\n",
       "      <th>0</th>\n",
       "      <td>0</td>\n",
       "      <td>0.0</td>\n",
       "      <td>TeamPelosi</td>\n",
       "      <td>RT @NoOneIsAboveLaw \"We all take an oath to pr...</td>\n",
       "      <td>https://www.twitter.com/NoOneIsAboveLaw/status...</td>\n",
       "      <td>2019-11-21T23:46:08-05:00</td>\n",
       "      <td>True</td>\n",
       "      <td>[@NoOneIsAboveLaw]</td>\n",
       "      <td>[@SpeakerPelosi]</td>\n",
       "      <td>[#CountryOverPolitics]</td>\n",
       "      <td>take oath protect defend constitut unit state...</td>\n",
       "      <td>[take, oath, protect, defend, constitut, unit,...</td>\n",
       "    </tr>\n",
       "    <tr>\n",
       "      <th>1</th>\n",
       "      <td>1</td>\n",
       "      <td>1.0</td>\n",
       "      <td>marcorubio</td>\n",
       "      <td>RT @SquawkCNBC \"I think China needs to stop in...</td>\n",
       "      <td>https://www.twitter.com/SquawkCNBC/statuses/11...</td>\n",
       "      <td>2019-11-21T13:34:41-05:00</td>\n",
       "      <td>True</td>\n",
       "      <td>[@SquawkCNBC]</td>\n",
       "      <td>[@MarcoRubio]</td>\n",
       "      <td>[]</td>\n",
       "      <td>think china need stop interf intern affair un...</td>\n",
       "      <td>[think, china, need, stop, interf, intern, aff...</td>\n",
       "    </tr>\n",
       "    <tr>\n",
       "      <th>2</th>\n",
       "      <td>2</td>\n",
       "      <td>2.0</td>\n",
       "      <td>BernieSanders</td>\n",
       "      <td>This is absolutely unacceptable and Bright Pow...</td>\n",
       "      <td>https://www.twitter.com/BernieSanders/statuses...</td>\n",
       "      <td>2019-11-21T20:40:00-05:00</td>\n",
       "      <td>False</td>\n",
       "      <td>[]</td>\n",
       "      <td>[@LaurenKGurley, @AOC]</td>\n",
       "      <td>[]</td>\n",
       "      <td>absolut unaccept bright power must held accoun...</td>\n",
       "      <td>[absolut, unaccept, bright, power, must, held,...</td>\n",
       "    </tr>\n",
       "    <tr>\n",
       "      <th>3</th>\n",
       "      <td>3</td>\n",
       "      <td>3.0</td>\n",
       "      <td>CoryBooker</td>\n",
       "      <td>Dignity in work means strong unions and fair l...</td>\n",
       "      <td>https://www.twitter.com/CoryBooker/statuses/11...</td>\n",
       "      <td>2019-11-21T16:46:32-05:00</td>\n",
       "      <td>False</td>\n",
       "      <td>[]</td>\n",
       "      <td>[@IowaAFLCIO]</td>\n",
       "      <td>[]</td>\n",
       "      <td>digniti work mean strong union fair labor prac...</td>\n",
       "      <td>[digniti, work, mean, strong, union, fair, lab...</td>\n",
       "    </tr>\n",
       "    <tr>\n",
       "      <th>4</th>\n",
       "      <td>4</td>\n",
       "      <td>4.0</td>\n",
       "      <td>BernieSanders</td>\n",
       "      <td>We will cancel student debt. We will make publ...</td>\n",
       "      <td>https://www.twitter.com/BernieSanders/statuses...</td>\n",
       "      <td>2019-11-21T12:57:53-05:00</td>\n",
       "      <td>False</td>\n",
       "      <td>[]</td>\n",
       "      <td>[]</td>\n",
       "      <td>[]</td>\n",
       "      <td>cancel student debt make public colleg univers...</td>\n",
       "      <td>[cancel, student, debt, make, public, colleg, ...</td>\n",
       "    </tr>\n",
       "    <tr>\n",
       "      <th>5</th>\n",
       "      <td>5</td>\n",
       "      <td>5.0</td>\n",
       "      <td>SpeakerPelosi</td>\n",
       "      <td>As the House concludes another week of our wor...</td>\n",
       "      <td>https://www.twitter.com/SpeakerPelosi/statuses...</td>\n",
       "      <td>2019-11-21T10:55:45-05:00</td>\n",
       "      <td>False</td>\n",
       "      <td>[]</td>\n",
       "      <td>[]</td>\n",
       "      <td>[#ForThePeople]</td>\n",
       "      <td>hous conclud anoth week work #forthepeople tak...</td>\n",
       "      <td>[hous, conclud, anoth, week, work, #forthepeop...</td>\n",
       "    </tr>\n",
       "  </tbody>\n",
       "</table>\n",
       "</div>"
      ],
      "text/plain": [
       "   Unnamed: 0  Unnamed: 0.1   screen_names  \\\n",
       "0           0           0.0     TeamPelosi   \n",
       "1           1           1.0     marcorubio   \n",
       "2           2           2.0  BernieSanders   \n",
       "3           3           3.0     CoryBooker   \n",
       "4           4           4.0  BernieSanders   \n",
       "5           5           5.0  SpeakerPelosi   \n",
       "\n",
       "                                                text  \\\n",
       "0  RT @NoOneIsAboveLaw \"We all take an oath to pr...   \n",
       "1  RT @SquawkCNBC \"I think China needs to stop in...   \n",
       "2  This is absolutely unacceptable and Bright Pow...   \n",
       "3  Dignity in work means strong unions and fair l...   \n",
       "4  We will cancel student debt. We will make publ...   \n",
       "5  As the House concludes another week of our wor...   \n",
       "\n",
       "                                                link  \\\n",
       "0  https://www.twitter.com/NoOneIsAboveLaw/status...   \n",
       "1  https://www.twitter.com/SquawkCNBC/statuses/11...   \n",
       "2  https://www.twitter.com/BernieSanders/statuses...   \n",
       "3  https://www.twitter.com/CoryBooker/statuses/11...   \n",
       "4  https://www.twitter.com/BernieSanders/statuses...   \n",
       "5  https://www.twitter.com/SpeakerPelosi/statuses...   \n",
       "\n",
       "                        time  is_retweet           retweeted  \\\n",
       "0  2019-11-21T23:46:08-05:00        True  [@NoOneIsAboveLaw]   \n",
       "1  2019-11-21T13:34:41-05:00        True       [@SquawkCNBC]   \n",
       "2  2019-11-21T20:40:00-05:00       False                  []   \n",
       "3  2019-11-21T16:46:32-05:00       False                  []   \n",
       "4  2019-11-21T12:57:53-05:00       False                  []   \n",
       "5  2019-11-21T10:55:45-05:00       False                  []   \n",
       "\n",
       "                mentioned                hashtags  \\\n",
       "0        [@SpeakerPelosi]  [#CountryOverPolitics]   \n",
       "1           [@MarcoRubio]                      []   \n",
       "2  [@LaurenKGurley, @AOC]                      []   \n",
       "3           [@IowaAFLCIO]                      []   \n",
       "4                      []                      []   \n",
       "5                      []         [#ForThePeople]   \n",
       "\n",
       "                                         clean_tweet  \\\n",
       "0   take oath protect defend constitut unit state...   \n",
       "1   think china need stop interf intern affair un...   \n",
       "2  absolut unaccept bright power must held accoun...   \n",
       "3  digniti work mean strong union fair labor prac...   \n",
       "4  cancel student debt make public colleg univers...   \n",
       "5  hous conclud anoth week work #forthepeople tak...   \n",
       "\n",
       "                                        lemma_tokens  \n",
       "0  [take, oath, protect, defend, constitut, unit,...  \n",
       "1  [think, china, need, stop, interf, intern, aff...  \n",
       "2  [absolut, unaccept, bright, power, must, held,...  \n",
       "3  [digniti, work, mean, strong, union, fair, lab...  \n",
       "4  [cancel, student, debt, make, public, colleg, ...  \n",
       "5  [hous, conclud, anoth, week, work, #forthepeop...  "
      ]
     },
     "execution_count": 198,
     "metadata": {},
     "output_type": "execute_result"
    }
   ],
   "source": [
    "df.head(6)"
   ]
  },
  {
   "cell_type": "code",
   "execution_count": 199,
   "metadata": {},
   "outputs": [
    {
     "name": "stderr",
     "output_type": "stream",
     "text": [
      "/usr/local/lib/python3.7/site-packages/ipykernel/ipkernel.py:287: DeprecationWarning: `should_run_async` will not call `transform_cell` automatically in the future. Please pass the result to `transformed_cell` argument and any exception that happen during thetransform in `preprocessing_exc_tuple` in IPython 7.17 and above.\n",
      "  and should_run_async(code)\n"
     ]
    }
   ],
   "source": [
    "import json\n",
    "import requests\n",
    "import pandas as pd\n",
    "import numpy as np\n",
    "# import emoji\n",
    "import regex\n",
    "import re\n",
    "import string\n",
    "from collections import Counter\n",
    "\n",
    "#Visualizations\n",
    "import plotly.express as px\n",
    "import seaborn as sns\n",
    "import matplotlib.pyplot as plt \n",
    "import pyLDAvis.gensim\n",
    "import chart_studio\n",
    "import chart_studio.plotly as py \n",
    "import chart_studio.tools as tls\n",
    "\n",
    "#Natural Language Processing (NLP)\n",
    "import spacy\n",
    "import gensim\n",
    "from spacy.tokenizer import Tokenizer\n",
    "from gensim.corpora import Dictionary\n",
    "from gensim.models.ldamulticore import LdaMulticore\n",
    "from gensim.models.coherencemodel import CoherenceModel\n",
    "from gensim.parsing.preprocessing import STOPWORDS as SW\n",
    "from sklearn.decomposition import LatentDirichletAllocation, TruncatedSVD\n",
    "from sklearn.feature_extraction.text import CountVectorizer, TfidfVectorizer\n",
    "from sklearn.model_selection import GridSearchCV\n",
    "from pprint import pprint\n",
    "from wordcloud import STOPWORDS\n",
    "stopwords = set(STOPWORDS)"
   ]
  },
  {
   "cell_type": "code",
   "execution_count": 200,
   "metadata": {},
   "outputs": [
    {
     "name": "stderr",
     "output_type": "stream",
     "text": [
      "/usr/local/lib/python3.7/site-packages/ipykernel/ipkernel.py:287: DeprecationWarning: `should_run_async` will not call `transform_cell` automatically in the future. Please pass the result to `transformed_cell` argument and any exception that happen during thetransform in `preprocessing_exc_tuple` in IPython 7.17 and above.\n",
      "  and should_run_async(code)\n",
      "<>:16: DeprecationWarning: invalid escape sequence \\w\n",
      "<>:17: DeprecationWarning: invalid escape sequence \\$\n",
      "<>:16: DeprecationWarning: invalid escape sequence \\w\n",
      "<>:17: DeprecationWarning: invalid escape sequence \\$\n",
      "<>:16: DeprecationWarning: invalid escape sequence \\w\n",
      "<>:17: DeprecationWarning: invalid escape sequence \\$\n",
      "<ipython-input-200-c922ae01d414>:16: DeprecationWarning: invalid escape sequence \\w\n",
      "  tokens = re.sub('\\w*\\d\\w*', '', text) # Remove words containing numbers\n",
      "<ipython-input-200-c922ae01d414>:17: DeprecationWarning: invalid escape sequence \\$\n",
      "  tokens = re.sub('@*!*\\$*', '', text) # Remove @ ! $\n"
     ]
    },
    {
     "data": {
      "text/html": [
       "<div>\n",
       "<style scoped>\n",
       "    .dataframe tbody tr th:only-of-type {\n",
       "        vertical-align: middle;\n",
       "    }\n",
       "\n",
       "    .dataframe tbody tr th {\n",
       "        vertical-align: top;\n",
       "    }\n",
       "\n",
       "    .dataframe thead th {\n",
       "        text-align: right;\n",
       "    }\n",
       "</style>\n",
       "<table border=\"1\" class=\"dataframe\">\n",
       "  <thead>\n",
       "    <tr style=\"text-align: right;\">\n",
       "      <th></th>\n",
       "      <th>Unnamed: 0</th>\n",
       "      <th>Unnamed: 0.1</th>\n",
       "      <th>screen_names</th>\n",
       "      <th>text</th>\n",
       "      <th>link</th>\n",
       "      <th>time</th>\n",
       "      <th>is_retweet</th>\n",
       "      <th>retweeted</th>\n",
       "      <th>mentioned</th>\n",
       "      <th>hashtags</th>\n",
       "      <th>clean_tweet</th>\n",
       "      <th>lemma_tokens</th>\n",
       "    </tr>\n",
       "  </thead>\n",
       "  <tbody>\n",
       "    <tr>\n",
       "      <th>0</th>\n",
       "      <td>0</td>\n",
       "      <td>0.0</td>\n",
       "      <td>TeamPelosi</td>\n",
       "      <td>RT @NoOneIsAboveLaw \"We all take an oath to pr...</td>\n",
       "      <td>https://www.twitter.com/NoOneIsAboveLaw/status...</td>\n",
       "      <td>2019-11-21T23:46:08-05:00</td>\n",
       "      <td>True</td>\n",
       "      <td>[@NoOneIsAboveLaw]</td>\n",
       "      <td>[@SpeakerPelosi]</td>\n",
       "      <td>[#CountryOverPolitics]</td>\n",
       "      <td>take oath protect defend constitut unit state...</td>\n",
       "      <td>[take, oath, protect, defend, constitut, unit,...</td>\n",
       "    </tr>\n",
       "    <tr>\n",
       "      <th>1</th>\n",
       "      <td>1</td>\n",
       "      <td>1.0</td>\n",
       "      <td>marcorubio</td>\n",
       "      <td>RT @SquawkCNBC \"I think China needs to stop in...</td>\n",
       "      <td>https://www.twitter.com/SquawkCNBC/statuses/11...</td>\n",
       "      <td>2019-11-21T13:34:41-05:00</td>\n",
       "      <td>True</td>\n",
       "      <td>[@SquawkCNBC]</td>\n",
       "      <td>[@MarcoRubio]</td>\n",
       "      <td>[]</td>\n",
       "      <td>think china need stop interf intern affair un...</td>\n",
       "      <td>[think, china, need, stop, interf, intern, aff...</td>\n",
       "    </tr>\n",
       "    <tr>\n",
       "      <th>2</th>\n",
       "      <td>2</td>\n",
       "      <td>2.0</td>\n",
       "      <td>BernieSanders</td>\n",
       "      <td>This is absolutely unacceptable and Bright Pow...</td>\n",
       "      <td>https://www.twitter.com/BernieSanders/statuses...</td>\n",
       "      <td>2019-11-21T20:40:00-05:00</td>\n",
       "      <td>False</td>\n",
       "      <td>[]</td>\n",
       "      <td>[@LaurenKGurley, @AOC]</td>\n",
       "      <td>[]</td>\n",
       "      <td>absolut unaccept bright power must held accoun...</td>\n",
       "      <td>[absolut, unaccept, bright, power, must, held,...</td>\n",
       "    </tr>\n",
       "    <tr>\n",
       "      <th>3</th>\n",
       "      <td>3</td>\n",
       "      <td>3.0</td>\n",
       "      <td>CoryBooker</td>\n",
       "      <td>Dignity in work means strong unions and fair l...</td>\n",
       "      <td>https://www.twitter.com/CoryBooker/statuses/11...</td>\n",
       "      <td>2019-11-21T16:46:32-05:00</td>\n",
       "      <td>False</td>\n",
       "      <td>[]</td>\n",
       "      <td>[@IowaAFLCIO]</td>\n",
       "      <td>[]</td>\n",
       "      <td>digniti work mean strong union fair labor prac...</td>\n",
       "      <td>[digniti, work, mean, strong, union, fair, lab...</td>\n",
       "    </tr>\n",
       "    <tr>\n",
       "      <th>4</th>\n",
       "      <td>4</td>\n",
       "      <td>4.0</td>\n",
       "      <td>BernieSanders</td>\n",
       "      <td>We will cancel student debt. We will make publ...</td>\n",
       "      <td>https://www.twitter.com/BernieSanders/statuses...</td>\n",
       "      <td>2019-11-21T12:57:53-05:00</td>\n",
       "      <td>False</td>\n",
       "      <td>[]</td>\n",
       "      <td>[]</td>\n",
       "      <td>[]</td>\n",
       "      <td>cancel student debt make public colleg univers...</td>\n",
       "      <td>[cancel, student, debt, make, public, colleg, ...</td>\n",
       "    </tr>\n",
       "  </tbody>\n",
       "</table>\n",
       "</div>"
      ],
      "text/plain": [
       "   Unnamed: 0  Unnamed: 0.1   screen_names  \\\n",
       "0           0           0.0     TeamPelosi   \n",
       "1           1           1.0     marcorubio   \n",
       "2           2           2.0  BernieSanders   \n",
       "3           3           3.0     CoryBooker   \n",
       "4           4           4.0  BernieSanders   \n",
       "\n",
       "                                                text  \\\n",
       "0  RT @NoOneIsAboveLaw \"We all take an oath to pr...   \n",
       "1  RT @SquawkCNBC \"I think China needs to stop in...   \n",
       "2  This is absolutely unacceptable and Bright Pow...   \n",
       "3  Dignity in work means strong unions and fair l...   \n",
       "4  We will cancel student debt. We will make publ...   \n",
       "\n",
       "                                                link  \\\n",
       "0  https://www.twitter.com/NoOneIsAboveLaw/status...   \n",
       "1  https://www.twitter.com/SquawkCNBC/statuses/11...   \n",
       "2  https://www.twitter.com/BernieSanders/statuses...   \n",
       "3  https://www.twitter.com/CoryBooker/statuses/11...   \n",
       "4  https://www.twitter.com/BernieSanders/statuses...   \n",
       "\n",
       "                        time  is_retweet           retweeted  \\\n",
       "0  2019-11-21T23:46:08-05:00        True  [@NoOneIsAboveLaw]   \n",
       "1  2019-11-21T13:34:41-05:00        True       [@SquawkCNBC]   \n",
       "2  2019-11-21T20:40:00-05:00       False                  []   \n",
       "3  2019-11-21T16:46:32-05:00       False                  []   \n",
       "4  2019-11-21T12:57:53-05:00       False                  []   \n",
       "\n",
       "                mentioned                hashtags  \\\n",
       "0        [@SpeakerPelosi]  [#CountryOverPolitics]   \n",
       "1           [@MarcoRubio]                      []   \n",
       "2  [@LaurenKGurley, @AOC]                      []   \n",
       "3           [@IowaAFLCIO]                      []   \n",
       "4                      []                      []   \n",
       "\n",
       "                                         clean_tweet  \\\n",
       "0   take oath protect defend constitut unit state...   \n",
       "1   think china need stop interf intern affair un...   \n",
       "2  absolut unaccept bright power must held accoun...   \n",
       "3  digniti work mean strong union fair labor prac...   \n",
       "4  cancel student debt make public colleg univers...   \n",
       "\n",
       "                                        lemma_tokens  \n",
       "0  [take, oath, protect, defend, constitut, unit,...  \n",
       "1  [think, china, need, stop, interf, intern, aff...  \n",
       "2  [absolut, unaccept, bright, power, must, held,...  \n",
       "3  [digniti, work, mean, strong, union, fair, lab...  \n",
       "4  [cancel, student, debt, make, public, colleg, ...  "
      ]
     },
     "execution_count": 200,
     "metadata": {},
     "output_type": "execute_result"
    }
   ],
   "source": [
    "# Tokenizer function\n",
    "def tokenize(text):\n",
    "    \"\"\"\n",
    "    Parses a string into a list of semantic units (words)\n",
    "    Args:\n",
    "        text (str): The string that the function will tokenize.\n",
    "    Returns:\n",
    "        list: tokens parsed out\n",
    "    \"\"\"\n",
    "    # Removing url's\n",
    "    pattern = r\"http\\S+\"\n",
    "    \n",
    "    tokens = re.sub(pattern, \"\", text) # https://www.youtube.com/watch?v=O2onA4r5UaY\n",
    "    tokens = re.sub('[^a-zA-Z 0-9]', '', text)\n",
    "    tokens = re.sub('[%s]' % re.escape(string.punctuation), '', text) # Remove punctuation\n",
    "    tokens = re.sub('\\w*\\d\\w*', '', text) # Remove words containing numbers\n",
    "    tokens = re.sub('@*!*\\$*', '', text) # Remove @ ! $\n",
    "    tokens = tokens.strip(',') # TESTING THIS LINE\n",
    "    tokens = tokens.strip('?') # TESTING THIS LINE\n",
    "    tokens = tokens.strip('!') # TESTING THIS LINE\n",
    "    tokens = tokens.strip(\"'\") # TESTING THIS LINE\n",
    "    tokens = tokens.strip(\".\") # TESTING THIS LINE\n",
    "\n",
    "    tokens = tokens.lower().split() # Make text lowercase and split it\n",
    "    \n",
    "    return tokens\n",
    "\n",
    "# Apply tokenizer\n",
    "df['lemma_tokens'] = df['clean_tweet'].apply(tokenize)\n",
    "df.head()"
   ]
  },
  {
   "cell_type": "code",
   "execution_count": 201,
   "metadata": {},
   "outputs": [
    {
     "name": "stderr",
     "output_type": "stream",
     "text": [
      "/usr/local/lib/python3.7/site-packages/ipykernel/ipkernel.py:287: DeprecationWarning: `should_run_async` will not call `transform_cell` automatically in the future. Please pass the result to `transformed_cell` argument and any exception that happen during thetransform in `preprocessing_exc_tuple` in IPython 7.17 and above.\n",
      "  and should_run_async(code)\n"
     ]
    },
    {
     "name": "stdout",
     "output_type": "stream",
     "text": [
      "477190\n",
      "100000\n"
     ]
    }
   ],
   "source": [
    "# Create a id2word dictionary\n",
    "id2word = Dictionary(df['lemma_tokens'])\n",
    "print(len(id2word))\n",
    "# Filtering Extremes\n",
    "id2word.filter_extremes(no_below=2, no_above=.99)\n",
    "print(len(id2word))\n",
    "# Creating a corpus object \n",
    "corpus = [id2word.doc2bow(d) for d in df['lemma_tokens']]\n",
    "# Instantiating a Base LDA model \n",
    "base_model = LdaMulticore(corpus=corpus, num_topics=5, id2word=id2word, workers=12, passes=5)\n",
    "# Filtering for words \n",
    "words = [re.findall(r'\"([^\"]*)\"',t[1]) for t in base_model.print_topics()]"
   ]
  },
  {
   "cell_type": "code",
   "execution_count": 202,
   "metadata": {},
   "outputs": [
    {
     "name": "stdout",
     "output_type": "stream",
     "text": [
      "------ Topic 0 ------\n",
      "amp _ health qt care trump need american us health_care\n",
      "\n",
      "------ Topic 1 ------\n",
      "peopl amp american qt trump go us need work elect\n",
      "\n",
      "------ Topic 2 ------\n",
      "amp qt cruz vote live thank ted ted_cruz presid de\n",
      "\n",
      "------ Topic 3 ------\n",
      "amp qt _ peopl get today american one nation right\n",
      "\n",
      "------ Topic 4 ------\n",
      "peopl work qt _ amp year make fight live need\n",
      "\n"
     ]
    },
    {
     "name": "stderr",
     "output_type": "stream",
     "text": [
      "/usr/local/lib/python3.7/site-packages/ipykernel/ipkernel.py:287: DeprecationWarning: `should_run_async` will not call `transform_cell` automatically in the future. Please pass the result to `transformed_cell` argument and any exception that happen during thetransform in `preprocessing_exc_tuple` in IPython 7.17 and above.\n",
      "  and should_run_async(code)\n"
     ]
    }
   ],
   "source": [
    "topics = [' '.join(t[0:10]) for t in words]\n",
    "# Getting the topics\n",
    "for id, t in enumerate(topics): \n",
    "    print(f\"------ Topic {id} ------\")\n",
    "    print(t, end=\"\\n\\n\")\n"
   ]
  },
  {
   "cell_type": "code",
   "execution_count": 203,
   "metadata": {},
   "outputs": [
    {
     "name": "stderr",
     "output_type": "stream",
     "text": [
      "/usr/local/lib/python3.7/site-packages/ipykernel/ipkernel.py:287: DeprecationWarning: `should_run_async` will not call `transform_cell` automatically in the future. Please pass the result to `transformed_cell` argument and any exception that happen during thetransform in `preprocessing_exc_tuple` in IPython 7.17 and above.\n",
      "  and should_run_async(code)\n"
     ]
    },
    {
     "name": "stdout",
     "output_type": "stream",
     "text": [
      "\n",
      "Perplexity:  -9.694993734113602\n",
      "\n",
      "Coherence Score:  0.3251871690338599\n"
     ]
    }
   ],
   "source": [
    "# Compute Perplexity\n",
    "# a measure of how good the model is. lower the better\n",
    "base_perplexity = base_model.log_perplexity(corpus)\n",
    "print('\\nPerplexity: ', base_perplexity) \n",
    "\n",
    "# Compute Coherence Score\n",
    "coherence_model = CoherenceModel(model=base_model, texts=df['lemma_tokens'], \n",
    "                                   dictionary=id2word, coherence='c_v')\n",
    "coherence_lda_model_base = coherence_model.get_coherence()\n",
    "print('\\nCoherence Score: ', coherence_lda_model_base)"
   ]
  },
  {
   "cell_type": "code",
   "execution_count": 204,
   "metadata": {},
   "outputs": [
    {
     "name": "stderr",
     "output_type": "stream",
     "text": [
      "/usr/local/lib/python3.7/site-packages/ipykernel/ipkernel.py:287: DeprecationWarning: `should_run_async` will not call `transform_cell` automatically in the future. Please pass the result to `transformed_cell` argument and any exception that happen during thetransform in `preprocessing_exc_tuple` in IPython 7.17 and above.\n",
      "  and should_run_async(code)\n"
     ]
    },
    {
     "data": {
      "text/html": [
       "\n",
       "<link rel=\"stylesheet\" type=\"text/css\" href=\"https://cdn.rawgit.com/bmabey/pyLDAvis/files/ldavis.v1.0.0.css\">\n",
       "\n",
       "\n",
       "<div id=\"ldavis_el6291959431418407476995508\"></div>\n",
       "<script type=\"text/javascript\">\n",
       "\n",
       "var ldavis_el6291959431418407476995508_data = {\"mdsDat\": {\"x\": [-0.0014540654616674554, 0.042191924535590335, 0.03383091483375634, 0.01950680693151402, -0.09407558083919328], \"y\": [0.008802874347592768, -0.03253347809146908, -0.041663234837066014, 0.07877029952396673, -0.013376460943024308], \"topics\": [1, 2, 3, 4, 5], \"cluster\": [1, 1, 1, 1, 1], \"Freq\": [25.419074712957933, 20.48490439551168, 19.62182252645878, 18.200881828571045, 16.273316536500555]}, \"tinfo\": {\"Term\": [\"health\", \"cruz\", \"ted_cruz\", \"ted\", \"thank\", \"vote\", \"de\", \"care\", \"health_care\", \"live\", \"peopl\", \"work\", \"la\", \"_thank\", \"year\", \"sen\", \"_\", \"need\", \"thank_\", \"trump\", \"amp\", \"_ted\", \"el\", \"go\", \"climat\", \"en\", \"elect\", \"fight\", \"justic\", \"republican\", \"nation_debt\", \"latest_#impeachmenttrial\", \"espi_win\", \"get_radio\", \"kenni_roger\", \"region_\", \"exclus_video\", \"kenni\", \"protest_portland\", \"collar_economi\", \"mike_lee\", \"investig_#burismabiden\", \"democraci_pandem\", \"amp_#russia\", \"truth_women\\u2019\", \"vote_project\", \"nation_region\", \"snapback_mechan\", \"world_world\", \"moment_nation\", \"\\u2018non\", \"\\u2018non_interventionist\", \"espi\", \"break_latest\", \"hawk\\u2019\", \"hawk\\u2019_foreign\", \"polici_exactli\", \"interventionist_hawk\\u2019\", \"hotlin_\", \"smooth\", \"snapback\", \"mike_espi\", \"opportun_act\", \"pamela_rush\", \"mold_still\", \"_vial\", \"scholarship_amp\", \"pamela\", \"freedom_scholarship\", \"_mobil\", \"speak_member\", \"inventor\", \"economi_back\", \"children_expos\", \"still_owe\", \"bang\", \"expos_mold\", \"full_statement\", \"supremacist\", \"white_supremacist\", \"carlson\", \"visa\", \"#russia\", \"statement_\", \"educ_freedom\", \"#venezuela_amp\", \"region\", \"rico\", \"tucker\", \"humanitarian\", \"mike\", \"sanction\", \"#venezuela\", \"amp\", \"nation\", \"qt\", \"educ\", \"puerto_rico\", \"get\", \"puerto\", \"read_full\", \"world\", \"iran\", \"u\", \"polit\", \"maduro\", \"white\", \"polici\", \"would\", \"militari\", \"statement\", \"_\", \"done\", \"year\", \"one\", \"today\", \"like\", \"\\u2013\", \"_year\", \"right\", \"full\", \"deal\", \"unit\", \"congress\", \"end\", \"commun\", \"peopl\", \"go\", \"take\", \"state\", \"must\", \"american\", \"new\", \"presid\", \"make\", \"countri\", \"time\", \"senat\", \"us\", \"need\", \"day\", \"help\", \"work\", \"trump_health\", \"care_plan\", \"\\ud83d\\uddf3\\ufe0f\", \"lose_health\", \"clip_\", \"transcript_clip\", \"plan_pass\", \"request_democrat\", \"job_loss\", \"non_bank\", \"support_frontlin\", \"medicar_fiscal\", \"billion_cut\", \"destroy_citi\", \"bank_lender\", \"today_#trumpbudget\", \"away_health\", \"medicaid_pass\", \"touch_social\", \"ago_touch\", \"health_profession\", \"\\u2714\\ufe0f\", \"employe_benefit\", \"biden_plan\", \"respons_packag\", \"stori_alleg\", \"\\ud83d\\udd25_\\ud83d\\udd25\", \"waiver_allow\", \"#trumpbudget_propos\", \"progress_caucu\", \"trump_washington\", \"mental_health\", \"washington_republican\", \"#ppp_updat\", \"build_nuclear\", \"#protectourcare_\", \"\\ud83d\\udeab\", \"#savetheaca\", \"afford_care\", \"#protectourcare\", \"matthew_\", \"health_insur\", \"americans\\u2019_health\", \"pre_exist\", \"health\", \"health_care\", \"pass_#heroesact\", \"aca\", \"_#ppploans\", \"exist_condit\", \"care_act\", \"_loan\", \"care\", \"cut_social\", \"lawsuit\", \"medic_profession\", \"medicaid\", \"#heroesact\", \"social_secur\", \"pre\", \"insur\", \"republican\", \"afford\", \"china\", \"_million\", \"million\", \"_\", \"amp\", \"million_american\", \"trump\", \"need\", \"protect\", \"hous\", \"pass\", \"secur\", \"job\", \"act\", \"us\", \"american\", \"pandem\", \"join\", \"fight\", \"new\", \"must\", \"qt\", \"democrat\", \"state\", \"\\u201d\", \"work\", \"today\", \"senat\", \"take\", \"right\", \"time\", \"peopl\", \"judg_ami\", \"coney\", \"ami_coney\", \"coney_barrett\", \"twitter_ceo\", \"#senate_#senateimpeachmenttrial\", \"#impeachmenttrial_#senate\", \"coney_barrett\\u2019\", \"trial_#impeachment\", \"#articlesofimpeachment_#impeachmenttrial\", \"hell_elect\", \"barrett\\u2019\", \"#confirmacb\", \"barrett_\", \"cover_truth\", \"washington_cover\", \"#filltheseat\", \"truth_#gopcoverup\", \"\\u2705_\\u2705\", \"#gopcoverup_pass\", \"ceo_jack\", \"test_test\", \"strateg_plan\", \"#gopcoverup\", \"nomin_judg\", \"wonder_american\", \"pose_singl\", \"weapon_fbi\", \"gain_republican\", \"kid_back\", \"ami\", \"money_pocket\", \"barrett\", \"princess_bride\", \"#confirmacb_#filltheseat\", \"judg_barrett\\u2019\", \"watch_\\ud83d\\udcfa\", \"confirm_hear\", \"judg_barrett\", \"principl_constitutionalist\", \"bride\", \"constitutionalist\", \"small_busi\", \"elect_day\", \"test\", \"student_debt\", \"payment\", \"judg\", \"small\", \"confirm\", \"princess\", \"busi\", \"#scotus\", \"mortgag\", \"elect\", \"go\", \"american_peopl\", \"debt\", \"american\", \"hear\", \"peopl\", \"trump\", \"week\", \"help\", \"relief\", \"us\", \"vote\", \"senat\", \"need\", \"think\", \"say\", \"legisl\", \"work\", \"day\", \"mani\", \"join\", \"amp\", \"qt\", \"presid\", \"one\", \"get\", \"countri\", \"_\", \"take\", \"today\", \"right\", \"million\", \"make\", \"famili\", \"\\u201d\", \"democrat\", \"congratul_win\", \"corrupt_system\", \"chang_corrupt\", \"tkt\", \"horrif_pandem\", \"podcast_america\", \"abolish_death\", \"froze\", \"goya\", \"commemor_\", \"subscrib_#verdict\", \"senat_view\", \"save_postal\", \"right_unborn\", \"pay\\u00e1\", \"recoup_valu\", \"generos_\", \"follow_iranian\", \"close_vote\", \"found_ideal\", \"place_#voteforbernie\", \"profit_last\", \"left_poll\", \"alter_email\", \"congratul_great\", \"restor_fundament\", \"asset_held\", \"sworn_statement\", \"save_ten\", \"u_froze\", \"shot_iran\", \"fraudul_evid\", \"medicar_save\", \"statement_court\", \"use_basi\", \"system_take\", \"year_paid\", \"govern_work\", \"protect_act\", \"born_aliv\", \"tice\", \"union_movement\", \"_project\", \"feder_incom\", \"billion_profit\", \"auster\", \"aliv_abort\", \"creat_govern\", \"budget_\", \"prayer_famili\", \"newborn\", \"jess\", \"congratul\", \"build_nation\", \"#georgefloyd\", \"tax_\", \"digniti_\", \"incom_tax\", \"nation_base\", \"digniti\", \"union\", \"class\", \"work_peopl\", \"nov_\", \"pay_fair\", \"work\", \"postal\", \"corpor\", \"tax\", \"last_year\", \"year\", \"billionair_class\", \"peopl\", \"work_class\", \"_billion\", \"fight\", \"billion\", \"pay\", \"togeth\", \"famili\", \"worker\", \"billionair\", \"polic\", \"make\", \"work_famili\", \"come\", \"thank\", \"live\", \"got\", \"time\", \"everi\", \"_\", \"stand\", \"wage\", \"continu\", \"qt\", \"it\\u2019\", \"need\", \"america\", \"one\", \"\\u201d\", \"amp\", \"american\", \"countri\", \"day\", \"call\", \"must\", \"protect\", \"us\", \"right\", \"today\", \"trump\", \"rock_\", \"_rock\", \"_awesom\", \"\\ufe0f\\u20e3\", \"huge_thank\", \"movement_vote\", \"away_singl\", \"legal_vote\", \"rock_thank\", \"seat_chang\", \"chang_histori\", \"mailbag\", \"vote_resoundingli\", \"announc_movement\", \"state_\\ud83d\\udce2join\", \"singl_suprem\", \"resoundingli_endors\", \"\\ud83d\\udce2join\", \"\\ud83d\\udce2join_#greennewdeal\", \"#greennewdeal_polit\", \"#sunrisebernie_\", \"time_vacanc\", \"made_nomin\", \"revolut_#sunrisebernie\", \"awesom_\", \"tuesday_june\", \"thank_\", \"court_chang\", \"bader_ginsburg\", \"cruz_hold\", \"blasio\", \"shelley\", \"de_blasio\", \"luther\", \"vote_away\", \"shelley_luther\", \"_ted\", \"martin_luther\", \"live_matter\", \"luther_king\", \"de\", \"king_jr\", \"que\", \"ted_cruz\", \"por\", \"ted\", \"en\", \"para\", \"_huge\", \"san_antonio\", \"la\", \"lo\", \"_thank\", \"el\", \"cruz\", \"sen_ted\", \"one_vote\", \"del\", \"es\", \"thank\", \"sen\", \"climat\", \"vote\", \"live\", \"watch_live\", \"climat_chang\", \"su\", \"_sen\", \"justic\", \"presid\", \"qt\", \"law\", \"chang\", \"amp\", \"tonight\", \"last\", \"support\", \"new\", \"join\", \"right\", \"say\", \"today\", \"time\", \"one\", \"trump\", \"state\", \"peopl\", \"hous\", \"democrat\", \"us\", \"senat\", \"work\"], \"Freq\": [2541.0, 2144.0, 1411.0, 1485.0, 2607.0, 2996.0, 849.0, 2301.0, 1449.0, 2990.0, 5786.0, 4156.0, 743.0, 652.0, 2526.0, 1199.0, 5850.0, 3709.0, 279.0, 4024.0, 11259.0, 377.0, 519.0, 2743.0, 893.0, 408.0, 2210.0, 2383.0, 1519.0, 1401.0, 15.529422351711284, 12.195294912642389, 13.447472805963265, 8.138320634505057, 7.064410997779241, 14.61517046557833, 6.860158919077472, 16.32216193771827, 7.985761024232944, 9.100352293764466, 11.806859566085866, 8.80103839459378, 7.195757344923949, 8.900953834013597, 7.198458379114784, 8.190757472451153, 7.841054702572961, 11.531029447281405, 7.1672386085695985, 7.972836639034361, 6.0652642121280795, 6.054331364111047, 28.37829779352124, 6.9477504144674205, 6.050903079634559, 6.044743960824755, 6.048524140600755, 6.0406594391681, 8.402972529651207, 8.1416347907763, 36.618151317732696, 22.028518940215026, 19.675774865696255, 14.451317869397075, 11.539997388031443, 15.067078847528286, 10.0626191839358, 28.61361493564553, 21.56489212776859, 11.48078894324072, 11.92613622148017, 14.538487724473194, 19.33984102973547, 12.161458435969134, 12.839533414164945, 17.851308695713737, 11.433252009573206, 79.4056473324592, 81.02139837686923, 77.36966609160214, 22.903613439127902, 33.801748728488256, 36.362930216613414, 80.1297020283665, 25.296128656992746, 19.215211761515103, 99.58640526790973, 99.8788473810334, 30.840489548780255, 90.85230052951069, 103.19128412064961, 222.14313571518744, 344.70877323483904, 4259.672194446606, 961.4198154149002, 3309.94633029625, 334.65514354920316, 81.12412390632045, 1254.2463732022227, 103.22416318848995, 76.58841033922529, 505.045165642649, 251.16182969398795, 709.4064777177504, 656.0915830117685, 163.35814207248094, 407.6662737718995, 465.85684714276476, 767.3440821174131, 270.94833301250554, 203.33553791107494, 1751.2424265219977, 256.78976033002164, 862.7495806550627, 979.1589703233182, 1058.6116790552564, 703.5561340353322, 381.4956314017495, 396.05688897126055, 954.3566490486037, 300.30044366629556, 376.7599905808858, 383.008535179956, 502.44271793168906, 558.7837854043406, 587.1944245950464, 1274.8801846059491, 766.1798729766051, 690.7875718796454, 663.4948818638877, 712.9032441897514, 984.4841416564739, 723.3696832023109, 743.7342940678666, 706.5192065854125, 662.0341625734845, 693.5108230277676, 680.5394068638933, 760.8121749379922, 707.8677251691466, 600.6471878773684, 570.7270941164369, 591.9859425851988, 42.52351139749993, 57.10524262659379, 34.646353640254745, 35.17197330521702, 12.527156949678508, 10.020438326241775, 46.80943893373808, 11.246773501169674, 9.542421569910449, 12.738878041937701, 11.701429769568263, 9.723892266120078, 12.154666565647915, 8.689713174418946, 11.630865950885571, 9.648642860265088, 24.873099709664345, 9.637860389108068, 9.634413391173027, 9.631870808646378, 9.102594648394573, 49.12933701388842, 8.644909354831602, 8.63978944387561, 9.603905466668191, 7.628659659890429, 11.970592992551078, 9.16022788158302, 11.511843861202639, 12.932374908233182, 12.855177687950622, 42.60729398828157, 38.52201382072594, 39.38546585371851, 24.542014178386836, 96.06579061686767, 16.510320953089124, 16.618687291966047, 131.19370202971373, 200.72686730788809, 19.104582900305118, 164.41712102402207, 30.617521257442657, 207.8343747061584, 1553.8599215706663, 899.3628799624795, 42.7998966585518, 72.25197084778691, 29.05741183153162, 193.04813726930618, 142.11783836365245, 28.24378133525093, 1241.536343846985, 43.69965202823113, 71.710229083974, 27.31808712727121, 104.00952152367715, 88.88575830028903, 139.66575869414245, 231.38269490111406, 281.42343329371465, 626.0166508949636, 360.7594314850563, 327.6871530797195, 469.3213284778526, 784.0416703939529, 1787.0368785359553, 2856.3979708010474, 216.00531929007593, 1213.390364052315, 1133.674989656579, 706.8896116093913, 837.0508043946098, 593.0095149255507, 467.01884422658253, 527.3820098490099, 621.2220760452915, 979.113180122054, 1127.536034515325, 336.2787928779659, 665.7730272160784, 672.0614960205072, 737.705319408055, 705.9998548841817, 1359.5651503656898, 644.2745844720442, 597.4347530928309, 633.399329491568, 772.2144594346892, 697.066773231778, 628.950938289833, 565.9614075499757, 634.1496447776312, 584.4646063225529, 624.6398301935238, 53.04209525300723, 130.4503501165601, 128.2444604210144, 104.78165173731853, 32.872439432329834, 12.885114958787007, 12.884330874772003, 24.654755387663762, 13.877648834893952, 12.869190515895507, 21.39667388805301, 41.92347459371712, 41.90086243298478, 19.54657039008724, 9.13931558197801, 9.134864608174984, 30.796815360230728, 9.124246681444955, 17.485449425062175, 9.11588409749966, 17.481913705384027, 31.243823517059425, 12.995108926969278, 10.028296529626441, 9.58830695255752, 8.60409356849494, 8.284582758465609, 10.930646060786627, 9.66777058822547, 12.380196177329518, 139.73358378110737, 14.940121830481589, 182.30576308985997, 24.192688119116177, 22.571343335011132, 15.24003739230573, 35.56736653722387, 31.845383345290102, 56.52495533463725, 22.997203737707302, 24.953523700467198, 33.66325423595741, 245.05903155424033, 109.79072107589973, 365.5951062275057, 96.1099135473843, 74.19953248051212, 235.6945820562887, 328.92623967148046, 272.29264024613497, 29.602587862561258, 416.97798573214766, 126.51620220854632, 42.70818509282839, 888.0624592993488, 1057.6343534192786, 372.5394632827215, 209.51053785073591, 1401.3963319013405, 425.9569752212449, 1602.589196886191, 1190.665121092574, 456.28657439667467, 722.1288089816555, 228.1852772956003, 1051.327162024955, 884.7553749960039, 825.9961776444594, 966.7249940777403, 383.8997501862367, 630.7230862822441, 323.07613108152907, 909.049990121545, 628.2045575242163, 424.43562121612194, 591.5611262229299, 1492.0210168647172, 1199.5480392438826, 668.8333674713557, 672.4496843298517, 639.9947378218657, 581.7161790771117, 831.3805579493637, 552.4903196011654, 632.0012391570801, 608.288878360464, 491.8601274644539, 544.2325699401022, 487.4368051036934, 502.1433628914383, 470.21864120730163, 27.06231912957837, 11.682104330348125, 10.568974926075217, 7.04126322648808, 9.800639143751813, 7.9603787430804545, 8.361510693639158, 7.47988399588496, 9.912925363377715, 8.351648966448085, 5.845366500571207, 8.875630743495865, 7.063564022977939, 6.597366101626018, 5.838374943682222, 7.426733181621056, 5.835498871416526, 7.400342778348341, 5.831245371644259, 7.81212504923553, 5.827100831200133, 21.354630004067296, 5.821587035199047, 10.859923572041122, 6.818441854438927, 6.553237119732106, 7.380348287637445, 8.842504383758094, 6.791018607534885, 7.359893443765158, 8.344464914746052, 9.531474191464303, 12.764841346025174, 8.793334670946104, 9.052113075278665, 11.750098583085105, 9.034556095537702, 41.2375754187681, 15.803973062271627, 16.99207284026568, 9.29658330383764, 26.953241762166193, 22.557027061902122, 33.233855378936745, 34.46839725456168, 17.408767814860383, 12.20773865720603, 26.17882968131018, 19.57149243916775, 19.977839909566754, 14.89914211359841, 13.575170961408146, 212.5413826851479, 29.407082103409277, 29.61549950627552, 33.60876626717855, 21.76731890736405, 45.03702351078685, 28.279209594044623, 135.0979445652973, 285.7466516102016, 291.4269193047974, 192.81954090105737, 27.375931315797402, 29.323112597178167, 1463.1139938941035, 84.26608625835297, 337.14541077354806, 380.03877572646326, 102.50730152421434, 920.6257219362168, 73.27364453543915, 1740.7719989321438, 116.16661723477303, 253.6372383377819, 776.660696302705, 316.20746666413146, 448.7440534551547, 486.1076308095906, 700.0428793319475, 596.8786765462872, 218.7265243226134, 327.5390043441275, 832.0384176831585, 139.87110406126178, 452.3858228714444, 695.0033215426358, 758.2749283281779, 246.16887542885615, 733.2653048773623, 488.0007628162475, 1173.4136295751025, 452.6034509695161, 255.88142277179554, 438.28878121997116, 1296.6394819695458, 508.8442464521219, 736.24561853229, 465.5251265564772, 632.5395246880134, 565.4044235173718, 1156.3183468272448, 735.4228739094598, 550.1217009849893, 516.2993889625667, 466.61698619190275, 513.9707973690206, 463.44876854362, 525.9965367204624, 497.1412010468997, 499.7094450507122, 501.62003960569234, 22.146189704006357, 37.22363724695721, 52.70667016651479, 29.035899911122787, 27.927202028768246, 17.341384081871915, 14.006996746744, 11.95544957649122, 13.97569083453422, 17.94434234827798, 20.89582043199608, 11.29884131246098, 9.793587262451451, 9.786322167063107, 9.780419327799653, 13.76799142631498, 9.774592800857855, 9.771302440861323, 9.75931978269483, 9.759983862259883, 9.757092924202235, 9.731810002570857, 13.669330960078005, 9.719086140684443, 24.834477955995986, 7.65740079731627, 248.5069513618121, 6.673143550670663, 31.087730411165545, 10.090240047226313, 19.06407791494361, 27.635364226756625, 18.924205547679268, 61.49643053689839, 102.9768080538513, 21.81098214829755, 286.85483472074475, 39.19297575095567, 39.338569918677834, 37.842020344336404, 595.4394179352169, 31.818851162627723, 217.7207552885078, 930.1651863550748, 107.09858917116419, 947.9191083531563, 284.85078872339034, 119.61581677452928, 39.85285001998617, 33.599139690886666, 468.93315056168444, 195.93982882927799, 403.81056632896895, 329.34662652293787, 1149.067113500181, 250.22546587752328, 108.64990501379233, 99.82452464952573, 75.67413632352164, 989.5518896947893, 529.3136936213284, 410.7696005974779, 1066.6088637387186, 1057.9458110482803, 94.60550224010528, 193.43448556729535, 100.09119562205488, 220.4214710832625, 485.5461936090022, 754.4381339689743, 1383.213943400615, 387.65635842211003, 384.11460940137783, 1494.65367751686, 293.2993096173214, 368.4354213418346, 492.04543152653275, 546.4028216411322, 477.18703931473016, 560.4665785185244, 465.53051727966573, 549.8999652980228, 508.1102208764072, 509.79343038952055, 543.7292535488901, 441.90947018466545, 543.7268115545971, 444.33265592588594, 434.46868759520373, 455.40502175166733, 423.4511107690389, 419.85984641721654], \"Total\": [2541.0, 2144.0, 1411.0, 1485.0, 2607.0, 2996.0, 849.0, 2301.0, 1449.0, 2990.0, 5786.0, 4156.0, 743.0, 652.0, 2526.0, 1199.0, 5850.0, 3709.0, 279.0, 4024.0, 11259.0, 377.0, 519.0, 2743.0, 893.0, 408.0, 2210.0, 2383.0, 1519.0, 1401.0, 16.850780358581765, 13.279740538693645, 14.729835792119415, 8.985517878285307, 7.837512336330256, 16.22034758131746, 7.619344402492636, 18.139967692714443, 8.887491059943649, 10.128250906273715, 13.158848757791871, 9.815164543544094, 8.038507576786555, 9.94870486841796, 8.046463560792807, 9.18234910615148, 8.799697381174262, 12.951327685960317, 8.058739089010624, 8.96619588808098, 6.8232825968437165, 6.815855844807491, 31.953521583352906, 7.823162056287983, 6.813981355085128, 6.809765983423595, 6.814842034425758, 6.806067513114494, 9.4752794330843, 9.183813814582638, 41.479969720393306, 25.027986795792497, 22.40928950317594, 16.425411527768564, 13.081478067951398, 17.20118741301762, 11.398565921922602, 33.33462700469591, 24.921516149419418, 13.067001249463594, 13.598862807762261, 16.73397821357887, 22.636641235010227, 13.898538586436002, 14.72773431174774, 20.935163247806226, 13.071728279133643, 102.98819342723883, 106.20545821284895, 101.4843940218684, 27.63732243834972, 42.27607200066082, 46.11193826259927, 110.18661269245816, 31.04231420324904, 22.974874159520823, 140.91124443436834, 142.44317537266534, 38.66231767065038, 129.20621052302795, 150.93773454391882, 369.0306713967904, 616.8111638078408, 11259.063206456476, 2045.277497896299, 8548.912945275984, 638.4098094288407, 120.69141799092905, 3029.2393528663897, 160.45935809729215, 114.02898486639661, 1055.016339295054, 464.8912124167093, 1607.7474575093843, 1476.5123252008646, 286.00100384429993, 862.2905549764649, 1027.923436892958, 1897.961578210637, 535.055889444672, 386.244087377846, 5850.104240023982, 525.1272454816874, 2526.4854006416726, 3041.6115323630834, 3437.2891017928496, 2064.6803650568345, 906.2191911229883, 958.6320780393397, 3254.402951752123, 670.0434620820266, 943.2066068313527, 966.7038374969067, 1439.3552218357545, 1684.4001222240404, 1813.0072952433031, 5786.608022172404, 2743.45114663532, 2381.955950262525, 2245.9268381285456, 2653.4014692740298, 4646.915210479726, 2777.7540442810514, 2967.5185143211343, 2931.417100323195, 2600.52092284035, 2939.2732595175, 2877.1009056435587, 3772.654075557131, 3709.6767671368957, 2382.741295927773, 2168.140154404516, 4156.224232452752, 43.94418286687181, 60.23044334290218, 36.87345330320874, 37.50764711352523, 13.452491277787368, 10.78485485159916, 51.0348477044127, 12.30145210743489, 10.492716681672594, 14.072527451834686, 12.965398730293114, 10.783690785279768, 13.492011791143588, 9.683688516130498, 12.964024353354716, 10.77767577875961, 27.802487119881423, 10.775356618006413, 10.777384324923768, 10.777171734935814, 10.193582268584947, 55.04164624023405, 9.694319675146119, 9.68862115020724, 10.790429732327345, 8.583951552172566, 13.474603886768778, 10.312850484557686, 12.960925519472612, 14.577981942658239, 14.49996219844323, 49.01215762768193, 44.63245020836864, 45.872138109785055, 28.248443319771766, 116.7853478225406, 18.834306360106225, 18.972895361603314, 164.63316238139586, 267.68152420809906, 22.22381068983071, 224.11144599810035, 36.80980503746236, 289.7230098004729, 2541.512167266603, 1449.0349325001616, 52.98607965093381, 94.09170308316625, 35.00626179734826, 276.74537825390973, 203.65025477848488, 34.206617752152745, 2301.7400091222967, 56.495534671204325, 101.1844873532205, 33.39113832531589, 155.9863705787451, 130.20107022547583, 221.3616059567192, 403.2771263331415, 521.2601600934966, 1401.8968204324033, 733.7528608487315, 658.9700090024792, 1061.9341167541202, 2048.1649135378366, 5850.104240023982, 11259.063206456476, 411.9393747526225, 4024.8095259637776, 3709.6767671368957, 2020.0620872657646, 2603.251615582715, 1663.5281363022732, 1214.0848055409633, 1457.2934803679798, 1845.4372690649445, 3772.654075557131, 4646.915210479726, 793.4578759189741, 2294.6076695904326, 2383.4137328794272, 2777.7540442810514, 2653.4014692740298, 8548.912945275984, 2380.3312431114855, 2245.9268381285456, 2666.375752193352, 4156.224232452752, 3437.2891017928496, 2877.1009056435587, 2381.955950262525, 3254.402951752123, 2939.2732595175, 5786.608022172404, 55.628047230545164, 137.45821180245284, 135.28214561657182, 110.98518857548207, 34.827280851989144, 13.720429309289692, 13.722946314970908, 26.264533377105693, 14.78795793446075, 13.715409719837641, 23.05830055721725, 45.25507165022904, 45.27920966307576, 21.221367455275814, 9.945565846673194, 9.941990595458838, 33.52035351953848, 9.940427879644098, 19.059136605038024, 9.937352723169376, 19.073630972734406, 34.094100054980174, 14.223417952347212, 10.990002045971847, 10.518174579438865, 9.455332213960666, 9.154308821129554, 12.083575728408995, 10.719335317777087, 13.739392886803536, 158.30426583053531, 16.581161928999837, 210.18466180306976, 27.056652968235213, 25.249353136395758, 16.94559699198714, 40.85174591457435, 36.52418505541657, 67.15089644491903, 26.14039473206255, 28.63525961620279, 39.467428201711094, 333.73378686915714, 145.8487358913124, 593.0533732707974, 132.90086345308086, 99.13859183592362, 375.3602887577455, 555.2474769059288, 448.5046489740283, 35.07960700774882, 803.0767719226361, 202.10684614360207, 54.58175395262043, 2210.930037681348, 2743.45114663532, 794.8763163944284, 404.9264199155307, 4646.915210479726, 1029.652983083725, 5786.608022172404, 4024.8095259637776, 1158.2362916446725, 2168.140154404516, 475.11123114425294, 3772.654075557131, 2996.4115175843117, 2877.1009056435587, 3709.6767671368957, 998.4215087562292, 2225.8681076096823, 822.358817592287, 4156.224232452752, 2382.741295927773, 1312.4275284416801, 2294.6076695904326, 11259.063206456476, 8548.912945275984, 2967.5185143211343, 3041.6115323630834, 3029.2393528663897, 2600.52092284035, 5850.104240023982, 2381.955950262525, 3437.2891017928496, 3254.402951752123, 2048.1649135378366, 2931.417100323195, 2187.821030509076, 2666.375752193352, 2380.3312431114855, 29.445121101747674, 12.893443987173567, 11.729381578180382, 7.856727109486919, 10.96600045816627, 8.988919927210798, 9.451043654933102, 8.494638180874269, 11.260027596213613, 9.5128928778046, 6.661667180098983, 10.120167204193196, 8.054684018945744, 7.534953186168809, 6.66873966024119, 8.48528605281201, 6.683633534953633, 8.481970425326413, 6.687744922080556, 8.963004660889819, 6.686078982332534, 24.507976934574792, 6.683348582301284, 12.467787053834103, 7.833110728045899, 7.529116025211829, 8.482971326772686, 10.165236507606721, 7.819051461000431, 8.482342745046338, 9.6221816320475, 11.008706101073022, 14.795521737186103, 10.154151996530475, 10.473455703199866, 13.674350192013245, 10.464562343513997, 50.332355737072184, 18.738435465598396, 20.2146627820994, 10.798819035022829, 33.13981395145501, 27.55369014897702, 41.632936602818226, 44.340637133615445, 21.226155744230677, 14.509890913349349, 33.515118734524165, 24.35368100251388, 24.95638655989484, 18.11689833211921, 16.362382461466282, 353.3071487969392, 38.73077006496925, 39.160642413261904, 45.31026214031365, 27.914153894901837, 63.982674387232954, 37.855714125478, 234.0411314501719, 561.0406121266665, 585.1154444179172, 360.6258707197876, 36.83648345088556, 40.08654452982794, 4156.224232452752, 140.3924833677908, 735.173927004804, 866.4835155032587, 178.78825693317754, 2526.4854006416726, 121.44203431662748, 5786.608022172404, 213.83426673220507, 572.9401666557865, 2383.4137328794272, 781.5262769972484, 1217.6893746966107, 1356.7701992356026, 2187.821030509076, 1791.3725111331642, 505.56027684822476, 853.3834271080997, 2931.417100323195, 292.69455178317065, 1425.3771187248524, 2607.6132287518467, 2990.8335927814514, 642.8413390720061, 2939.2732595175, 1669.7303581653405, 5850.104240023982, 1548.1519537919787, 694.1780418220764, 1564.493614997279, 8548.912945275984, 2033.3274964917794, 3709.6767671368957, 1782.0719282099903, 3041.6115323630834, 2666.375752193352, 11259.063206456476, 4646.915210479726, 2600.52092284035, 2382.741295927773, 1920.6122944121882, 2653.4014692740298, 2020.0620872657646, 3772.654075557131, 3254.402951752123, 3437.2891017928496, 4024.8095259637776, 23.362414598859687, 39.34935925154201, 55.86034473432785, 30.79647272033204, 29.649905193534057, 18.490414056945227, 15.192858652865189, 12.974411179871822, 15.18660193119308, 19.58746312444293, 22.87996621504265, 12.404852390165534, 10.79901168691161, 10.794581396445219, 10.796603239859843, 15.200254840030862, 10.794605172982548, 10.79714955827286, 10.793257507183075, 10.795214900353121, 10.794403274025646, 10.786588611476262, 15.162274729176879, 10.78891050299487, 27.66671975283979, 8.597627150295322, 279.23428990950663, 7.500498873328066, 35.158851216187756, 11.412655290705423, 21.602470766480927, 31.680200100482566, 21.604256097929543, 73.06005195184532, 126.68904944248352, 25.048252385922265, 377.32485044351967, 46.650836971278935, 46.84245024388322, 45.0443747487204, 849.9701263693025, 37.68297594582308, 294.43124296982, 1411.5358967877214, 139.24821860354677, 1485.0436015564387, 408.2309094628114, 161.1888184043758, 48.46453395439973, 40.25206179540552, 743.7028356866249, 285.9913110168619, 652.2503036906709, 519.6557763097637, 2144.659808878435, 386.6876970553047, 150.17505089785342, 136.74968474602284, 104.91862658919939, 2607.6132287518467, 1199.2002482997368, 893.4972134152388, 2996.4115175843117, 2990.8335927814514, 143.75023624144495, 382.1681502011737, 159.56257944753412, 482.7773660432896, 1519.199569966685, 2967.5185143211343, 8548.912945275984, 1219.1231066685868, 1234.1221071637, 11259.063206456476, 834.2857463182472, 1263.2931397556936, 2149.4558334561752, 2777.7540442810514, 2294.6076695904326, 3254.402951752123, 2225.8681076096823, 3437.2891017928496, 2939.2732595175, 3041.6115323630834, 4024.8095259637776, 2245.9268381285456, 5786.608022172404, 2603.251615582715, 2380.3312431114855, 3772.654075557131, 2877.1009056435587, 4156.224232452752], \"Category\": [\"Default\", \"Default\", \"Default\", \"Default\", \"Default\", \"Default\", \"Default\", \"Default\", \"Default\", \"Default\", \"Default\", \"Default\", \"Default\", \"Default\", \"Default\", \"Default\", \"Default\", \"Default\", \"Default\", \"Default\", \"Default\", \"Default\", \"Default\", \"Default\", \"Default\", \"Default\", \"Default\", \"Default\", \"Default\", \"Default\", \"Topic1\", \"Topic1\", \"Topic1\", \"Topic1\", \"Topic1\", \"Topic1\", \"Topic1\", \"Topic1\", \"Topic1\", \"Topic1\", \"Topic1\", \"Topic1\", \"Topic1\", \"Topic1\", \"Topic1\", \"Topic1\", \"Topic1\", \"Topic1\", \"Topic1\", \"Topic1\", \"Topic1\", \"Topic1\", \"Topic1\", \"Topic1\", \"Topic1\", \"Topic1\", \"Topic1\", \"Topic1\", \"Topic1\", \"Topic1\", \"Topic1\", \"Topic1\", \"Topic1\", \"Topic1\", \"Topic1\", \"Topic1\", \"Topic1\", \"Topic1\", \"Topic1\", \"Topic1\", \"Topic1\", \"Topic1\", \"Topic1\", \"Topic1\", \"Topic1\", \"Topic1\", \"Topic1\", \"Topic1\", \"Topic1\", \"Topic1\", \"Topic1\", \"Topic1\", \"Topic1\", \"Topic1\", \"Topic1\", \"Topic1\", \"Topic1\", \"Topic1\", \"Topic1\", \"Topic1\", \"Topic1\", \"Topic1\", \"Topic1\", \"Topic1\", \"Topic1\", \"Topic1\", \"Topic1\", \"Topic1\", \"Topic1\", \"Topic1\", \"Topic1\", \"Topic1\", \"Topic1\", \"Topic1\", \"Topic1\", \"Topic1\", \"Topic1\", \"Topic1\", \"Topic1\", \"Topic1\", \"Topic1\", \"Topic1\", \"Topic1\", \"Topic1\", \"Topic1\", \"Topic1\", \"Topic1\", \"Topic1\", \"Topic1\", \"Topic1\", \"Topic1\", \"Topic1\", \"Topic1\", \"Topic1\", \"Topic1\", \"Topic1\", \"Topic1\", \"Topic1\", \"Topic1\", \"Topic1\", \"Topic1\", \"Topic1\", \"Topic1\", \"Topic1\", \"Topic1\", \"Topic1\", \"Topic1\", \"Topic1\", \"Topic1\", \"Topic1\", \"Topic1\", \"Topic1\", \"Topic1\", \"Topic2\", \"Topic2\", \"Topic2\", \"Topic2\", \"Topic2\", \"Topic2\", \"Topic2\", \"Topic2\", \"Topic2\", \"Topic2\", \"Topic2\", \"Topic2\", \"Topic2\", \"Topic2\", \"Topic2\", \"Topic2\", \"Topic2\", \"Topic2\", \"Topic2\", \"Topic2\", \"Topic2\", \"Topic2\", \"Topic2\", \"Topic2\", \"Topic2\", \"Topic2\", \"Topic2\", \"Topic2\", \"Topic2\", \"Topic2\", \"Topic2\", \"Topic2\", \"Topic2\", \"Topic2\", \"Topic2\", \"Topic2\", \"Topic2\", \"Topic2\", \"Topic2\", \"Topic2\", \"Topic2\", \"Topic2\", \"Topic2\", \"Topic2\", \"Topic2\", \"Topic2\", \"Topic2\", \"Topic2\", \"Topic2\", \"Topic2\", \"Topic2\", \"Topic2\", \"Topic2\", \"Topic2\", \"Topic2\", \"Topic2\", \"Topic2\", \"Topic2\", \"Topic2\", \"Topic2\", \"Topic2\", \"Topic2\", \"Topic2\", \"Topic2\", \"Topic2\", \"Topic2\", \"Topic2\", \"Topic2\", \"Topic2\", \"Topic2\", \"Topic2\", \"Topic2\", \"Topic2\", \"Topic2\", \"Topic2\", \"Topic2\", \"Topic2\", \"Topic2\", \"Topic2\", \"Topic2\", \"Topic2\", \"Topic2\", \"Topic2\", \"Topic2\", \"Topic2\", \"Topic2\", \"Topic2\", \"Topic2\", \"Topic2\", \"Topic2\", \"Topic2\", \"Topic2\", \"Topic2\", \"Topic2\", \"Topic2\", \"Topic3\", \"Topic3\", \"Topic3\", \"Topic3\", \"Topic3\", \"Topic3\", \"Topic3\", \"Topic3\", \"Topic3\", \"Topic3\", \"Topic3\", \"Topic3\", \"Topic3\", \"Topic3\", \"Topic3\", \"Topic3\", \"Topic3\", \"Topic3\", \"Topic3\", \"Topic3\", \"Topic3\", \"Topic3\", \"Topic3\", \"Topic3\", \"Topic3\", \"Topic3\", \"Topic3\", \"Topic3\", \"Topic3\", \"Topic3\", \"Topic3\", \"Topic3\", \"Topic3\", \"Topic3\", \"Topic3\", \"Topic3\", \"Topic3\", \"Topic3\", \"Topic3\", \"Topic3\", \"Topic3\", \"Topic3\", \"Topic3\", \"Topic3\", \"Topic3\", \"Topic3\", \"Topic3\", \"Topic3\", \"Topic3\", \"Topic3\", \"Topic3\", \"Topic3\", \"Topic3\", \"Topic3\", \"Topic3\", \"Topic3\", \"Topic3\", \"Topic3\", \"Topic3\", \"Topic3\", \"Topic3\", \"Topic3\", \"Topic3\", \"Topic3\", \"Topic3\", \"Topic3\", \"Topic3\", \"Topic3\", \"Topic3\", \"Topic3\", \"Topic3\", \"Topic3\", \"Topic3\", \"Topic3\", \"Topic3\", \"Topic3\", \"Topic3\", \"Topic3\", \"Topic3\", \"Topic3\", \"Topic3\", \"Topic3\", \"Topic3\", \"Topic3\", \"Topic3\", \"Topic3\", \"Topic3\", \"Topic3\", \"Topic3\", \"Topic3\", \"Topic3\", \"Topic4\", \"Topic4\", \"Topic4\", \"Topic4\", \"Topic4\", \"Topic4\", \"Topic4\", \"Topic4\", \"Topic4\", \"Topic4\", \"Topic4\", \"Topic4\", \"Topic4\", \"Topic4\", \"Topic4\", \"Topic4\", \"Topic4\", \"Topic4\", \"Topic4\", \"Topic4\", \"Topic4\", \"Topic4\", \"Topic4\", \"Topic4\", \"Topic4\", \"Topic4\", \"Topic4\", \"Topic4\", \"Topic4\", \"Topic4\", \"Topic4\", \"Topic4\", \"Topic4\", \"Topic4\", \"Topic4\", \"Topic4\", \"Topic4\", \"Topic4\", \"Topic4\", \"Topic4\", \"Topic4\", \"Topic4\", \"Topic4\", \"Topic4\", \"Topic4\", \"Topic4\", \"Topic4\", \"Topic4\", \"Topic4\", \"Topic4\", \"Topic4\", \"Topic4\", \"Topic4\", \"Topic4\", \"Topic4\", \"Topic4\", \"Topic4\", \"Topic4\", \"Topic4\", \"Topic4\", \"Topic4\", \"Topic4\", \"Topic4\", \"Topic4\", \"Topic4\", \"Topic4\", \"Topic4\", \"Topic4\", \"Topic4\", \"Topic4\", \"Topic4\", \"Topic4\", \"Topic4\", \"Topic4\", \"Topic4\", \"Topic4\", \"Topic4\", \"Topic4\", \"Topic4\", \"Topic4\", \"Topic4\", \"Topic4\", \"Topic4\", \"Topic4\", \"Topic4\", \"Topic4\", \"Topic4\", \"Topic4\", \"Topic4\", \"Topic4\", \"Topic4\", \"Topic4\", \"Topic4\", \"Topic4\", \"Topic4\", \"Topic4\", \"Topic4\", \"Topic4\", \"Topic4\", \"Topic4\", \"Topic4\", \"Topic4\", \"Topic4\", \"Topic4\", \"Topic4\", \"Topic4\", \"Topic4\", \"Topic4\", \"Topic4\", \"Topic4\", \"Topic4\", \"Topic4\", \"Topic5\", \"Topic5\", \"Topic5\", \"Topic5\", \"Topic5\", \"Topic5\", \"Topic5\", \"Topic5\", \"Topic5\", \"Topic5\", \"Topic5\", \"Topic5\", \"Topic5\", \"Topic5\", \"Topic5\", \"Topic5\", \"Topic5\", \"Topic5\", \"Topic5\", \"Topic5\", \"Topic5\", \"Topic5\", \"Topic5\", \"Topic5\", \"Topic5\", \"Topic5\", \"Topic5\", \"Topic5\", \"Topic5\", \"Topic5\", \"Topic5\", \"Topic5\", \"Topic5\", \"Topic5\", \"Topic5\", \"Topic5\", \"Topic5\", \"Topic5\", \"Topic5\", \"Topic5\", \"Topic5\", \"Topic5\", \"Topic5\", \"Topic5\", \"Topic5\", \"Topic5\", \"Topic5\", \"Topic5\", \"Topic5\", \"Topic5\", \"Topic5\", \"Topic5\", \"Topic5\", \"Topic5\", \"Topic5\", \"Topic5\", \"Topic5\", \"Topic5\", \"Topic5\", \"Topic5\", \"Topic5\", \"Topic5\", \"Topic5\", \"Topic5\", \"Topic5\", \"Topic5\", \"Topic5\", \"Topic5\", \"Topic5\", \"Topic5\", \"Topic5\", \"Topic5\", \"Topic5\", \"Topic5\", \"Topic5\", \"Topic5\", \"Topic5\", \"Topic5\", \"Topic5\", \"Topic5\", \"Topic5\", \"Topic5\", \"Topic5\", \"Topic5\", \"Topic5\", \"Topic5\", \"Topic5\", \"Topic5\", \"Topic5\", \"Topic5\", \"Topic5\", \"Topic5\"], \"logprob\": [30.0, 29.0, 28.0, 27.0, 26.0, 25.0, 24.0, 23.0, 22.0, 21.0, 20.0, 19.0, 18.0, 17.0, 16.0, 15.0, 14.0, 13.0, 12.0, 11.0, 10.0, 9.0, 8.0, 7.0, 6.0, 5.0, 4.0, 3.0, 2.0, 1.0, -10.018899917602539, -10.260499954223633, -10.162799835205078, -10.664999961853027, -10.806500434875488, -10.079500198364258, -10.83590030670166, -9.969099998474121, -10.683899879455566, -10.553299903869629, -10.292900085449219, -10.586700439453125, -10.788100242614746, -10.575400352478027, -10.787699699401855, -10.658599853515625, -10.702199935913086, -10.31659984588623, -10.792099952697754, -10.685600280761719, -10.958999633789062, -10.960800170898438, -9.416000366210938, -10.823200225830078, -10.961400032043457, -10.962400436401367, -10.961799621582031, -10.96310043334961, -10.633000373840332, -10.664600372314453, -9.161100387573242, -9.669300079345703, -9.78219985961914, -10.090800285339355, -10.315799713134766, -10.049099922180176, -10.452799797058105, -9.407699584960938, -9.690500259399414, -10.320899963378906, -10.282899856567383, -10.084799766540527, -9.799400329589844, -10.263299942016602, -10.209099769592285, -9.879500389099121, -10.32509994506836, -8.38700008392334, -8.366900444030762, -8.413000106811523, -9.63029956817627, -9.241100311279297, -9.168000221252441, -8.377900123596191, -9.530900001525879, -9.805899620056152, -8.160599708557129, -8.157600402832031, -9.332799911499023, -8.252400398254395, -8.125, -7.35830020904541, -6.918900012969971, -4.404600143432617, -5.893199920654297, -4.656899929046631, -6.948500156402588, -8.365599632263184, -5.627299785614014, -8.124699592590332, -8.423100471496582, -6.536900043487549, -7.235499858856201, -6.197199821472168, -6.275300025939941, -7.665599822998047, -6.751100063323975, -6.617700099945068, -6.11870002746582, -7.1596999168396, -7.446700096130371, -5.293499946594238, -7.2133002281188965, -6.001500129699707, -5.874899864196777, -5.796899795532227, -6.205399990081787, -6.817500114440918, -6.78000020980835, -5.900599956512451, -7.05679988861084, -6.829999923706055, -6.813499927520752, -6.542099952697754, -6.435800075531006, -6.386199951171875, -5.611000061035156, -6.120200157165527, -6.223800182342529, -6.264100074768066, -6.192200183868408, -5.869500160217285, -6.177700042724609, -6.149899959564209, -6.201200008392334, -6.266300201416016, -6.219799995422363, -6.238699913024902, -6.127200126647949, -6.1992998123168945, -6.36359977722168, -6.414700031280518, -6.3780999183654785, -8.795700073242188, -8.500900268554688, -9.00059986114502, -8.98550033569336, -10.017900466918945, -10.24120044708252, -8.699700355529785, -10.125699996948242, -10.289999961853027, -10.001099586486816, -10.086099624633789, -10.271200180053711, -10.048100471496582, -10.383600234985352, -10.092100143432617, -10.279000282287598, -9.331999778747559, -10.280099868774414, -10.280400276184082, -10.280699729919434, -10.337200164794922, -8.651300430297852, -10.388799667358398, -10.389399528503418, -10.283599853515625, -10.513899803161621, -10.063300132751465, -10.330900192260742, -10.102399826049805, -9.986000061035156, -9.991999626159668, -8.793800354003906, -8.894599914550781, -8.872400283813477, -9.345399856567383, -7.980800151824951, -9.741800308227539, -9.735300064086914, -7.669099807739258, -7.243800163269043, -9.59589958190918, -7.443399906158447, -9.124199867248535, -7.209000110626221, -5.197299957275391, -5.744100093841553, -8.789199829101562, -8.265600204467773, -9.17650032043457, -7.282800197601318, -7.589099884033203, -9.204899787902832, -5.4217000007629395, -8.768400192260742, -8.273200035095215, -9.238200187683105, -7.901299953460693, -8.05840015411377, -7.606500148773193, -7.1016998291015625, -6.905900001525879, -6.106400012969971, -6.657599925994873, -6.753699779510498, -6.394499778747559, -5.88129997253418, -5.057499885559082, -4.588500022888184, -7.170499801635742, -5.4446001052856445, -5.512599945068359, -5.984899997711182, -5.815899848937988, -6.160600185394287, -6.399400234222412, -6.277900218963623, -6.114099979400635, -5.65910005569458, -5.51800012588501, -6.727799892425537, -6.0447998046875, -6.035399913787842, -5.942200183868408, -5.986199855804443, -5.330900192260742, -6.077700138092041, -6.15310001373291, -6.094699859619141, -5.896500110626221, -5.998899936676025, -6.1016998291015625, -6.207300186157227, -6.093500137329102, -6.175099849700928, -6.10860013961792, -8.531700134277344, -7.631700038909912, -7.648799896240234, -7.850900173187256, -9.010100364685059, -9.946700096130371, -9.946700096130371, -9.297800064086914, -9.8725004196167, -9.94789981842041, -9.439499855041504, -8.766900062561035, -8.767399787902832, -9.529899597167969, -10.290200233459473, -10.290599822998047, -9.075300216674805, -10.291799545288086, -9.641400337219238, -10.292699813842773, -9.641599655151367, -9.06089973449707, -9.938199996948242, -10.19729995727539, -10.242199897766113, -10.350500106811523, -10.388299942016602, -10.111200332641602, -10.23390007019043, -9.986599922180176, -7.563000202178955, -9.798700332641602, -7.297100067138672, -9.316699981689453, -9.386099815368652, -9.778800010681152, -8.931300163269043, -9.041799545288086, -8.468099594116211, -9.367400169372559, -9.285699844360352, -8.986300468444824, -7.001200199127197, -7.804200172424316, -6.601200103759766, -7.93720006942749, -8.196000099182129, -7.040200233459473, -6.706900119781494, -6.895899772644043, -9.114899635314941, -6.469699859619141, -7.662399768829346, -8.748299598693848, -5.713699817657471, -5.538899898529053, -6.582399845123291, -7.1579999923706055, -5.257500171661377, -6.448400020599365, -5.1234002113342285, -5.420499801635742, -6.3796000480651855, -5.920499801635742, -7.0725998878479, -5.544899940490723, -5.717400074005127, -5.786099910736084, -5.628799915313721, -6.5524001121521, -6.0559000968933105, -6.724800109863281, -5.690299987792969, -6.059899806976318, -6.452000141143799, -6.119999885559082, -5.194900035858154, -5.413000106811523, -5.997200012207031, -5.991799831390381, -6.041299819946289, -6.1367998123168945, -5.779600143432617, -6.188300132751465, -6.053800106048584, -6.092100143432617, -6.304500102996826, -6.203400135040283, -6.313600063323975, -6.283899784088135, -6.3495001792907715, -9.129400253295898, -9.969499588012695, -10.069600105285645, -10.475799560546875, -10.145099639892578, -10.353099822998047, -10.303899765014648, -10.415300369262695, -10.133700370788574, -10.305100440979004, -10.66189956665039, -10.24429988861084, -10.472599983215332, -10.540900230407715, -10.663100242614746, -10.422499656677246, -10.663599967956543, -10.425999641418457, -10.664299964904785, -10.371899604797363, -10.664999961853027, -9.366299629211426, -10.666000366210938, -10.042499542236328, -10.50790023803711, -10.547599792480469, -10.42870044708252, -10.248000144958496, -10.51200008392334, -10.431500434875488, -10.305999755859375, -10.17300033569336, -9.880900382995605, -10.253600120544434, -10.224599838256836, -9.963700294494629, -10.226499557495117, -8.708200454711914, -9.6673002243042, -9.594799995422363, -10.19789981842041, -9.133500099182129, -9.31149959564209, -8.923999786376953, -8.887499809265137, -9.570599555969238, -9.92549991607666, -9.162599563598633, -9.453499794006348, -9.432900428771973, -9.726300239562988, -9.819299697875977, -7.068399906158447, -9.046299934387207, -9.039299964904785, -8.912799835205078, -9.347200393676758, -8.620100021362305, -9.085399627685547, -7.521599769592285, -6.772500038146973, -6.752799987792969, -7.165800094604492, -9.117899894714355, -9.049200057983398, -5.139200210571289, -7.993599891662598, -6.607100009918213, -6.487299919128418, -7.797599792480469, -5.602499961853027, -8.133399963378906, -4.9654998779296875, -7.672500133514404, -6.89169979095459, -5.772600173950195, -6.671199798583984, -6.321100234985352, -6.241099834442139, -5.876399993896484, -6.035900115966797, -7.039700031280518, -6.636000156402588, -5.703700065612793, -7.486800193786621, -6.313000202178955, -5.883600234985352, -5.796500205993652, -6.921500205993652, -5.830100059509277, -6.237199783325195, -5.359899997711182, -6.3125, -6.882900238037109, -6.344699859619141, -5.260000228881836, -6.195400238037109, -5.826000213623047, -6.28439998626709, -5.977799892425537, -6.090000152587891, -5.374599933624268, -5.827099800109863, -6.117400169372559, -6.1809000968933105, -6.282100200653076, -6.185400009155273, -6.288899898529053, -6.162300109863281, -6.218699932098389, -6.213500022888184, -6.209700107574463, -9.218000411987305, -8.698699951171875, -8.350899696350098, -8.947099685668945, -8.986000061035156, -9.462499618530273, -9.67609977722168, -9.834400177001953, -9.678299903869629, -9.428299903869629, -9.276100158691406, -9.890899658203125, -10.033900260925293, -10.034600257873535, -10.035200119018555, -9.693300247192383, -10.035799980163574, -10.036199569702148, -10.037400245666504, -10.037300109863281, -10.037599563598633, -10.040200233459473, -9.700499534606934, -10.041500091552734, -9.103400230407715, -10.279899597167969, -6.80019998550415, -10.417499542236328, -8.878800392150879, -10.00409984588623, -9.367799758911133, -8.996500015258789, -9.375200271606445, -8.196599960327148, -7.681099891662598, -9.233200073242188, -6.656599998474121, -8.647100448608398, -8.643400192260742, -8.68220043182373, -5.926300048828125, -8.855600357055664, -6.932400226593018, -5.480299949645996, -7.641900062561035, -5.461400032043457, -6.663700103759766, -7.531300067901611, -8.630399703979492, -8.80109977722168, -6.165200233459473, -7.037799835205078, -6.314700126647949, -6.518499851226807, -5.268899917602539, -6.793300151824951, -7.627500057220459, -7.712200164794922, -7.989200115203857, -5.418399810791016, -6.044000148773193, -6.297599792480469, -5.343400001525879, -5.351500034332275, -7.765900135040283, -7.0507001876831055, -7.709499835968018, -6.920100212097168, -6.130300045013428, -5.689599990844727, -5.083499908447266, -6.355500221252441, -6.364699840545654, -5.00600004196167, -6.634399890899658, -6.406400203704834, -6.117099761962891, -6.01230001449585, -6.14769983291626, -5.9868998527526855, -6.172399997711182, -6.005899906158447, -6.08489990234375, -6.081600189208984, -6.017199993133545, -6.2245001792907715, -6.017199993133545, -6.218999862670898, -6.241499900817871, -6.194399833679199, -6.267199993133545, -6.275700092315674], \"loglift\": [30.0, 29.0, 28.0, 27.0, 26.0, 25.0, 24.0, 23.0, 22.0, 21.0, 20.0, 19.0, 18.0, 17.0, 16.0, 15.0, 14.0, 13.0, 12.0, 11.0, 10.0, 9.0, 8.0, 7.0, 6.0, 5.0, 4.0, 3.0, 2.0, 1.0, 1.288, 1.2845, 1.2786, 1.2706, 1.2658, 1.2655, 1.2647, 1.2641, 1.2627, 1.2627, 1.2613, 1.2606, 1.2589, 1.2584, 1.2583, 1.2554, 1.2543, 1.2535, 1.2524, 1.2522, 1.2519, 1.2512, 1.251, 1.251, 1.2509, 1.2505, 1.2504, 1.2504, 1.2496, 1.2492, 1.245, 1.242, 1.2396, 1.2416, 1.2443, 1.2372, 1.245, 1.217, 1.225, 1.2403, 1.2384, 1.229, 1.2123, 1.2362, 1.2325, 1.2103, 1.2357, 1.1096, 1.099, 1.0984, 1.1818, 1.146, 1.1321, 1.0511, 1.165, 1.191, 1.0226, 1.0147, 1.1436, 1.0175, 0.9894, 0.8621, 0.7878, 0.3977, 0.6148, 0.4208, 0.7238, 0.9724, 0.4879, 0.9285, 0.9717, 0.633, 0.754, 0.5515, 0.5585, 0.8096, 0.6205, 0.5783, 0.4641, 0.6892, 0.7281, 0.1635, 0.6543, 0.2952, 0.2362, 0.1919, 0.2931, 0.5045, 0.4857, 0.1429, 0.5671, 0.452, 0.4438, 0.3172, 0.2663, 0.2423, -0.143, 0.0941, 0.1318, 0.1503, 0.0554, -0.1822, 0.0242, -0.0141, -0.0532, 0.0015, -0.0745, -0.072, -0.2315, -0.2868, -0.0083, 0.035, -0.5792, 1.5526, 1.5322, 1.5232, 1.5212, 1.5142, 1.512, 1.4991, 1.4958, 1.4905, 1.4859, 1.4829, 1.482, 1.4811, 1.4772, 1.477, 1.4748, 1.4741, 1.4739, 1.4734, 1.4731, 1.4723, 1.4718, 1.4709, 1.4709, 1.469, 1.4675, 1.4671, 1.467, 1.4669, 1.4657, 1.4651, 1.4454, 1.4383, 1.433, 1.4448, 1.3902, 1.4538, 1.453, 1.3584, 1.2976, 1.4342, 1.2757, 1.4013, 1.2533, 1.0935, 1.1085, 1.372, 1.3214, 1.3992, 1.2253, 1.2257, 1.3939, 0.9682, 1.3287, 1.2412, 1.3847, 1.1802, 1.2038, 1.1249, 1.0299, 0.9691, 0.7793, 0.8755, 0.8869, 0.7689, 0.6252, 0.3996, 0.2139, 0.9399, 0.3864, 0.4, 0.5355, 0.4509, 0.554, 0.6301, 0.5691, 0.4967, 0.2366, 0.1693, 0.727, 0.3481, 0.3195, 0.2596, 0.2615, -0.2532, 0.2786, 0.2613, 0.1481, -0.0976, -0.0101, 0.065, 0.1483, -0.05, -0.0297, -0.6406, 1.5809, 1.5762, 1.5751, 1.571, 1.5708, 1.5657, 1.5655, 1.5653, 1.565, 1.5648, 1.5537, 1.5521, 1.551, 1.5463, 1.544, 1.5439, 1.5438, 1.5429, 1.5424, 1.5422, 1.5414, 1.5412, 1.5382, 1.537, 1.536, 1.5342, 1.5287, 1.5283, 1.5253, 1.5244, 1.5037, 1.5243, 1.4862, 1.5166, 1.5164, 1.5224, 1.49, 1.4914, 1.4563, 1.5004, 1.4909, 1.4695, 1.3197, 1.3445, 1.1448, 1.3044, 1.3388, 1.1632, 1.1049, 1.1295, 1.4588, 0.9731, 1.1601, 1.3832, 0.7164, 0.6753, 0.8707, 0.9696, 0.4298, 0.7459, 0.3446, 0.4106, 0.697, 0.5291, 0.8951, 0.3508, 0.4087, 0.3806, 0.2837, 0.6727, 0.3675, 0.6942, 0.1086, 0.2954, 0.4997, 0.273, -0.3925, -0.3353, 0.1386, 0.1193, 0.0739, 0.131, -0.3226, 0.1673, -0.065, -0.0486, 0.202, -0.0553, 0.127, -0.0411, 0.0067, 1.6193, 1.605, 1.5995, 1.5941, 1.5913, 1.5822, 1.5812, 1.5765, 1.5763, 1.5735, 1.573, 1.5725, 1.5724, 1.5708, 1.5707, 1.5705, 1.568, 1.5673, 1.5667, 1.5663, 1.5662, 1.566, 1.5657, 1.5656, 1.565, 1.5649, 1.5645, 1.5643, 1.5627, 1.5618, 1.5612, 1.5596, 1.5561, 1.5598, 1.5579, 1.552, 1.5568, 1.5044, 1.5334, 1.53, 1.5539, 1.4971, 1.5036, 1.4784, 1.4518, 1.5054, 1.5309, 1.4567, 1.4851, 1.4812, 1.5082, 1.517, 1.1955, 1.4283, 1.4243, 1.405, 1.455, 1.3526, 1.412, 1.1542, 1.029, 1.0067, 1.0776, 1.4069, 1.391, 0.6597, 1.1932, 0.9241, 0.8795, 1.1474, 0.6942, 1.1985, 0.5025, 1.0935, 0.8888, 0.5824, 0.7988, 0.7054, 0.6773, 0.5642, 0.6047, 0.8659, 0.7461, 0.4443, 0.9653, 0.556, 0.3814, 0.3314, 0.7438, 0.3153, 0.4736, 0.0972, 0.4739, 0.7057, 0.4313, -0.1823, 0.3184, 0.0866, 0.3613, 0.1333, 0.1528, -0.5722, -0.1398, 0.1504, 0.1744, 0.2888, 0.0623, 0.2315, -0.2665, -0.1752, -0.2247, -0.3787, 1.7622, 1.7601, 1.7575, 1.7568, 1.7558, 1.7515, 1.7344, 1.7339, 1.7325, 1.728, 1.7249, 1.7223, 1.7179, 1.7176, 1.7168, 1.7167, 1.7164, 1.7158, 1.7149, 1.7148, 1.7146, 1.7127, 1.712, 1.7112, 1.7076, 1.6998, 1.6991, 1.6988, 1.6926, 1.6925, 1.6906, 1.679, 1.6832, 1.6433, 1.6084, 1.6773, 1.5415, 1.6415, 1.6411, 1.6414, 1.4597, 1.6465, 1.5138, 1.3986, 1.5531, 1.3667, 1.4558, 1.5174, 1.62, 1.635, 1.3545, 1.4375, 1.3362, 1.3596, 1.1916, 1.3804, 1.492, 1.5009, 1.4889, 0.8467, 0.9978, 1.0385, 0.7827, 0.7764, 1.3973, 1.1347, 1.3493, 1.0316, 0.675, 0.4461, -0.0058, 0.6699, 0.6485, -0.2036, 0.7703, 0.5834, 0.3412, 0.1896, 0.2452, 0.0566, 0.2509, -0.0171, 0.0604, 0.0295, -0.1861, 0.1899, -0.5492, 0.0477, 0.1148, -0.2987, -0.1005, -0.4768]}, \"token.table\": {\"Topic\": [3, 1, 2, 3, 5, 1, 3, 5, 1, 3, 5, 1, 2, 3, 4, 5, 3, 3, 5, 1, 2, 3, 4, 5, 3, 1, 2, 3, 4, 5, 1, 2, 3, 4, 5, 1, 2, 3, 4, 5, 1, 2, 3, 4, 5, 1, 2, 5, 1, 2, 3, 4, 5, 3, 5, 2, 3, 1, 2, 3, 4, 5, 1, 2, 4, 5, 1, 2, 3, 4, 5, 1, 2, 3, 4, 5, 1, 2, 4, 5, 1, 2, 3, 4, 5, 1, 2, 3, 4, 5, 1, 2, 3, 5, 1, 2, 3, 4, 5, 1, 5, 1, 2, 4, 1, 4, 5, 1, 2, 3, 4, 5, 1, 2, 3, 4, 5, 1, 2, 3, 4, 5, 1, 4, 1, 2, 3, 4, 5, 1, 4, 1, 2, 3, 4, 5, 1, 2, 3, 4, 5, 1, 2, 3, 4, 5, 1, 2, 3, 4, 5, 2, 1, 4, 5, 4, 5, 1, 2, 3, 4, 5, 1, 2, 3, 4, 5, 1, 2, 3, 4, 5, 1, 2, 3, 4, 5, 1, 2, 3, 4, 5, 1, 2, 3, 4, 5, 1, 2, 3, 4, 5, 1, 5, 3, 4, 2, 3, 4, 5, 1, 2, 3, 5, 3, 4, 5, 3, 4, 5, 1, 3, 5, 2, 3, 1, 2, 3, 4, 5, 3, 1, 2, 3, 4, 5, 2, 1, 2, 3, 4, 5, 2, 1, 2, 3, 4, 5, 1, 2, 3, 4, 5, 1, 2, 3, 4, 5, 1, 2, 5, 1, 4, 5, 1, 1, 2, 3, 4, 5, 1, 2, 4, 1, 2, 3, 4, 5, 1, 2, 4, 5, 1, 2, 3, 4, 5, 1, 2, 3, 4, 5, 1, 2, 3, 4, 5, 1, 2, 3, 4, 5, 1, 2, 3, 4, 5, 1, 2, 4, 5, 3, 1, 2, 3, 4, 5, 4, 1, 5, 1, 5, 1, 2, 3, 4, 5, 1, 2, 3, 4, 5, 1, 2, 3, 4, 5, 1, 2, 3, 4, 5, 2, 4, 1, 1, 2, 3, 4, 5, 4, 1, 2, 3, 4, 5, 1, 2, 3, 4, 5, 1, 2, 3, 4, 5, 3, 1, 2, 3, 4, 5, 1, 2, 3, 4, 1, 2, 3, 4, 5, 4, 1, 2, 3, 4, 1, 2, 3, 4, 5, 1, 2, 3, 4, 1, 2, 3, 4, 5, 1, 2, 3, 4, 5, 4, 1, 2, 3, 4, 5, 5, 3, 1, 2, 3, 4, 5, 1, 2, 3, 4, 5, 5, 1, 2, 3, 4, 1, 2, 3, 4, 5, 1, 2, 3, 4, 5, 1, 2, 5, 1, 2, 3, 4, 5, 1, 2, 3, 4, 5, 1, 2, 3, 4, 5, 1, 1, 2, 3, 4, 5, 2, 1, 2, 3, 4, 5, 1, 2, 3, 4, 5, 1, 2, 3, 4, 5, 1, 3, 1, 2, 3, 4, 5, 1, 2, 3, 4, 1, 2, 3, 4, 5, 1, 2, 3, 4, 5, 1, 2, 3, 4, 5, 2, 1, 2, 3, 4, 5, 1, 2, 3, 4, 5, 1, 2, 3, 4, 5, 1, 2, 3, 1, 1, 2, 3, 4, 5, 1, 1, 2, 3, 4, 5, 1, 5, 1, 2, 3, 4, 5, 1, 2, 3, 4, 5, 1, 2, 3, 4, 5, 3, 4, 4, 4, 5, 1, 2, 4, 4, 1, 2, 3, 4, 5, 1, 2, 4, 5, 3, 4, 1, 2, 3, 4, 5, 1, 1, 2, 3, 4, 5, 1, 2, 3, 4, 5, 1, 2, 3, 4, 5, 4, 1, 1, 1, 2, 3, 4, 5, 1, 2, 3, 4, 5, 1, 2, 3, 4, 5, 2, 1, 2, 3, 4, 5, 2, 3, 1, 2, 3, 4, 5, 4, 1, 1, 2, 3, 4, 5, 5, 1, 2, 3, 4, 5, 1, 2, 3, 4, 5, 1, 2, 3, 4, 5, 1, 1, 4, 5, 1, 1, 2, 3, 4, 5, 1, 2, 3, 4, 5, 1, 4, 5, 1, 2, 3, 4, 5, 2, 1, 2, 3, 4, 5, 1, 2, 3, 4, 5, 1, 2, 3, 4, 5, 1, 2, 3, 4, 5, 3, 5, 1, 2, 3, 4, 5, 1, 3, 1, 1, 3, 1, 2, 3, 5, 1, 2, 3, 4, 5, 1, 2, 3, 4, 5, 1, 2, 3, 4, 5, 1, 2, 1, 2, 3, 4, 5, 1, 2, 3, 4, 5, 4, 5, 1, 2, 3, 4, 5, 1, 2, 3, 4, 5, 1, 2, 3, 4, 5, 1, 3, 4, 5, 1, 2, 3, 4, 5, 1, 2, 4, 5, 1, 2, 3, 5, 1, 2, 3, 5, 3, 5, 1, 2, 3, 4, 5, 5, 1, 2, 3, 4, 5, 1, 2, 3, 4, 5, 1, 2, 3, 5, 1, 2, 3, 4, 1, 2, 3, 4, 1, 2, 3, 4, 5, 2, 2, 3, 4, 1, 2, 3, 4, 5, 1, 2, 3, 4, 5, 1, 2, 3, 1, 1, 2, 3, 4, 5, 1, 2, 3, 4, 5, 1, 2, 3, 4, 5, 1, 5, 1, 3, 4, 1, 2, 3, 4, 5, 5, 1, 2, 3, 4, 5, 1, 2, 3, 4, 5, 1, 2, 3, 4, 5, 1, 1, 1, 2, 3, 4, 5, 1, 2, 3, 4, 5, 1, 3, 4, 5, 3, 2, 1, 2, 4, 5, 1, 2, 3, 4, 5, 1, 2, 3, 4, 5, 1, 2, 4, 1, 2, 3, 4, 5, 1, 3, 5, 1, 2, 3, 4, 5, 1, 2, 3, 4, 5, 1, 2, 3, 4, 5, 1, 2, 3, 4, 5, 1, 2, 3, 4, 5, 1, 2, 3, 4, 5, 1, 2, 3, 4, 5, 4, 1, 2, 3, 4, 5, 4, 2, 3, 4, 1, 2, 3, 4, 5, 1, 2, 3, 4, 5, 1, 1, 2, 3, 4, 5, 1, 2, 3, 4, 5, 3, 1, 2, 3, 4, 5, 1, 2, 3, 4, 5, 1, 2, 3, 4, 5, 1, 2, 3, 4, 5, 1, 2, 3, 4, 5, 1, 2, 3, 1, 3, 2, 3, 4, 1, 2, 3, 4, 5, 2, 4, 1, 2, 3, 4, 5, 1, 4, 5, 1, 1, 2, 3, 4, 5, 1, 2, 3, 4, 5, 1, 2, 3, 4, 5, 1, 2, 3, 4, 5, 1, 2, 4, 5, 4, 1, 2, 3, 4, 5, 1, 2, 1, 2, 3, 4, 5, 1, 2, 3, 4, 5, 2, 5, 2, 4, 5, 1, 2, 3, 4, 5, 1, 2, 3, 4, 5, 4, 5, 5, 1, 2, 3, 4, 5, 1, 2, 3, 4, 5, 4, 4, 1, 2, 3, 4, 5, 1, 2, 1, 5, 1, 2, 3, 4, 5, 1, 2, 3, 4, 5, 1, 2, 3, 4, 5, 1, 2, 3, 4, 5, 4, 1, 2, 3, 5, 1, 2, 3, 5, 3, 4, 1, 5, 1, 2, 3, 4, 5, 1, 2, 3, 4, 5, 1, 1, 2, 3, 4, 5, 1, 2, 1, 2, 3, 4, 5, 1, 2, 1, 2, 3, 4, 5, 1, 2, 3, 4, 5, 5, 1, 2, 3, 4, 5, 1, 2, 4, 5, 4, 5, 1, 3, 5, 2, 3, 1, 2, 3, 4, 5, 1, 2, 3, 4, 5, 4, 1, 2, 3, 4, 5, 2, 1, 2, 3, 4, 5, 4, 5, 2, 4, 1, 2, 3, 4, 5, 1, 2, 3, 4, 5, 1, 2, 3, 4, 5, 1, 2, 3, 4, 5, 1, 2, 3, 4, 5, 1, 2, 3, 4, 5, 1, 3, 5, 1, 2, 3, 4, 5, 1, 2, 3, 4, 5, 1, 2, 3, 4, 5, 1, 4, 1, 2, 3, 4, 5, 5, 4, 1, 2, 3, 4, 5, 2, 1, 2, 3, 4, 5, 1, 2, 3, 4, 5, 2, 2, 3, 1, 2, 3, 4, 5, 2, 1, 2, 5, 3, 1, 1, 2, 3, 4, 5, 5, 1, 3, 1, 2, 3, 4, 5, 3, 4, 1, 2, 3, 4, 5, 2, 3, 4, 5, 1, 2, 3, 4, 5, 1, 2, 3, 4, 5, 4, 5, 1, 2, 3, 4, 5, 1, 2, 3, 4, 5, 1, 2, 3, 4, 5, 1, 5, 1, 2, 3, 4, 5, 2, 3, 1, 2, 3, 4, 5, 1, 2, 3, 4, 5, 1, 2, 3, 4, 5, 3, 1, 2, 3, 4, 5, 1, 2, 3, 4, 5, 1, 2, 3, 4, 5, 3, 1, 2, 3, 4, 5, 1, 2, 3, 4, 5, 1, 2, 3, 4, 5, 1, 2, 3, 4, 5, 1, 2, 3, 4, 5, 1, 2, 3, 4, 5, 1, 1, 2, 3, 4, 5, 1, 2, 3, 4, 5, 3, 4, 1, 2, 3, 4, 5, 1, 1, 1, 2, 3, 4, 5, 2, 3, 1, 2, 3, 4, 5, 1, 5, 5, 5, 2, 1, 2, 2, 4], \"Freq\": [0.9478389829796415, 0.022085191138295837, 0.022085191138295837, 0.9275780278084251, 0.022085191138295837, 0.03960497501056955, 0.9109144252430997, 0.03960497501056955, 0.029832620930358503, 0.9248112488411135, 0.029832620930358503, 0.07660752774025072, 0.07660752774025072, 0.07660752774025072, 0.7660752774025071, 0.02553584258008357, 0.9099179379739323, 0.9056737997249613, 0.9263363529403098, 0.0460825705165825, 0.683558129329307, 0.21505199574405165, 0.02304128525829125, 0.030721713677721665, 0.9473184330552822, 0.021799725088172607, 0.8501892784387316, 0.08719890035269043, 0.021799725088172607, 0.021799725088172607, 0.03735782672929593, 0.7508923172588483, 0.06724408811273268, 0.048565174748084715, 0.10086613216909902, 0.03425087200218078, 0.8220209280523387, 0.03425087200218078, 0.05137630800327117, 0.05993902600381636, 0.7807088870345553, 0.02168635797318209, 0.04337271594636418, 0.08674543189272836, 0.06505907391954628, 0.05270676831032153, 0.8960150612754662, 0.05270676831032153, 0.06432241286256661, 0.02968726747503074, 0.6283804948881507, 0.08906180242509222, 0.1880193606751947, 0.9474922181332978, 0.9264060037540748, 0.9258598069999778, 0.07715498391666482, 0.5593283978035782, 0.05187973544844783, 0.06484966931055978, 0.059985944112267806, 0.2642624024405311, 0.8269903838461884, 0.043525809676115176, 0.043525809676115176, 0.08705161935223035, 0.299310905952818, 0.3054646424544179, 0.14204875091193134, 0.20050924767713052, 0.052477697388643704, 0.05713263562896342, 0.8284232166199695, 0.02856631781448171, 0.02856631781448171, 0.05713263562896342, 0.01790178712208108, 0.01790178712208108, 0.01790178712208108, 0.9487947174702972, 0.18151982711744763, 0.18850135892965716, 0.1570844657747143, 0.4433272700753048, 0.03141689315494286, 0.020633645233046085, 0.04126729046609217, 0.04126729046609217, 0.06190093569913825, 0.8253458093218433, 0.11693643694861547, 0.8185550586403083, 0.029234109237153867, 0.029234109237153867, 0.10640961451110811, 0.4416469841213248, 0.21470258503126238, 0.12806820861513896, 0.10829297052015427, 0.841815179320623, 0.07652865266551118, 0.14517111785654987, 0.03629277946413747, 0.8347339276751617, 0.02541337442390024, 0.02541337442390024, 0.9402948536843089, 0.09735336265906387, 0.04971235540037304, 0.2879173916938272, 0.10771010336747493, 0.4556965911700862, 0.053004725176439775, 0.0689061427293717, 0.05035448891761779, 0.06625590647054971, 0.7606178062819108, 0.04906092004700081, 0.02299730627203163, 0.1303180688748459, 0.17784583517037794, 0.6193941155933852, 0.8720328219113646, 0.058135521460757636, 0.4130886176998442, 0.10640161364995987, 0.0646754906499756, 0.3192048409498796, 0.0970132359749634, 0.1058084203724989, 0.8464673629799911, 0.04251171855678348, 0.7652109340221026, 0.09565136675276283, 0.05313964819597935, 0.05313964819597935, 0.2449284012937604, 0.33650561328191414, 0.21295765864700847, 0.12354795463490569, 0.08182342609592438, 0.12538281608004043, 0.49199126744450644, 0.14991423661743963, 0.15672852010005053, 0.07768283170176418, 0.04859288301506883, 0.7957084593717522, 0.12148220753767208, 0.01822233113065081, 0.01822233113065081, 0.9278872273681511, 0.06891850572632374, 0.827022068715885, 0.06891850572632374, 0.8822736506890589, 0.08020669551718718, 0.23511957815354081, 0.14814216857406867, 0.19808403601002364, 0.2614933733163485, 0.15712048182098193, 0.21175337948514375, 0.24274167892199405, 0.3014903299376894, 0.15816944504225677, 0.08564821649907237, 0.11699933446482527, 0.15222494054025654, 0.4692553952191379, 0.19877306285421928, 0.061644810632004714, 0.027166674721104126, 0.8421669163542279, 0.027166674721104126, 0.08150002416331237, 0.05433334944220825, 0.012633898331842804, 0.06316949165921402, 0.8843728832289963, 0.012633898331842804, 0.03158474582960701, 0.007391958454253713, 0.014783916908507427, 0.9461706821444753, 0.007391958454253713, 0.014783916908507427, 0.3783618514155881, 0.2536623116532675, 0.13251546533146888, 0.10267284043108446, 0.13278191733950803, 0.9046403646539347, 0.9263907170400435, 0.11788322292731905, 0.8251825604912333, 0.09422337346900911, 0.047111686734504554, 0.8008986744865774, 0.047111686734504554, 0.03596800515321181, 0.8992001288302952, 0.03596800515321181, 0.9214855689689293, 0.03614450895998819, 0.03614450895998819, 0.9036127239997047, 0.05688467998292176, 0.05688467998292176, 0.8817125397352873, 0.8597974511560688, 0.047766525064226045, 0.047766525064226045, 0.9256384956492885, 0.07713654130410738, 0.023788605491511534, 0.02854632658981384, 0.8659052398910199, 0.009515442196604613, 0.0713658164745346, 0.9424463358523029, 0.02209697087055521, 0.02209697087055521, 0.9280727765633188, 0.02209697087055521, 0.02209697087055521, 0.9289247520848196, 0.229039003893442, 0.19065257865990423, 0.14458886837965892, 0.40433701245993114, 0.031988687694614805, 0.8894151729008292, 0.045105350966726715, 0.045105350966726715, 0.09021070193345343, 0.7667909664343542, 0.045105350966726715, 0.11076819632490997, 0.16219628747576104, 0.2235143961556219, 0.4331827677706301, 0.0712081262088707, 0.07410943048380528, 0.18115638562707959, 0.1070469551432743, 0.6011098250353095, 0.03293752465946902, 0.046291001191939185, 0.046291001191939185, 0.8795290226468445, 0.0989380837839675, 0.8409737121637237, 0.04946904189198375, 0.8947788566355526, 0.06984396254149318, 0.03492198127074659, 0.8730495317686647, 0.03492198127074659, 0.03492198127074659, 0.04106155450984088, 0.1642462180393635, 0.8212310901968176, 0.05163852917577119, 0.05163852917577119, 0.10327705835154238, 0.7487586730486823, 0.025819264587885596, 0.03540018077031791, 0.8850045192579479, 0.03540018077031791, 0.03540018077031791, 0.08342913447688959, 0.18055558953953718, 0.5192529712964621, 0.10708814276138066, 0.10833335372372231, 0.24627562854624113, 0.21295292193533324, 0.14162150309635854, 0.2431516248014685, 0.15620018723863074, 0.09384204955552972, 0.5395917849442959, 0.14814879119646127, 0.17595384291661822, 0.04301093937961779, 0.054014172542847814, 0.6972738637349445, 0.20623593152723713, 0.029462275932462444, 0.014731137966231222, 0.016602899538806806, 0.946365273711988, 0.016602899538806806, 0.016602899538806806, 0.016602899538806806, 0.8322079699039534, 0.036182955213215365, 0.1085488656396461, 0.036182955213215365, 0.8912828409179855, 0.15962764045508582, 0.15800705527280068, 0.12883652199166826, 0.24308777734277026, 0.31115235499874594, 0.9378158538607683, 0.04370635824376963, 0.9178335231191623, 0.8634001283927187, 0.07195001069939323, 0.21245276429488202, 0.49774647634800934, 0.1547870139862712, 0.08194606622802593, 0.053113191073720506, 0.2324327639912071, 0.11963451087782719, 0.11279825311337992, 0.4973377523635387, 0.03759941770445997, 0.26077305726494404, 0.13878051116245949, 0.06491346489856976, 0.07610544160521972, 0.45999024264331334, 0.17793214835983776, 0.14129905899163586, 0.07064952949581793, 0.10466596962343397, 0.5050133034330689, 0.966363756092188, 0.8971634040930797, 0.8886035785729947, 0.16907806140146228, 0.2455490518278498, 0.14241845006015288, 0.31710906121768034, 0.12487923207244933, 0.8409639531067917, 0.32377144953585274, 0.15995523060544684, 0.1428565680234853, 0.1858790093587434, 0.1875337186408687, 0.007274938229497292, 0.021824814688491876, 0.945741969834648, 0.007274938229497292, 0.014549876458994583, 0.00901021129787864, 0.027030633893635924, 0.9460721862772573, 0.00901021129787864, 0.00901021129787864, 0.9518539560954864, 0.140466771401623, 0.10925193331237344, 0.606459711448277, 0.06020004488640985, 0.08249635780730238, 0.0273791187533067, 0.0273791187533067, 0.8761318001058144, 0.0547582375066134, 0.10472474198722055, 0.08208155453052422, 0.062268765505914925, 0.60287486603454, 0.15001111690061322, 0.8936424165353613, 0.03396148368840115, 0.03396148368840115, 0.03396148368840115, 0.9169600595868309, 0.34876727605833735, 0.12852977304938729, 0.22718505830891697, 0.17090986037918524, 0.12436123986940714, 0.05067469787436747, 0.07601204681155121, 0.8614698638642471, 0.025337348937183736, 0.3074477232691273, 0.22499292846306196, 0.11249646423153098, 0.27996279166710547, 0.07478458133573365, 0.08977467450306997, 0.18635046071091796, 0.17682890432422874, 0.4583949289020391, 0.08841445216211437, 0.9307055595027699, 0.2545643813843836, 0.17073502316414849, 0.22380131414760007, 0.21149608725288666, 0.13958741758690518, 0.9332712554483741, 0.9049258874506887, 0.029837280539599963, 0.08951184161879988, 0.029837280539599963, 0.775769294029599, 0.059674561079199925, 0.09232233437691244, 0.0829968460560122, 0.1809144734254648, 0.10770939010639785, 0.5357493040357192, 0.8762202787412756, 0.01770051395778184, 0.778822614142401, 0.17700513957781838, 0.01770051395778184, 0.25223048806311443, 0.1494077433452059, 0.26356197421570027, 0.21655729091608494, 0.11793139292135633, 0.11294514597832944, 0.10588607435468385, 0.035295358118227954, 0.044707453616422074, 0.7000246026781877, 0.046287175798468506, 0.046287175798468506, 0.8794563401709016, 0.3997003384725107, 0.19932006268655705, 0.10496109684026143, 0.12934599812638278, 0.1664534566052631, 0.24201927851594174, 0.08643545661283633, 0.518612739677018, 0.12347922373262334, 0.0296350136958296, 0.0731263111763103, 0.10237683564683442, 0.05850104894104824, 0.03656315558815515, 0.731263111763103, 0.8708084097867199, 0.21887710019676382, 0.2705505806654816, 0.19745151073412476, 0.13023397516506102, 0.18232756523108543, 0.9293979236329575, 0.1281825968542931, 0.10254607748343447, 0.09827332425495804, 0.5768216858443189, 0.0940005710264816, 0.03582412004193461, 0.07164824008386922, 0.07164824008386922, 0.7881306409225615, 0.03582412004193461, 0.4894051912394294, 0.10473651952594792, 0.18281283408165455, 0.15996122982144773, 0.06093761136055152, 0.8393471364742162, 0.08835233015518065, 0.5247413104440091, 0.08615155843110597, 0.08615155843110597, 0.24279075557857138, 0.06108928688751151, 0.8053523276748284, 0.06442818621398627, 0.032214093106993136, 0.09664227932097941, 0.1366289055886051, 0.0673522774028335, 0.0788983821004621, 0.0827470836663383, 0.6331114075866349, 0.1628274046959623, 0.11036079651615222, 0.40164093158337366, 0.1809193385510692, 0.14383087414810003, 0.08227702438876462, 0.04799493089344603, 0.754206056897009, 0.05485134959250974, 0.06170776829157346, 0.9283787105838704, 0.10533254342887324, 0.08573579116303635, 0.056340662764281034, 0.056340662764281034, 0.6981342994704389, 0.3318688906659008, 0.2119448908188311, 0.16148182157625227, 0.2083827918134726, 0.08667774246372364, 0.04765598028248221, 0.05718717633897865, 0.10484315662146086, 0.0667183723954751, 0.7243709002937296, 0.8762727428011376, 0.06259091020008126, 0.03129545510004063, 0.8825624523903456, 0.19464220579728944, 0.1646972510592449, 0.13535119541596127, 0.2922627582433146, 0.21320807773487704, 0.9187142134840341, 0.043361157738974705, 0.6973919536351765, 0.05420144717371838, 0.043361157738974705, 0.1589909117095739, 0.8415107601004271, 0.07650097819094792, 0.15449161301889122, 0.19562843305350724, 0.22259590396508883, 0.3199530447136801, 0.10695573209000162, 0.024019444257321686, 0.04803888851464337, 0.07205833277196505, 0.7926416604916156, 0.04803888851464337, 0.14391122920384372, 0.2819485306850816, 0.12545031350422528, 0.32600298860462557, 0.12251334964292235, 0.1178971335497809, 0.8252799348484663, 0.8925578310706562, 0.9083719656232168, 0.09083719656232168, 0.8827713317318586, 0.08025193924835078, 0.04012596962417539, 0.8240492238693043, 0.44773215019188417, 0.15670625256715948, 0.08059178703453915, 0.10148595404349375, 0.2134189915914648, 0.7670782190757964, 0.17477731573878905, 0.01941970174875434, 0.029129552623131508, 0.9328936639770815, 0.8977152874438117, 0.41396530743383286, 0.1650579375732986, 0.21127416009382222, 0.1294054230574661, 0.08021815766062312, 0.8903215271913328, 0.27921036645374697, 0.17423310073745568, 0.38564564974943116, 0.09805168221417485, 0.06305926030874441, 0.24422822624730747, 0.14000344179781957, 0.14311462939332667, 0.3826760742473735, 0.09022444026970594, 0.059603806658116674, 0.039735871105411116, 0.059603806658116674, 0.8145853576609279, 0.019867935552705558, 0.8880972905752629, 0.8805424739711577, 0.8810875461220348, 0.049183317557923614, 0.6114470038801063, 0.12354849370550412, 0.16053434850906267, 0.05508531566487445, 0.03450572438148893, 0.6204129243791711, 0.0973061427557988, 0.20634423180130382, 0.04140686925778672, 0.053544788605316106, 0.7317787776059869, 0.12493784007907092, 0.06693098575664513, 0.022310328585548378, 0.8829084577790298, 0.12528492814506856, 0.17481617880707243, 0.41373162317673806, 0.16413296787997356, 0.1223713251649507, 0.04336833052889494, 0.9107349411067936, 0.2633593584068029, 0.17434297281571193, 0.33300430257392594, 0.14159601231328983, 0.08809393599947349, 0.9119095004736298, 0.8443022769404405, 0.20666461773406924, 0.32152097591713, 0.16748285005958027, 0.1336789720659035, 0.17055592987718726, 0.9443537784433165, 0.7043005102589972, 0.05417696232761517, 0.05417696232761517, 0.139312188842439, 0.046437396280813004, 0.06251692412529346, 0.0468876930939701, 0.12503384825058692, 0.7033153964095514, 0.0468876930939701, 0.0978398195458719, 0.5390782214194119, 0.18992435558904544, 0.14771894323592424, 0.02493956184502617, 0.8815663359845761, 0.8963797973531588, 0.05975865315687725, 0.05975865315687725, 0.9169484586908665, 0.5399112594432393, 0.15057286119930977, 0.0838905940967583, 0.1527239020735856, 0.07313538972537903, 0.2650827281537129, 0.20311533715674107, 0.17409886042006378, 0.2503285874401482, 0.10721342251857034, 0.06111579425276354, 0.8556211195386896, 0.06111579425276354, 0.2593849523738702, 0.36162928545245926, 0.12900627260922645, 0.18939218744758776, 0.05969971126065267, 0.9530420293789871, 0.10415723923848795, 0.29024569595327604, 0.2579961741806898, 0.13989319579729972, 0.2078786741286977, 0.09057964046362754, 0.04262571315935414, 0.6287292691004736, 0.10123606875346608, 0.1358694606954413, 0.017976543304775643, 0.017976543304775643, 0.9527567951531092, 0.017976543304775643, 0.017976543304775643, 0.02978366791633993, 0.014891833958169965, 0.848834535615688, 0.014891833958169965, 0.08935100374901979, 0.8851856920173935, 0.05901237946782623, 0.1283570663492725, 0.14612958322840253, 0.14283837639893399, 0.263296546357482, 0.3199053038243406, 0.8820302368248474, 0.05512688980155296, 0.8931405399583201, 0.0727834197798131, 0.8734010373577573, 0.05307436447894682, 0.05307436447894682, 0.05307436447894682, 0.8491898316631491, 0.12639456983274017, 0.0927789927495646, 0.07664351574964032, 0.07260964649965924, 0.6306282260803738, 0.19314598672417932, 0.09103191997246156, 0.18206383994492312, 0.24222406531802818, 0.29130214391187703, 0.15101662974482324, 0.09508454465414796, 0.05593208509067528, 0.5761004764339553, 0.12864379570855314, 0.9036321127687081, 0.07530267606405901, 0.2772484568220753, 0.12385951769270227, 0.20260464152382426, 0.07792486212454779, 0.31826154215078467, 0.059297627106167594, 0.7115715252740111, 0.03953175140411173, 0.04941468925513966, 0.14824406776541899, 0.8977535626211515, 0.9248974642191471, 0.09971316443116726, 0.21645052766765577, 0.3927725867227686, 0.19821031466195443, 0.09241707922888673, 0.34097287498572254, 0.1888912233585679, 0.18162617630631528, 0.16273705397045848, 0.1268961551793456, 0.14109778658983943, 0.13106713825406888, 0.12036778002924692, 0.2534410479504699, 0.35374753130817566, 0.06404447214824648, 0.021348157382748822, 0.06404447214824648, 0.8325781379272041, 0.09790507236196813, 0.10489829181639443, 0.03496609727213148, 0.0734288042714761, 0.685335506533777, 0.026661229827967554, 0.9331430439788644, 0.026661229827967554, 0.026661229827967554, 0.06843685251271864, 0.041062111507631185, 0.041062111507631185, 0.8349296006551674, 0.06660099106126947, 0.022200330353756494, 0.04440066070751299, 0.8436125534427468, 0.06595316453907094, 0.9233443035469932, 0.5699280695138323, 0.06643333325621359, 0.08741228060028103, 0.09440526304830352, 0.1783210524245733, 0.8867497696885704, 0.24118028100540578, 0.16544899050583, 0.18557577491787944, 0.2838217734038156, 0.12383089392498205, 0.27963448803589175, 0.12876901492660955, 0.3230654575673518, 0.15467520727870854, 0.11429202508278954, 0.06430752789809496, 0.04287168526539664, 0.04287168526539664, 0.8359978626752345, 0.04499678358300565, 0.8549388880771074, 0.04499678358300565, 0.0899935671660113, 0.08984419670788862, 0.8085977703709977, 0.02994806556929621, 0.05989613113859242, 0.02564326604407222, 0.6667249171458777, 0.20514612835257776, 0.07692979813221666, 0.02564326604407222, 0.9280435306697196, 0.9273262929284339, 0.06758801871019289, 0.8786442432325076, 0.06120930285888104, 0.877333340977295, 0.02040310095296035, 0.02040310095296035, 0.0408062019059207, 0.6824005959227497, 0.06625248504104365, 0.10600397606566984, 0.06625248504104365, 0.0795029820492524, 0.8790159663860164, 0.07991054239872876, 0.03995527119936438, 0.9119338796940217, 0.5064891450522442, 0.09531714537883564, 0.12148263626714345, 0.1495170907903304, 0.12895849080665997, 0.17527885456249323, 0.3827816768161412, 0.2402150318795172, 0.11327212885375608, 0.08886003211803278, 0.08739150031875126, 0.5243490019125076, 0.24518170922760768, 0.06554362523906344, 0.07768133361666778, 0.9173275326890671, 0.07644396105742225, 0.8922401540027279, 0.9046410658209396, 0.06030940438806264, 0.0549634224397432, 0.036642281626495465, 0.7878090549696526, 0.09160570406623866, 0.018321140813247733, 0.9193953119516322, 0.2687116926166008, 0.26607356940718113, 0.14961927344851406, 0.19371361852024238, 0.12173054237750638, 0.4698628919491125, 0.14179005064021086, 0.09338586093889749, 0.14472363789483592, 0.15010188119498183, 0.052832182570132565, 0.10566436514026513, 0.07924827385519885, 0.7396505559818559, 0.026416091285066282, 0.9495109223147354, 0.909122172441395, 0.19085220746777617, 0.3056870102661839, 0.26066961104708974, 0.198400034881756, 0.044478268689524106, 0.2602822238666309, 0.26568227000494277, 0.15192129802450657, 0.1252810704088348, 0.19656167943455113, 0.0551970862599098, 0.0551970862599098, 0.827956293898647, 0.0551970862599098, 0.9507353129076406, 0.9237857267995695, 0.08144099867730124, 0.13573499779550208, 0.7329689880957112, 0.027146999559100413, 0.32186884800485915, 0.08153572452012775, 0.22093551160292682, 0.20811336137597122, 0.1676742721986498, 0.12651901821510608, 0.006658895695531899, 0.07990674834638278, 0.066588956955319, 0.725819630812977, 0.8924870195980784, 0.04462435097990392, 0.04462435097990392, 0.8699662364878034, 0.029998835740958737, 0.029998835740958737, 0.029998835740958737, 0.059997671481917474, 0.852337853230149, 0.06088127523072493, 0.06088127523072493, 0.14619553667628554, 0.423462933820965, 0.16383982558549243, 0.15879860018286188, 0.10838634615655653, 0.06824294705358658, 0.04963123422079024, 0.07444685133118535, 0.06824294705358658, 0.7444685133118536, 0.12804111655932737, 0.35647127755718844, 0.2254245009847313, 0.18514865680879264, 0.10519810045954127, 0.056618644364022676, 0.8115339025509917, 0.09436440727337111, 0.037745762909348446, 0.018872881454674223, 0.13632376486931175, 0.11661430488820643, 0.26689893724413444, 0.3687311471465119, 0.1116869398929301, 0.024946026446752263, 0.04989205289350453, 0.07483807934025678, 0.7234347669558155, 0.12473013223376131, 0.08069511430261347, 0.0706082250147868, 0.7464298072991746, 0.0706082250147868, 0.02017377857565337, 0.8997202328607616, 0.2203363343628277, 0.10800800704060182, 0.27701893645773557, 0.3008671044123004, 0.09401016932813983, 0.8973869461988938, 0.9209393603409572, 0.058783363426018545, 0.8899845659746962, 0.1429603577062975, 0.16756828813115202, 0.0703083726424414, 0.384352437112013, 0.23436124214147133, 0.45334115681664966, 0.0797724782381229, 0.10993036635253522, 0.23639892941297397, 0.12063155245764927, 0.880431266005945, 0.44429022961982917, 0.10429984049002088, 0.22959510341634465, 0.15103158720308218, 0.07111352760683241, 0.07181420416207243, 0.07899562457827967, 0.028725681664828973, 0.04308852249724346, 0.7684119845341749, 0.8739054096071971, 0.028491553849938452, 0.09259755001229998, 0.19231798848708456, 0.5983226308487075, 0.09259755001229998, 0.04006990345337133, 0.04006990345337133, 0.04006990345337133, 0.8013980690674266, 0.08013980690674266, 0.10414674489944763, 0.572807096946962, 0.08678895408287302, 0.06199211005919501, 0.17605759256811385, 0.037967298515832436, 0.7179270992084679, 0.04832201629287764, 0.04832201629287764, 0.14841762147098134, 0.25071452677025724, 0.17657851078980483, 0.22544088495873937, 0.09300700186638575, 0.2540843456784596, 0.11402636292694016, 0.02850659073173504, 0.8551977219520511, 0.07391897299152339, 0.8870276758982808, 0.07650993875570274, 0.8798642956905814, 0.03825496937785137, 0.04080304150234625, 0.04080304150234625, 0.04080304150234625, 0.8568638715492713, 0.04080304150234625, 0.8917558034531012, 0.06859660026562317, 0.08069058917918066, 0.34998924263607806, 0.1782123441994174, 0.2292008760120285, 0.16138117835836133, 0.05336624831010489, 0.8538599729616783, 0.05336624831010489, 0.9001415524406416, 0.6419070923713124, 0.056088969236328265, 0.08101740000802972, 0.08724950770095508, 0.1308742615514326, 0.6711330544321537, 0.04142796632297245, 0.06628474611675592, 0.06628474611675592, 0.14085508549810632, 0.38718372981316435, 0.15908455363924578, 0.14036872379933452, 0.15171519563978073, 0.16177495417873303, 0.08830584600244028, 0.05434205907842478, 0.050945680386023234, 0.06792757384803098, 0.7404105549435377, 0.6752669077096314, 0.2543213029036274, 0.02630910030037525, 0.043848500500625415, 0.8249574565232497, 0.709666573461968, 0.12064331748853457, 0.049676660142337764, 0.056773325876957444, 0.07096665734619681, 0.9247644000722247, 0.06165096000481498, 0.14312437918217488, 0.2336295013120796, 0.47988762431670406, 0.039990635359725336, 0.10102897354035875, 0.09415814208016088, 0.4465378556225811, 0.20543594635671464, 0.08060507617468317, 0.17333657973847796, 0.8942033756609673, 0.9263886765426735, 0.9267471498415606, 0.9297240176084359, 0.926877648787996, 0.7020343357158119, 0.03510171678579059, 0.04914240350010683, 0.0772237769287393, 0.14040686714316236, 0.29314132704015045, 0.19481299931179807, 0.18682382268386946, 0.15271618400309725, 0.1720745735246166, 0.9290037810519153, 0.9416834851083336, 0.9218652114166623, 0.02484344789796936, 0.04968689579593872, 0.04968689579593872, 0.02484344789796936, 0.8446772285309583, 0.6015760130715542, 0.07858425395979762, 0.11923128187003776, 0.11923128187003776, 0.07858425395979762, 0.8690595414463211, 0.8952492556052783, 0.16487949072333596, 0.16128538738331774, 0.2834849009439373, 0.18105295575341798, 0.20935651955606147, 0.8773033439906004, 0.08773033439906004, 0.051053063566568434, 0.9189551441982318, 0.20921108545364298, 0.38465187758602865, 0.18367744904000938, 0.16967513229704903, 0.05189093851802956, 0.11007335946365394, 0.11424280489788327, 0.2268178316220748, 0.10840558128996222, 0.4411273269414617, 0.062065589835839756, 0.038790993647399845, 0.1758525045348793, 0.07758198729479969, 0.6465165607899974, 0.23669659922743372, 0.2186228500940614, 0.287094553541645, 0.11052792739254615, 0.14702299775800948, 0.8893133698691198, 0.06313091437732223, 0.03156545718866111, 0.03156545718866111, 0.8838328012825113, 0.03992294490620929, 0.03992294490620929, 0.03992294490620929, 0.8783047879366044, 0.10392653539914631, 0.8314122831931705, 0.06578837069010414, 0.921037189661458, 0.10085592880503559, 0.1837018703234577, 0.5925285817295841, 0.08284594151842209, 0.0396219720305497, 0.02696760218505691, 0.176787614324262, 0.7341180594821048, 0.02397120194227281, 0.03595680291340922, 0.8710977989663832, 0.8919967938599829, 0.048216042911350426, 0.024108021455675213, 0.024108021455675213, 0.048216042911350426, 0.9265459334341769, 0.07721216111951475, 0.013552485703354369, 0.6324493328232038, 0.29363719023934465, 0.049692447578966015, 0.009034990468902913, 0.8824267271194451, 0.0735355605932871, 0.3010040447635641, 0.11562172534909437, 0.16987996517771967, 0.2926069362186578, 0.1207891767613444, 0.2952010674365757, 0.26581453583655457, 0.0975098548546155, 0.14426115512737636, 0.19680071162438378, 0.9262172349800839, 0.5255743884084725, 0.15275314736995013, 0.07767109188302548, 0.14757507457774843, 0.09838338305183228, 0.726041013923243, 0.18151025348081076, 0.05445307604424323, 0.03630205069616215, 0.8863369391235396, 0.09848188212483774, 0.8826883840259399, 0.06789910646353384, 0.06789910646353384, 0.9319717092269969, 0.9139856568620823, 0.09029286709063755, 0.05267083913620524, 0.7223429367251004, 0.07524405590886463, 0.0601952447270917, 0.05013706865167898, 0.11907553804773759, 0.13160980521065732, 0.07520560297751848, 0.6267133581459873, 0.900675437212528, 0.2274994407369246, 0.17306705921091195, 0.20842484550131332, 0.16143620845749046, 0.22889514282733517, 0.925540374779412, 0.7626726663865611, 0.1224042550990777, 0.065909983514888, 0.03766284772279314, 0.01883142386139657, 0.8853704479246729, 0.09837449421385254, 0.07312961756559871, 0.8775554107871846, 0.29009772406741696, 0.23761984344740666, 0.2317423208179655, 0.16666974884915273, 0.0738888559129745, 0.13156626520908263, 0.19388712767654284, 0.16849714667128127, 0.4385542173636088, 0.06809131269592873, 0.08828022198620436, 0.06621016648965328, 0.08828022198620436, 0.7503818868827371, 0.04414011099310218, 0.1138013724464892, 0.057237376674269716, 0.10235389711163526, 0.08821289816858038, 0.6383650951436199, 0.0998911896756422, 0.060218093066876505, 0.10485032675173792, 0.07651240060261956, 0.6588567829670018, 0.17367745407455698, 0.11971941009022859, 0.6171451280707558, 0.040468532988246285, 0.05058566623530786, 0.05866117588599782, 0.9092482262329662, 0.02933058794299891, 0.16835318794962956, 0.06864514952843664, 0.1169651989171686, 0.2665272565489579, 0.37965753091146526, 0.057299553021175266, 0.010743666191470363, 0.025068554446764178, 0.01790611031911727, 0.89172429389204, 0.16125453887763666, 0.1542434719699133, 0.3846070989379657, 0.17727983466671857, 0.12219288039174951, 0.0926027185710577, 0.8334244671395193, 0.2361127866396214, 0.19868856973708776, 0.14289246453694668, 0.2493813726323379, 0.1728318380589736, 0.9270771659318332, 0.890956234377489, 0.3080916293737521, 0.20277607712323442, 0.1838658260285282, 0.14546346995927864, 0.1600098169552065, 0.9278438324993747, 0.23511719241749485, 0.1872093005455915, 0.17467954420986295, 0.35820362230376956, 0.04422266942021847, 0.18938355437242388, 0.15582191182541205, 0.17140410300795325, 0.13184931000611788, 0.35119861665265945, 0.9278689242689444, 0.9272262017061098, 0.9467162445313324, 0.14286390356878093, 0.3013807217894457, 0.29591462460942275, 0.12472639928961396, 0.13516167572420318, 0.9785140420125185, 0.0689656970352215, 0.8965540614578794, 0.0689656970352215, 0.9053936217806181, 0.8699473933006042, 0.8018143212229862, 0.025864978103967297, 0.025864978103967297, 0.10345991241586919, 0.051729956207934594, 0.9304892920048534, 0.028713123032770026, 0.9475330600814109, 0.44098965710593363, 0.20276816391612745, 0.1219096936428251, 0.1548750699850176, 0.07961449380755925, 0.11789195863182926, 0.8252437104228049, 0.11585614052717615, 0.11942094485108927, 0.058819271344566354, 0.509767018319575, 0.19784663997717775, 0.0905255534745778, 0.060350368983051864, 0.8147299812712002, 0.060350368983051864, 0.396191661958956, 0.15826977618725918, 0.09516875430867873, 0.13240870164685736, 0.21723302613937537, 0.20171475697453614, 0.25949901061507347, 0.2785837182394711, 0.13942439181157162, 0.12060474957084619, 0.8593152303351325, 0.09547947003723695, 0.8042374419143894, 0.09461616963698699, 0.023654042409246748, 0.047308084818493495, 0.047308084818493495, 0.12781955941377912, 0.0961149689586642, 0.2953532900292285, 0.12514969916492735, 0.3560926106906066, 0.09472010448265275, 0.007893342040221064, 0.031573368160884255, 0.047360052241326375, 0.8130142301427695, 0.8712367508049333, 0.9260106655982221, 0.13109028882726323, 0.3543759456209533, 0.06770597335034474, 0.36878147186570753, 0.07778984172167268, 0.8726976128933965, 0.9052513089391668, 0.02240522300101057, 0.8738036970394122, 0.04481044600202114, 0.02240522300101057, 0.04481044600202114, 0.11130416490673567, 0.09739114429339371, 0.11826067521340665, 0.013913020613341959, 0.660868479133743, 0.024478757948096362, 0.024478757948096362, 0.8812352861314691, 0.024478757948096362, 0.0734362738442891, 0.9103265661784646, 0.17526648186074711, 0.1200100540819894, 0.3937020479236487, 0.18821720712139345, 0.12260019913411867, 0.47315837758554113, 0.1832329011238125, 0.14728214204255816, 0.08581794103267168, 0.1113313829613038, 0.7587373481621975, 0.1280985133260853, 0.059122390765885525, 0.03941492717725702, 0.01970746358862851, 0.9518438692943676, 0.14243697329357935, 0.18574551247068116, 0.21870812284436422, 0.3520021823116665, 0.10105325807990427, 0.18238423895287828, 0.09353037895019399, 0.15432512526782008, 0.5424761979111251, 0.028059113685058198, 0.040998371602385175, 0.1844926722107333, 0.24940676058117647, 0.47831433536116036, 0.044414902569250604, 0.07209687965010819, 0.08318870728858636, 0.21629063895032455, 0.5351806835565723, 0.09428053492706455, 0.10773861874095325, 0.26181042585236824, 0.16579466200032703, 0.3332640175562129, 0.13174255970396356, 0.47866557245685254, 0.1393343349527868, 0.14407359804641898, 0.10521164067863492, 0.1326993666217017, 0.8686222401151585, 0.4041177697196133, 0.16017184093189366, 0.18862341793953266, 0.13224714497995166, 0.11433318908625303, 0.34158123366983106, 0.12467912932328713, 0.07005779647689467, 0.3645380257357062, 0.09974330345862971, 0.09556061373362704, 0.8600455236026434, 0.42042808597759246, 0.18759258429446382, 0.18428212692456153, 0.1412461811158316, 0.06620914739804605, 0.8793421516464015, 0.880300308078107, 0.21002291201431222, 0.23740089875903508, 0.18827053898425847, 0.2118981165858686, 0.1518915702960651, 0.052468273916231004, 0.891960656575927, 0.018168061246486216, 0.8902350010778246, 0.018168061246486216, 0.018168061246486216, 0.054504183739458645, 0.03247125114233596, 0.9416662831277428, 0.926170369876735, 0.9265043471208623, 0.8905642125616214, 0.027119781588587463, 0.9491923556005613, 0.9026082338773277, 0.05309460199278398], \"Term\": [\"#articlesofimpeachment_#impeachmenttrial\", \"#confirmacb\", \"#confirmacb\", \"#confirmacb\", \"#confirmacb\", \"#confirmacb_#filltheseat\", \"#confirmacb_#filltheseat\", \"#confirmacb_#filltheseat\", \"#filltheseat\", \"#filltheseat\", \"#filltheseat\", \"#georgefloyd\", \"#georgefloyd\", \"#georgefloyd\", \"#georgefloyd\", \"#georgefloyd\", \"#gopcoverup\", \"#gopcoverup_pass\", \"#greennewdeal_polit\", \"#heroesact\", \"#heroesact\", \"#heroesact\", \"#heroesact\", \"#heroesact\", \"#impeachmenttrial_#senate\", \"#ppp_updat\", \"#ppp_updat\", \"#ppp_updat\", \"#ppp_updat\", \"#ppp_updat\", \"#protectourcare\", \"#protectourcare\", \"#protectourcare\", \"#protectourcare\", \"#protectourcare\", \"#protectourcare_\", \"#protectourcare_\", \"#protectourcare_\", \"#protectourcare_\", \"#protectourcare_\", \"#russia\", \"#russia\", \"#russia\", \"#russia\", \"#russia\", \"#savetheaca\", \"#savetheaca\", \"#savetheaca\", \"#scotus\", \"#scotus\", \"#scotus\", \"#scotus\", \"#scotus\", \"#senate_#senateimpeachmenttrial\", \"#sunrisebernie_\", \"#trumpbudget_propos\", \"#trumpbudget_propos\", \"#venezuela\", \"#venezuela\", \"#venezuela\", \"#venezuela\", \"#venezuela\", \"#venezuela_amp\", \"#venezuela_amp\", \"#venezuela_amp\", \"#venezuela_amp\", \"_\", \"_\", \"_\", \"_\", \"_\", \"_#ppploans\", \"_#ppploans\", \"_#ppploans\", \"_#ppploans\", \"_#ppploans\", \"_awesom\", \"_awesom\", \"_awesom\", \"_awesom\", \"_billion\", \"_billion\", \"_billion\", \"_billion\", \"_billion\", \"_huge\", \"_huge\", \"_huge\", \"_huge\", \"_huge\", \"_loan\", \"_loan\", \"_loan\", \"_loan\", \"_million\", \"_million\", \"_million\", \"_million\", \"_million\", \"_mobil\", \"_mobil\", \"_project\", \"_project\", \"_project\", \"_rock\", \"_rock\", \"_rock\", \"_sen\", \"_sen\", \"_sen\", \"_sen\", \"_sen\", \"_ted\", \"_ted\", \"_ted\", \"_ted\", \"_ted\", \"_thank\", \"_thank\", \"_thank\", \"_thank\", \"_thank\", \"_vial\", \"_vial\", \"_year\", \"_year\", \"_year\", \"_year\", \"_year\", \"abolish_death\", \"abolish_death\", \"aca\", \"aca\", \"aca\", \"aca\", \"aca\", \"act\", \"act\", \"act\", \"act\", \"act\", \"afford\", \"afford\", \"afford\", \"afford\", \"afford\", \"afford_care\", \"afford_care\", \"afford_care\", \"afford_care\", \"afford_care\", \"ago_touch\", \"aliv_abort\", \"aliv_abort\", \"aliv_abort\", \"alter_email\", \"alter_email\", \"america\", \"america\", \"america\", \"america\", \"america\", \"american\", \"american\", \"american\", \"american\", \"american\", \"american_peopl\", \"american_peopl\", \"american_peopl\", \"american_peopl\", \"american_peopl\", \"americans\\u2019_health\", \"americans\\u2019_health\", \"americans\\u2019_health\", \"americans\\u2019_health\", \"americans\\u2019_health\", \"ami\", \"ami\", \"ami\", \"ami\", \"ami\", \"ami_coney\", \"ami_coney\", \"ami_coney\", \"ami_coney\", \"ami_coney\", \"amp\", \"amp\", \"amp\", \"amp\", \"amp\", \"amp_#russia\", \"announc_movement\", \"asset_held\", \"asset_held\", \"auster\", \"auster\", \"auster\", \"auster\", \"away_health\", \"away_health\", \"away_health\", \"away_singl\", \"awesom_\", \"awesom_\", \"awesom_\", \"bader_ginsburg\", \"bader_ginsburg\", \"bader_ginsburg\", \"bang\", \"bang\", \"bang\", \"bank_lender\", \"bank_lender\", \"barrett\", \"barrett\", \"barrett\", \"barrett\", \"barrett\", \"barrett_\", \"barrett\\u2019\", \"barrett\\u2019\", \"barrett\\u2019\", \"barrett\\u2019\", \"barrett\\u2019\", \"biden_plan\", \"billion\", \"billion\", \"billion\", \"billion\", \"billion\", \"billion_cut\", \"billion_profit\", \"billion_profit\", \"billion_profit\", \"billion_profit\", \"billion_profit\", \"billionair\", \"billionair\", \"billionair\", \"billionair\", \"billionair\", \"billionair_class\", \"billionair_class\", \"billionair_class\", \"billionair_class\", \"billionair_class\", \"blasio\", \"blasio\", \"blasio\", \"born_aliv\", \"born_aliv\", \"born_aliv\", \"break_latest\", \"bride\", \"bride\", \"bride\", \"bride\", \"bride\", \"budget_\", \"budget_\", \"budget_\", \"build_nation\", \"build_nation\", \"build_nation\", \"build_nation\", \"build_nation\", \"build_nuclear\", \"build_nuclear\", \"build_nuclear\", \"build_nuclear\", \"busi\", \"busi\", \"busi\", \"busi\", \"busi\", \"call\", \"call\", \"call\", \"call\", \"call\", \"care\", \"care\", \"care\", \"care\", \"care\", \"care_act\", \"care_act\", \"care_act\", \"care_act\", \"care_act\", \"care_plan\", \"care_plan\", \"care_plan\", \"care_plan\", \"care_plan\", \"carlson\", \"carlson\", \"carlson\", \"carlson\", \"ceo_jack\", \"chang\", \"chang\", \"chang\", \"chang\", \"chang\", \"chang_corrupt\", \"chang_histori\", \"chang_histori\", \"children_expos\", \"children_expos\", \"china\", \"china\", \"china\", \"china\", \"china\", \"class\", \"class\", \"class\", \"class\", \"class\", \"climat\", \"climat\", \"climat\", \"climat\", \"climat\", \"climat_chang\", \"climat_chang\", \"climat_chang\", \"climat_chang\", \"climat_chang\", \"clip_\", \"close_vote\", \"collar_economi\", \"come\", \"come\", \"come\", \"come\", \"come\", \"commemor_\", \"commun\", \"commun\", \"commun\", \"commun\", \"commun\", \"coney\", \"coney\", \"coney\", \"coney\", \"coney\", \"coney_barrett\", \"coney_barrett\", \"coney_barrett\", \"coney_barrett\", \"coney_barrett\", \"coney_barrett\\u2019\", \"confirm\", \"confirm\", \"confirm\", \"confirm\", \"confirm\", \"confirm_hear\", \"confirm_hear\", \"confirm_hear\", \"confirm_hear\", \"congratul\", \"congratul\", \"congratul\", \"congratul\", \"congratul\", \"congratul_great\", \"congratul_win\", \"congratul_win\", \"congratul_win\", \"congratul_win\", \"congress\", \"congress\", \"congress\", \"congress\", \"congress\", \"constitutionalist\", \"constitutionalist\", \"constitutionalist\", \"constitutionalist\", \"continu\", \"continu\", \"continu\", \"continu\", \"continu\", \"corpor\", \"corpor\", \"corpor\", \"corpor\", \"corpor\", \"corrupt_system\", \"countri\", \"countri\", \"countri\", \"countri\", \"countri\", \"court_chang\", \"cover_truth\", \"creat_govern\", \"creat_govern\", \"creat_govern\", \"creat_govern\", \"creat_govern\", \"cruz\", \"cruz\", \"cruz\", \"cruz\", \"cruz\", \"cruz_hold\", \"cut_social\", \"cut_social\", \"cut_social\", \"cut_social\", \"day\", \"day\", \"day\", \"day\", \"day\", \"de\", \"de\", \"de\", \"de\", \"de\", \"de_blasio\", \"de_blasio\", \"de_blasio\", \"deal\", \"deal\", \"deal\", \"deal\", \"deal\", \"debt\", \"debt\", \"debt\", \"debt\", \"debt\", \"del\", \"del\", \"del\", \"del\", \"del\", \"democraci_pandem\", \"democrat\", \"democrat\", \"democrat\", \"democrat\", \"democrat\", \"destroy_citi\", \"digniti\", \"digniti\", \"digniti\", \"digniti\", \"digniti\", \"digniti_\", \"digniti_\", \"digniti_\", \"digniti_\", \"digniti_\", \"done\", \"done\", \"done\", \"done\", \"done\", \"economi_back\", \"economi_back\", \"educ\", \"educ\", \"educ\", \"educ\", \"educ\", \"educ_freedom\", \"educ_freedom\", \"educ_freedom\", \"educ_freedom\", \"el\", \"el\", \"el\", \"el\", \"el\", \"elect\", \"elect\", \"elect\", \"elect\", \"elect\", \"elect_day\", \"elect_day\", \"elect_day\", \"elect_day\", \"elect_day\", \"employe_benefit\", \"en\", \"en\", \"en\", \"en\", \"en\", \"end\", \"end\", \"end\", \"end\", \"end\", \"es\", \"es\", \"es\", \"es\", \"es\", \"espi\", \"espi\", \"espi\", \"espi_win\", \"everi\", \"everi\", \"everi\", \"everi\", \"everi\", \"exclus_video\", \"exist_condit\", \"exist_condit\", \"exist_condit\", \"exist_condit\", \"exist_condit\", \"expos_mold\", \"expos_mold\", \"famili\", \"famili\", \"famili\", \"famili\", \"famili\", \"feder_incom\", \"feder_incom\", \"feder_incom\", \"feder_incom\", \"feder_incom\", \"fight\", \"fight\", \"fight\", \"fight\", \"fight\", \"follow_iranian\", \"follow_iranian\", \"found_ideal\", \"fraudul_evid\", \"fraudul_evid\", \"freedom_scholarship\", \"freedom_scholarship\", \"freedom_scholarship\", \"froze\", \"full\", \"full\", \"full\", \"full\", \"full\", \"full_statement\", \"full_statement\", \"full_statement\", \"full_statement\", \"gain_republican\", \"generos_\", \"get\", \"get\", \"get\", \"get\", \"get\", \"get_radio\", \"go\", \"go\", \"go\", \"go\", \"go\", \"got\", \"got\", \"got\", \"got\", \"got\", \"govern_work\", \"govern_work\", \"govern_work\", \"govern_work\", \"govern_work\", \"goya\", \"hawk\\u2019\", \"hawk\\u2019_foreign\", \"health\", \"health\", \"health\", \"health\", \"health\", \"health_care\", \"health_care\", \"health_care\", \"health_care\", \"health_care\", \"health_insur\", \"health_insur\", \"health_insur\", \"health_insur\", \"health_insur\", \"health_profession\", \"hear\", \"hear\", \"hear\", \"hear\", \"hear\", \"hell_elect\", \"hell_elect\", \"help\", \"help\", \"help\", \"help\", \"help\", \"horrif_pandem\", \"hotlin_\", \"hous\", \"hous\", \"hous\", \"hous\", \"hous\", \"huge_thank\", \"humanitarian\", \"humanitarian\", \"humanitarian\", \"humanitarian\", \"humanitarian\", \"incom_tax\", \"incom_tax\", \"incom_tax\", \"incom_tax\", \"incom_tax\", \"insur\", \"insur\", \"insur\", \"insur\", \"insur\", \"interventionist_hawk\\u2019\", \"inventor\", \"inventor\", \"inventor\", \"investig_#burismabiden\", \"iran\", \"iran\", \"iran\", \"iran\", \"iran\", \"it\\u2019\", \"it\\u2019\", \"it\\u2019\", \"it\\u2019\", \"it\\u2019\", \"jess\", \"jess\", \"jess\", \"job\", \"job\", \"job\", \"job\", \"job\", \"job_loss\", \"join\", \"join\", \"join\", \"join\", \"join\", \"judg\", \"judg\", \"judg\", \"judg\", \"judg\", \"judg_ami\", \"judg_ami\", \"judg_ami\", \"judg_ami\", \"judg_ami\", \"judg_barrett\", \"judg_barrett\", \"judg_barrett\", \"judg_barrett\", \"judg_barrett\", \"judg_barrett\\u2019\", \"judg_barrett\\u2019\", \"justic\", \"justic\", \"justic\", \"justic\", \"justic\", \"kenni\", \"kenni\", \"kenni_roger\", \"kid_back\", \"kid_back\", \"king_jr\", \"king_jr\", \"king_jr\", \"king_jr\", \"la\", \"la\", \"la\", \"la\", \"la\", \"last\", \"last\", \"last\", \"last\", \"last\", \"last_year\", \"last_year\", \"last_year\", \"last_year\", \"last_year\", \"latest_#impeachmenttrial\", \"latest_#impeachmenttrial\", \"law\", \"law\", \"law\", \"law\", \"law\", \"lawsuit\", \"lawsuit\", \"lawsuit\", \"lawsuit\", \"lawsuit\", \"left_poll\", \"legal_vote\", \"legisl\", \"legisl\", \"legisl\", \"legisl\", \"legisl\", \"like\", \"like\", \"like\", \"like\", \"like\", \"live\", \"live\", \"live\", \"live\", \"live\", \"live_matter\", \"live_matter\", \"live_matter\", \"live_matter\", \"lo\", \"lo\", \"lo\", \"lo\", \"lo\", \"lose_health\", \"lose_health\", \"lose_health\", \"lose_health\", \"luther\", \"luther\", \"luther\", \"luther\", \"luther_king\", \"luther_king\", \"luther_king\", \"luther_king\", \"made_nomin\", \"made_nomin\", \"maduro\", \"maduro\", \"maduro\", \"maduro\", \"maduro\", \"mailbag\", \"make\", \"make\", \"make\", \"make\", \"make\", \"mani\", \"mani\", \"mani\", \"mani\", \"mani\", \"martin_luther\", \"martin_luther\", \"martin_luther\", \"martin_luther\", \"matthew_\", \"matthew_\", \"matthew_\", \"matthew_\", \"medic_profession\", \"medic_profession\", \"medic_profession\", \"medic_profession\", \"medicaid\", \"medicaid\", \"medicaid\", \"medicaid\", \"medicaid\", \"medicaid_pass\", \"medicar_fiscal\", \"medicar_save\", \"medicar_save\", \"mental_health\", \"mental_health\", \"mental_health\", \"mental_health\", \"mental_health\", \"mike\", \"mike\", \"mike\", \"mike\", \"mike\", \"mike_espi\", \"mike_espi\", \"mike_espi\", \"mike_lee\", \"militari\", \"militari\", \"militari\", \"militari\", \"militari\", \"million\", \"million\", \"million\", \"million\", \"million\", \"million_american\", \"million_american\", \"million_american\", \"million_american\", \"million_american\", \"mold_still\", \"mold_still\", \"moment_nation\", \"money_pocket\", \"money_pocket\", \"mortgag\", \"mortgag\", \"mortgag\", \"mortgag\", \"mortgag\", \"movement_vote\", \"must\", \"must\", \"must\", \"must\", \"must\", \"nation\", \"nation\", \"nation\", \"nation\", \"nation\", \"nation_base\", \"nation_base\", \"nation_base\", \"nation_base\", \"nation_base\", \"nation_debt\", \"nation_region\", \"need\", \"need\", \"need\", \"need\", \"need\", \"new\", \"new\", \"new\", \"new\", \"new\", \"newborn\", \"newborn\", \"newborn\", \"newborn\", \"nomin_judg\", \"non_bank\", \"nov_\", \"nov_\", \"nov_\", \"nov_\", \"one\", \"one\", \"one\", \"one\", \"one\", \"one_vote\", \"one_vote\", \"one_vote\", \"one_vote\", \"one_vote\", \"opportun_act\", \"opportun_act\", \"opportun_act\", \"pamela\", \"pamela\", \"pamela\", \"pamela\", \"pamela\", \"pamela_rush\", \"pamela_rush\", \"pamela_rush\", \"pandem\", \"pandem\", \"pandem\", \"pandem\", \"pandem\", \"para\", \"para\", \"para\", \"para\", \"para\", \"pass\", \"pass\", \"pass\", \"pass\", \"pass\", \"pass_#heroesact\", \"pass_#heroesact\", \"pass_#heroesact\", \"pass_#heroesact\", \"pass_#heroesact\", \"pay\", \"pay\", \"pay\", \"pay\", \"pay\", \"pay_fair\", \"pay_fair\", \"pay_fair\", \"pay_fair\", \"pay_fair\", \"payment\", \"payment\", \"payment\", \"payment\", \"payment\", \"pay\\u00e1\", \"peopl\", \"peopl\", \"peopl\", \"peopl\", \"peopl\", \"place_#voteforbernie\", \"plan_pass\", \"plan_pass\", \"podcast_america\", \"polic\", \"polic\", \"polic\", \"polic\", \"polic\", \"polici\", \"polici\", \"polici\", \"polici\", \"polici\", \"polici_exactli\", \"polit\", \"polit\", \"polit\", \"polit\", \"polit\", \"por\", \"por\", \"por\", \"por\", \"por\", \"pose_singl\", \"postal\", \"postal\", \"postal\", \"postal\", \"postal\", \"prayer_famili\", \"prayer_famili\", \"prayer_famili\", \"prayer_famili\", \"prayer_famili\", \"pre\", \"pre\", \"pre\", \"pre\", \"pre\", \"pre_exist\", \"pre_exist\", \"pre_exist\", \"pre_exist\", \"pre_exist\", \"presid\", \"presid\", \"presid\", \"presid\", \"presid\", \"princess\", \"princess\", \"princess\", \"princess_bride\", \"princess_bride\", \"principl_constitutionalist\", \"principl_constitutionalist\", \"principl_constitutionalist\", \"profit_last\", \"profit_last\", \"profit_last\", \"profit_last\", \"profit_last\", \"progress_caucu\", \"progress_caucu\", \"protect\", \"protect\", \"protect\", \"protect\", \"protect\", \"protect_act\", \"protect_act\", \"protect_act\", \"protest_portland\", \"puerto\", \"puerto\", \"puerto\", \"puerto\", \"puerto\", \"puerto_rico\", \"puerto_rico\", \"puerto_rico\", \"puerto_rico\", \"puerto_rico\", \"qt\", \"qt\", \"qt\", \"qt\", \"qt\", \"que\", \"que\", \"que\", \"que\", \"que\", \"read_full\", \"read_full\", \"read_full\", \"read_full\", \"recoup_valu\", \"region\", \"region\", \"region\", \"region\", \"region\", \"region_\", \"region_\", \"relief\", \"relief\", \"relief\", \"relief\", \"relief\", \"republican\", \"republican\", \"republican\", \"republican\", \"republican\", \"request_democrat\", \"resoundingli_endors\", \"respons_packag\", \"restor_fundament\", \"revolut_#sunrisebernie\", \"rico\", \"rico\", \"rico\", \"rico\", \"rico\", \"right\", \"right\", \"right\", \"right\", \"right\", \"right_unborn\", \"rock_\", \"rock_thank\", \"san_antonio\", \"san_antonio\", \"san_antonio\", \"san_antonio\", \"san_antonio\", \"sanction\", \"sanction\", \"sanction\", \"sanction\", \"sanction\", \"save_postal\", \"save_ten\", \"say\", \"say\", \"say\", \"say\", \"say\", \"scholarship_amp\", \"scholarship_amp\", \"seat_chang\", \"seat_chang\", \"secur\", \"secur\", \"secur\", \"secur\", \"secur\", \"sen\", \"sen\", \"sen\", \"sen\", \"sen\", \"sen_ted\", \"sen_ted\", \"sen_ted\", \"sen_ted\", \"sen_ted\", \"senat\", \"senat\", \"senat\", \"senat\", \"senat\", \"senat_view\", \"shelley\", \"shelley\", \"shelley\", \"shelley\", \"shelley_luther\", \"shelley_luther\", \"shelley_luther\", \"shelley_luther\", \"shot_iran\", \"shot_iran\", \"singl_suprem\", \"singl_suprem\", \"small\", \"small\", \"small\", \"small\", \"small\", \"small_busi\", \"small_busi\", \"small_busi\", \"small_busi\", \"small_busi\", \"smooth\", \"snapback\", \"snapback\", \"snapback\", \"snapback\", \"snapback\", \"snapback_mechan\", \"snapback_mechan\", \"social_secur\", \"social_secur\", \"social_secur\", \"social_secur\", \"social_secur\", \"speak_member\", \"speak_member\", \"stand\", \"stand\", \"stand\", \"stand\", \"stand\", \"state\", \"state\", \"state\", \"state\", \"state\", \"state_\\ud83d\\udce2join\", \"statement\", \"statement\", \"statement\", \"statement\", \"statement\", \"statement_\", \"statement_\", \"statement_\", \"statement_\", \"statement_court\", \"statement_court\", \"still_owe\", \"still_owe\", \"still_owe\", \"stori_alleg\", \"strateg_plan\", \"student_debt\", \"student_debt\", \"student_debt\", \"student_debt\", \"student_debt\", \"su\", \"su\", \"su\", \"su\", \"su\", \"subscrib_#verdict\", \"support\", \"support\", \"support\", \"support\", \"support\", \"support_frontlin\", \"supremacist\", \"supremacist\", \"supremacist\", \"supremacist\", \"supremacist\", \"sworn_statement\", \"sworn_statement\", \"system_take\", \"system_take\", \"take\", \"take\", \"take\", \"take\", \"take\", \"tax\", \"tax\", \"tax\", \"tax\", \"tax\", \"tax_\", \"tax_\", \"tax_\", \"tax_\", \"tax_\", \"ted\", \"ted\", \"ted\", \"ted\", \"ted\", \"ted_cruz\", \"ted_cruz\", \"ted_cruz\", \"ted_cruz\", \"ted_cruz\", \"test\", \"test\", \"test\", \"test\", \"test\", \"test_test\", \"test_test\", \"test_test\", \"thank\", \"thank\", \"thank\", \"thank\", \"thank\", \"thank_\", \"thank_\", \"thank_\", \"thank_\", \"thank_\", \"think\", \"think\", \"think\", \"think\", \"think\", \"tice\", \"tice\", \"time\", \"time\", \"time\", \"time\", \"time\", \"time_vacanc\", \"tkt\", \"today\", \"today\", \"today\", \"today\", \"today\", \"today_#trumpbudget\", \"togeth\", \"togeth\", \"togeth\", \"togeth\", \"togeth\", \"tonight\", \"tonight\", \"tonight\", \"tonight\", \"tonight\", \"touch_social\", \"transcript_clip\", \"trial_#impeachment\", \"trump\", \"trump\", \"trump\", \"trump\", \"trump\", \"trump_health\", \"trump_washington\", \"trump_washington\", \"trump_washington\", \"truth_#gopcoverup\", \"truth_women\\u2019\", \"tucker\", \"tucker\", \"tucker\", \"tucker\", \"tucker\", \"tuesday_june\", \"twitter_ceo\", \"twitter_ceo\", \"u\", \"u\", \"u\", \"u\", \"u\", \"u_froze\", \"u_froze\", \"union\", \"union\", \"union\", \"union\", \"union\", \"union_movement\", \"union_movement\", \"union_movement\", \"union_movement\", \"unit\", \"unit\", \"unit\", \"unit\", \"unit\", \"us\", \"us\", \"us\", \"us\", \"us\", \"use_basi\", \"use_basi\", \"visa\", \"visa\", \"visa\", \"visa\", \"visa\", \"vote\", \"vote\", \"vote\", \"vote\", \"vote\", \"vote_away\", \"vote_away\", \"vote_away\", \"vote_away\", \"vote_away\", \"vote_project\", \"vote_resoundingli\", \"wage\", \"wage\", \"wage\", \"wage\", \"wage\", \"waiver_allow\", \"washington_cover\", \"washington_republican\", \"washington_republican\", \"washington_republican\", \"washington_republican\", \"washington_republican\", \"watch_live\", \"watch_live\", \"watch_live\", \"watch_live\", \"watch_live\", \"watch_\\ud83d\\udcfa\", \"watch_\\ud83d\\udcfa\", \"watch_\\ud83d\\udcfa\", \"watch_\\ud83d\\udcfa\", \"watch_\\ud83d\\udcfa\", \"weapon_fbi\", \"week\", \"week\", \"week\", \"week\", \"week\", \"white\", \"white\", \"white\", \"white\", \"white\", \"white_supremacist\", \"white_supremacist\", \"white_supremacist\", \"white_supremacist\", \"white_supremacist\", \"wonder_american\", \"work\", \"work\", \"work\", \"work\", \"work\", \"work_class\", \"work_class\", \"work_class\", \"work_class\", \"work_class\", \"work_famili\", \"work_famili\", \"work_famili\", \"work_famili\", \"work_famili\", \"work_peopl\", \"work_peopl\", \"work_peopl\", \"work_peopl\", \"work_peopl\", \"worker\", \"worker\", \"worker\", \"worker\", \"worker\", \"world\", \"world\", \"world\", \"world\", \"world\", \"world_world\", \"would\", \"would\", \"would\", \"would\", \"would\", \"year\", \"year\", \"year\", \"year\", \"year\", \"year_paid\", \"year_paid\", \"\\u2013\", \"\\u2013\", \"\\u2013\", \"\\u2013\", \"\\u2013\", \"\\u2018non\", \"\\u2018non_interventionist\", \"\\u201d\", \"\\u201d\", \"\\u201d\", \"\\u201d\", \"\\u201d\", \"\\u2705_\\u2705\", \"\\u2705_\\u2705\", \"\\u2714\\ufe0f\", \"\\u2714\\ufe0f\", \"\\u2714\\ufe0f\", \"\\u2714\\ufe0f\", \"\\u2714\\ufe0f\", \"\\ufe0f\\u20e3\", \"\\ufe0f\\u20e3\", \"\\ud83d\\udce2join\", \"\\ud83d\\udce2join_#greennewdeal\", \"\\ud83d\\udd25_\\ud83d\\udd25\", \"\\ud83d\\uddf3\\ufe0f\", \"\\ud83d\\uddf3\\ufe0f\", \"\\ud83d\\udeab\", \"\\ud83d\\udeab\"]}, \"R\": 30, \"lambda.step\": 0.01, \"plot.opts\": {\"xlab\": \"PC1\", \"ylab\": \"PC2\"}, \"topic.order\": [4, 1, 2, 5, 3]};\n",
       "\n",
       "function LDAvis_load_lib(url, callback){\n",
       "  var s = document.createElement('script');\n",
       "  s.src = url;\n",
       "  s.async = true;\n",
       "  s.onreadystatechange = s.onload = callback;\n",
       "  s.onerror = function(){console.warn(\"failed to load library \" + url);};\n",
       "  document.getElementsByTagName(\"head\")[0].appendChild(s);\n",
       "}\n",
       "\n",
       "if(typeof(LDAvis) !== \"undefined\"){\n",
       "   // already loaded: just create the visualization\n",
       "   !function(LDAvis){\n",
       "       new LDAvis(\"#\" + \"ldavis_el6291959431418407476995508\", ldavis_el6291959431418407476995508_data);\n",
       "   }(LDAvis);\n",
       "}else if(typeof define === \"function\" && define.amd){\n",
       "   // require.js is available: use it to load d3/LDAvis\n",
       "   require.config({paths: {d3: \"https://cdnjs.cloudflare.com/ajax/libs/d3/3.5.5/d3.min\"}});\n",
       "   require([\"d3\"], function(d3){\n",
       "      window.d3 = d3;\n",
       "      LDAvis_load_lib(\"https://cdn.rawgit.com/bmabey/pyLDAvis/files/ldavis.v1.0.0.js\", function(){\n",
       "        new LDAvis(\"#\" + \"ldavis_el6291959431418407476995508\", ldavis_el6291959431418407476995508_data);\n",
       "      });\n",
       "    });\n",
       "}else{\n",
       "    // require.js not available: dynamically load d3 & LDAvis\n",
       "    LDAvis_load_lib(\"https://cdnjs.cloudflare.com/ajax/libs/d3/3.5.5/d3.min.js\", function(){\n",
       "         LDAvis_load_lib(\"https://cdn.rawgit.com/bmabey/pyLDAvis/files/ldavis.v1.0.0.js\", function(){\n",
       "                 new LDAvis(\"#\" + \"ldavis_el6291959431418407476995508\", ldavis_el6291959431418407476995508_data);\n",
       "            })\n",
       "         });\n",
       "}\n",
       "</script>"
      ],
      "text/plain": [
       "PreparedData(topic_coordinates=              x         y  topics  cluster       Freq\n",
       "topic                                                \n",
       "3     -0.001454  0.008803       1        1  25.419075\n",
       "0      0.042192 -0.032533       2        1  20.484904\n",
       "1      0.033831 -0.041663       3        1  19.621823\n",
       "4      0.019507  0.078770       4        1  18.200882\n",
       "2     -0.094076 -0.013376       5        1  16.273317, topic_info=          Term         Freq        Total Category  logprob  loglift\n",
       "1055    health  2541.000000  2541.000000  Default  30.0000  30.0000\n",
       "1083      cruz  2144.000000  2144.000000  Default  29.0000  29.0000\n",
       "1098  ted_cruz  1411.000000  1411.000000  Default  28.0000  28.0000\n",
       "1097       ted  1485.000000  1485.000000  Default  27.0000  27.0000\n",
       "371      thank  2607.000000  2607.000000  Default  26.0000  26.0000\n",
       "...        ...          ...          ...      ...      ...      ...\n",
       "199       hous   444.332656  2603.251616   Topic5  -6.2190   0.0477\n",
       "281   democrat   434.468688  2380.331243   Topic5  -6.2415   0.1148\n",
       "190         us   455.405022  3772.654076   Topic5  -6.1944  -0.2987\n",
       "348      senat   423.451111  2877.100906   Topic5  -6.2672  -0.1005\n",
       "152       work   419.859846  4156.224232   Topic5  -6.2757  -0.4768\n",
       "\n",
       "[533 rows x 6 columns], token_table=       Topic      Freq                                      Term\n",
       "term                                                            \n",
       "99925      3  0.947839  #articlesofimpeachment_#impeachmenttrial\n",
       "90877      1  0.022085                               #confirmacb\n",
       "90877      2  0.022085                               #confirmacb\n",
       "90877      3  0.927578                               #confirmacb\n",
       "90877      5  0.022085                               #confirmacb\n",
       "...      ...       ...                                       ...\n",
       "87272      2  0.890564                                       🔥_🔥\n",
       "91396      1  0.027120                                        🗳️\n",
       "91396      2  0.949192                                        🗳️\n",
       "37771      2  0.902608                                         🚫\n",
       "37771      4  0.053095                                         🚫\n",
       "\n",
       "[1457 rows x 3 columns], R=30, lambda_step=0.01, plot_opts={'xlab': 'PC1', 'ylab': 'PC2'}, topic_order=[4, 1, 2, 5, 3])"
      ]
     },
     "execution_count": 204,
     "metadata": {},
     "output_type": "execute_result"
    }
   ],
   "source": [
    "#Creating Topic Distance Visualization \n",
    "pyLDAvis.enable_notebook()\n",
    "pyLDAvis.gensim.prepare(base_model, corpus, id2word)"
   ]
  },
  {
   "cell_type": "code",
   "execution_count": 205,
   "metadata": {},
   "outputs": [
    {
     "name": "stderr",
     "output_type": "stream",
     "text": [
      "/usr/local/lib/python3.7/site-packages/ipykernel/ipkernel.py:287: DeprecationWarning: `should_run_async` will not call `transform_cell` automatically in the future. Please pass the result to `transformed_cell` argument and any exception that happen during thetransform in `preprocessing_exc_tuple` in IPython 7.17 and above.\n",
      "  and should_run_async(code)\n"
     ]
    }
   ],
   "source": [
    "# The most important tuning parameter for LDA models is n_components (number of topics). In addition, we are going to search learning_decay\n",
    "# (which controls the learning rate) as well. Besides these, other possible search params could be\n",
    "# learning_offset (down weight early iterations. Should be > 1) and max_iter. These could be worth experimenting if you\n",
    "# have enough time and computing resources."
   ]
  },
  {
   "cell_type": "code",
   "execution_count": 206,
   "metadata": {},
   "outputs": [
    {
     "name": "stderr",
     "output_type": "stream",
     "text": [
      "/usr/local/lib/python3.7/site-packages/ipykernel/ipkernel.py:287: DeprecationWarning: `should_run_async` will not call `transform_cell` automatically in the future. Please pass the result to `transformed_cell` argument and any exception that happen during thetransform in `preprocessing_exc_tuple` in IPython 7.17 and above.\n",
      "  and should_run_async(code)\n"
     ]
    }
   ],
   "source": [
    "vectorizer = CountVectorizer()\n",
    "data_vectorized = vectorizer.fit_transform(df['clean_tweet'])"
   ]
  },
  {
   "cell_type": "code",
   "execution_count": 207,
   "metadata": {},
   "outputs": [
    {
     "name": "stderr",
     "output_type": "stream",
     "text": [
      "/usr/local/lib/python3.7/site-packages/ipykernel/ipkernel.py:287: DeprecationWarning: `should_run_async` will not call `transform_cell` automatically in the future. Please pass the result to `transformed_cell` argument and any exception that happen during thetransform in `preprocessing_exc_tuple` in IPython 7.17 and above.\n",
      "  and should_run_async(code)\n"
     ]
    },
    {
     "data": {
      "text/plain": [
       "GridSearchCV(error_score='raise',\n",
       "             estimator=LatentDirichletAllocation(learning_method=None,\n",
       "                                                 n_jobs=1),\n",
       "             iid=True, n_jobs=1,\n",
       "             param_grid={'learning_decay': [0.5, 0.7, 0.9],\n",
       "                         'n_topics': [10, 15, 20, 30]},\n",
       "             return_train_score='warn')"
      ]
     },
     "execution_count": 207,
     "metadata": {},
     "output_type": "execute_result"
    }
   ],
   "source": [
    "# Define Search Param\n",
    "search_params = {'n_components': [10, 15, 20, 25, 30], 'learning_decay': [.5, .7, .9]}\n",
    "\n",
    "# Init the Model\n",
    "lda = LatentDirichletAllocation()\n",
    "\n",
    "# Init Grid Search Class\n",
    "model = GridSearchCV(lda, param_grid=search_params)\n",
    "\n",
    "# Do the Grid Search\n",
    "model.fit(data_vectorized)\n",
    "GridSearchCV(cv=None, error_score='raise',\n",
    "             estimator=LatentDirichletAllocation(batch_size=128, \n",
    "                                                 doc_topic_prior=None,\n",
    "                                                 evaluate_every=-1, \n",
    "                                                 learning_decay=0.7, \n",
    "                                                 learning_method=None,\n",
    "                                                 learning_offset=10.0, \n",
    "                                                 max_doc_update_iter=100, \n",
    "                                                 max_iter=10,\n",
    "                                                 mean_change_tol=0.001, \n",
    "                                                 n_components=10, \n",
    "                                                 n_jobs=1,\n",
    "                                                 perp_tol=0.1, \n",
    "                                                 random_state=None,\n",
    "                                                 topic_word_prior=None, \n",
    "                                                 total_samples=1000000.0, \n",
    "                                                 verbose=0),\n",
    "             iid=True, n_jobs=1,\n",
    "             param_grid={'n_topics': [10, 15, 20, 30], \n",
    "                         'learning_decay': [0.5, 0.7, 0.9]},\n",
    "             pre_dispatch='2*n_jobs', refit=True, return_train_score='warn',\n",
    "             scoring=None, verbose=0)"
   ]
  },
  {
   "cell_type": "code",
   "execution_count": 208,
   "metadata": {},
   "outputs": [
    {
     "name": "stderr",
     "output_type": "stream",
     "text": [
      "/usr/local/lib/python3.7/site-packages/ipykernel/ipkernel.py:287: DeprecationWarning: `should_run_async` will not call `transform_cell` automatically in the future. Please pass the result to `transformed_cell` argument and any exception that happen during thetransform in `preprocessing_exc_tuple` in IPython 7.17 and above.\n",
      "  and should_run_async(code)\n"
     ]
    },
    {
     "name": "stdout",
     "output_type": "stream",
     "text": [
      "Best Model's Params:  {'learning_decay': 0.7, 'n_components': 10}\n",
      "Best Log Likelihood Score:  -5776270.394501383\n",
      "Model Perplexity:  61783.14997237051\n"
     ]
    }
   ],
   "source": [
    "# Best Model\n",
    "best_lda_model = model.best_estimator_\n",
    "\n",
    "# Model Parameters\n",
    "print(\"Best Model's Params: \", model.best_params_)\n",
    "\n",
    "# Log Likelihood Score\n",
    "print(\"Best Log Likelihood Score: \", model.best_score_)\n",
    "\n",
    "# Perplexity\n",
    "print(\"Model Perplexity: \", best_lda_model.perplexity(data_vectorized))"
   ]
  },
  {
   "cell_type": "code",
   "execution_count": 209,
   "metadata": {},
   "outputs": [
    {
     "name": "stderr",
     "output_type": "stream",
     "text": [
      "/usr/local/lib/python3.7/site-packages/ipykernel/ipkernel.py:287: DeprecationWarning: `should_run_async` will not call `transform_cell` automatically in the future. Please pass the result to `transformed_cell` argument and any exception that happen during thetransform in `preprocessing_exc_tuple` in IPython 7.17 and above.\n",
      "  and should_run_async(code)\n"
     ]
    }
   ],
   "source": [
    "#Defining a function to loop over number of topics to be used to find an \n",
    "#optimal number of tipics\n",
    "def compute_coherence_values(dictionary, corpus, texts, limit, start=2, step=3):\n",
    "    \"\"\"\n",
    "    Compute c_v coherence for various number of topics\n",
    "\n",
    "    Parameters:\n",
    "    ----------\n",
    "    dictionary : Gensim dictionary\n",
    "    corpus : Gensim corpus\n",
    "    texts : List of input texts\n",
    "    limit : Max num of topics\n",
    "\n",
    "    Returns:\n",
    "    -------\n",
    "    model_list : List of LDA topic models\n",
    "    coherence_values : Coherence values corresponding to the \n",
    "    LDA model with respective number of topics\n",
    "    \"\"\"\n",
    "    coherence_values_topic = []\n",
    "    model_list_topic = []\n",
    "    for num_topics in range(start, limit, step):\n",
    "        model = LdaMulticore(corpus=corpus, num_topics=num_topics, id2word=id2word)\n",
    "        model_list_topic.append(model)\n",
    "        coherencemodel = CoherenceModel(model=model, texts=texts, dictionary=dictionary, coherence='c_v')\n",
    "        coherence_values_topic.append(coherencemodel.get_coherence())\n",
    "\n",
    "    return model_list_topic, coherence_values_topic"
   ]
  },
  {
   "cell_type": "code",
   "execution_count": 210,
   "metadata": {},
   "outputs": [
    {
     "name": "stderr",
     "output_type": "stream",
     "text": [
      "/usr/local/lib/python3.7/site-packages/ipykernel/ipkernel.py:287: DeprecationWarning: `should_run_async` will not call `transform_cell` automatically in the future. Please pass the result to `transformed_cell` argument and any exception that happen during thetransform in `preprocessing_exc_tuple` in IPython 7.17 and above.\n",
      "  and should_run_async(code)\n"
     ]
    }
   ],
   "source": [
    "# Can take a long time to run.\n",
    "model_list_topic, coherence_values_topic = compute_coherence_values(dictionary=id2word,\n",
    "                                                        corpus=corpus,\n",
    "                                                        texts=df['lemma_tokens'],\n",
    "                                                        start=2, limit=200, step=6)"
   ]
  },
  {
   "cell_type": "code",
   "execution_count": null,
   "metadata": {},
   "outputs": [],
   "source": []
  },
  {
   "cell_type": "code",
   "execution_count": null,
   "metadata": {},
   "outputs": [],
   "source": []
  },
  {
   "cell_type": "code",
   "execution_count": null,
   "metadata": {},
   "outputs": [],
   "source": []
  },
  {
   "cell_type": "code",
   "execution_count": null,
   "metadata": {},
   "outputs": [],
   "source": []
  },
  {
   "cell_type": "code",
   "execution_count": null,
   "metadata": {},
   "outputs": [],
   "source": []
  },
  {
   "cell_type": "code",
   "execution_count": null,
   "metadata": {},
   "outputs": [],
   "source": []
  },
  {
   "cell_type": "code",
   "execution_count": null,
   "metadata": {},
   "outputs": [],
   "source": []
  }
 ],
 "metadata": {
  "kernelspec": {
   "display_name": "Python 3",
   "language": "python",
   "name": "python3"
  },
  "language_info": {
   "codemirror_mode": {
    "name": "ipython",
    "version": 3
   },
   "file_extension": ".py",
   "mimetype": "text/x-python",
   "name": "python",
   "nbconvert_exporter": "python",
   "pygments_lexer": "ipython3",
   "version": "3.6.5"
  }
 },
 "nbformat": 4,
 "nbformat_minor": 4
}
